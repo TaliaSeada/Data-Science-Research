{
 "cells": [
  {
   "cell_type": "markdown",
   "metadata": {},
   "source": [
    "# Harnessing Machine Learning for interpersonal physical alignment"
   ]
  },
  {
   "cell_type": "code",
   "execution_count": 120,
   "metadata": {},
   "outputs": [],
   "source": [
    "#libraries\n",
    "import numpy as np \n",
    "import pandas as pd\n",
    "import cv2\n",
    "import matplotlib.pyplot as plt\n",
    "%matplotlib inline\n",
    "import seaborn as sns\n",
    "import os\n",
    "\n",
    "#preproccesing\n",
    "from sklearn.model_selection import train_test_split\n",
    "from sklearn.decomposition import PCA\n",
    "from sklearn.preprocessing import StandardScaler\n",
    "\n",
    "from sklearn.metrics import classification_report,f1_score\n",
    "from sklearn.metrics import accuracy_score\n",
    "from sklearn.model_selection import cross_val_score\n",
    "from sklearn import metrics\n",
    "from sklearn.metrics import confusion_matrix\n",
    "\n",
    "#models\n",
    "from sklearn.ensemble import AdaBoostClassifier\n",
    "from sklearn.linear_model import LogisticRegression\n",
    "from sklearn.naive_bayes import GaussianNB\n",
    "from sklearn.ensemble import RandomForestClassifier\n",
    "from sklearn.neighbors import KNeighborsClassifier\n",
    "from sklearn.tree import DecisionTreeClassifier\n",
    "from sklearn.dummy import DummyClassifier\n",
    "import xgboost\n",
    "from sklearn.ensemble import StackingClassifier\n",
    "from sklearn.ensemble import VotingClassifier\n",
    "\n",
    "import warnings\n",
    "warnings.filterwarnings('ignore')"
   ]
  },
  {
   "cell_type": "markdown",
   "metadata": {},
   "source": [
    "# Loading the data:"
   ]
  },
  {
   "cell_type": "code",
   "execution_count": 121,
   "metadata": {},
   "outputs": [],
   "source": [
    "columns = ['l_Frame ID', 'l_Hand Type',\n",
    "       'l_# hands', 'l_Position X', 'l_Position Y', 'l_Position Z', 'l_Velocity X',\n",
    "       'l_Velocity Y', 'l_Velocity Z', 'l_Pitch', 'l_Roll', 'l_Yaw', 'l_Wrist Pos X',\n",
    "       'l_Wrist Pos Y', 'l_Wrist Pos Z', 'l_Elbow pos X', 'l_Elbow Pos Y',\n",
    "       'l_Elbow Pos Z', 'l_Grab Strenth', 'l_Grab Angle', 'l_Pinch Strength',\n",
    "       'type',\n",
    "       'r_Frame ID', 'r_Hand Type',\n",
    "       'r_# hands', 'r_Position X', 'r_Position Y', 'r_Position Z', 'r_Velocity X',\n",
    "       'r_Velocity Y', 'r_Velocity Z', 'r_Pitch', 'r_Roll', 'r_Yaw', 'r_Wrist Pos X',\n",
    "       'r_Wrist Pos Y', 'r_Wrist Pos Z', 'r_Elbow pos X', 'r_Elbow Pos Y',\n",
    "       'r_Elbow Pos Z', 'r_Grab Strenth', 'r_Grab Angle', 'r_Pinch Strength',\n",
    "       'r_type']"
   ]
  },
  {
   "cell_type": "code",
   "execution_count": 122,
   "metadata": {},
   "outputs": [],
   "source": [
    "def load(name,HR):   \n",
    "    h = []\n",
    "    j = 0\n",
    "    for i in name:\n",
    "        df = pd.read_csv(i)        \n",
    "        if(name[j][-5:] == 'n.csv'):\n",
    "            df[\"type\"] = 'Spontan'\n",
    "        if(name[j][-5:] == 'c.csv'):\n",
    "            df[\"type\"] = 'Sync'\n",
    "        if(name[j][-5:] == 'e.csv'):  \n",
    "            df[\"type\"] = 'Alone'\n",
    "            HR[\"type\"] = 'Alone'\n",
    "            df = df[df[' Hand Type'] != 'right']\n",
    "            df = df.set_index(['Time'])\n",
    "            HR = HR.set_index(['Time'])\n",
    "            df = df.reset_index(drop=True)\n",
    "            HR = HR.reset_index(drop=True)             \n",
    "            f = pd.concat([df, HR], axis = 1)                \n",
    "            f.columns = columns\n",
    "            \n",
    "        if (name[j][-5:] != 'e.csv'):\n",
    "            df_l = df[df[' Hand Type']=='left']\n",
    "            df_r = df[df[' Hand Type']=='right']\n",
    "            df_l = df_l.set_index(['Time'])\n",
    "            df_r = df_r.set_index(['Time'])            \n",
    "            f = pd.concat([df_l,df_r], axis = 1)\n",
    "            f.columns = columns\n",
    "\n",
    "        j = j + 1\n",
    "        f = f.iloc[700:]\n",
    "        h.append(f)    \n",
    "    return h"
   ]
  },
  {
   "cell_type": "markdown",
   "metadata": {},
   "source": [
    "### Load right hand set"
   ]
  },
  {
   "cell_type": "code",
   "execution_count": 123,
   "metadata": {},
   "outputs": [
    {
     "data": {
      "text/html": [
       "<div>\n",
       "<style scoped>\n",
       "    .dataframe tbody tr th:only-of-type {\n",
       "        vertical-align: middle;\n",
       "    }\n",
       "\n",
       "    .dataframe tbody tr th {\n",
       "        vertical-align: top;\n",
       "    }\n",
       "\n",
       "    .dataframe thead th {\n",
       "        text-align: right;\n",
       "    }\n",
       "</style>\n",
       "<table border=\"1\" class=\"dataframe\">\n",
       "  <thead>\n",
       "    <tr style=\"text-align: right;\">\n",
       "      <th></th>\n",
       "      <th>Time</th>\n",
       "      <th>Frame ID</th>\n",
       "      <th>Hand Type</th>\n",
       "      <th># hands</th>\n",
       "      <th>Position X</th>\n",
       "      <th>Position Y</th>\n",
       "      <th>Position Z</th>\n",
       "      <th>Velocity X</th>\n",
       "      <th>Velocity Y</th>\n",
       "      <th>Velocity Z</th>\n",
       "      <th>...</th>\n",
       "      <th>Yaw</th>\n",
       "      <th>Wrist Pos X</th>\n",
       "      <th>Wrist Pos Y</th>\n",
       "      <th>Wrist Pos Z</th>\n",
       "      <th>Elbow pos X</th>\n",
       "      <th>Elbow Pos Y</th>\n",
       "      <th>Elbow Pos Z</th>\n",
       "      <th>Grab Strenth</th>\n",
       "      <th>Grab Angle</th>\n",
       "      <th>Pinch Strength</th>\n",
       "    </tr>\n",
       "  </thead>\n",
       "  <tbody>\n",
       "    <tr>\n",
       "      <th>0</th>\n",
       "      <td>128.2883</td>\n",
       "      <td>15478</td>\n",
       "      <td>right</td>\n",
       "      <td>1</td>\n",
       "      <td>15.671670</td>\n",
       "      <td>226.2064</td>\n",
       "      <td>20.264700</td>\n",
       "      <td>34.26665</td>\n",
       "      <td>-195.214700</td>\n",
       "      <td>-35.043020</td>\n",
       "      <td>...</td>\n",
       "      <td>-0.277800</td>\n",
       "      <td>46.88831</td>\n",
       "      <td>207.3548</td>\n",
       "      <td>86.23589</td>\n",
       "      <td>203.8337</td>\n",
       "      <td>49.33507</td>\n",
       "      <td>237.4553</td>\n",
       "      <td>0.0</td>\n",
       "      <td>0.206389</td>\n",
       "      <td>0.0</td>\n",
       "    </tr>\n",
       "    <tr>\n",
       "      <th>1</th>\n",
       "      <td>128.3048</td>\n",
       "      <td>15480</td>\n",
       "      <td>right</td>\n",
       "      <td>1</td>\n",
       "      <td>16.241190</td>\n",
       "      <td>222.9389</td>\n",
       "      <td>20.117810</td>\n",
       "      <td>36.16443</td>\n",
       "      <td>-180.093900</td>\n",
       "      <td>-4.052799</td>\n",
       "      <td>...</td>\n",
       "      <td>-0.277763</td>\n",
       "      <td>47.54861</td>\n",
       "      <td>205.6568</td>\n",
       "      <td>86.42250</td>\n",
       "      <td>203.9553</td>\n",
       "      <td>47.88272</td>\n",
       "      <td>238.4482</td>\n",
       "      <td>0.0</td>\n",
       "      <td>0.243050</td>\n",
       "      <td>0.0</td>\n",
       "    </tr>\n",
       "    <tr>\n",
       "      <th>2</th>\n",
       "      <td>128.3218</td>\n",
       "      <td>15482</td>\n",
       "      <td>right</td>\n",
       "      <td>1</td>\n",
       "      <td>16.724610</td>\n",
       "      <td>220.9709</td>\n",
       "      <td>19.949720</td>\n",
       "      <td>26.35298</td>\n",
       "      <td>-95.088190</td>\n",
       "      <td>-11.157620</td>\n",
       "      <td>...</td>\n",
       "      <td>-0.278792</td>\n",
       "      <td>48.15030</td>\n",
       "      <td>204.5182</td>\n",
       "      <td>86.35149</td>\n",
       "      <td>204.6231</td>\n",
       "      <td>45.35921</td>\n",
       "      <td>236.8544</td>\n",
       "      <td>0.0</td>\n",
       "      <td>0.281134</td>\n",
       "      <td>0.0</td>\n",
       "    </tr>\n",
       "    <tr>\n",
       "      <th>3</th>\n",
       "      <td>128.3384</td>\n",
       "      <td>15484</td>\n",
       "      <td>right</td>\n",
       "      <td>1</td>\n",
       "      <td>17.090160</td>\n",
       "      <td>219.7124</td>\n",
       "      <td>19.676790</td>\n",
       "      <td>19.46804</td>\n",
       "      <td>-61.755180</td>\n",
       "      <td>-21.303780</td>\n",
       "      <td>...</td>\n",
       "      <td>-0.279768</td>\n",
       "      <td>48.64175</td>\n",
       "      <td>203.9989</td>\n",
       "      <td>86.16056</td>\n",
       "      <td>204.9939</td>\n",
       "      <td>44.18692</td>\n",
       "      <td>236.0927</td>\n",
       "      <td>0.0</td>\n",
       "      <td>0.277691</td>\n",
       "      <td>0.0</td>\n",
       "    </tr>\n",
       "    <tr>\n",
       "      <th>4</th>\n",
       "      <td>128.3551</td>\n",
       "      <td>15486</td>\n",
       "      <td>right</td>\n",
       "      <td>1</td>\n",
       "      <td>17.460170</td>\n",
       "      <td>219.3652</td>\n",
       "      <td>19.131280</td>\n",
       "      <td>21.94964</td>\n",
       "      <td>-8.355943</td>\n",
       "      <td>-35.081790</td>\n",
       "      <td>...</td>\n",
       "      <td>-0.278629</td>\n",
       "      <td>48.93135</td>\n",
       "      <td>203.3777</td>\n",
       "      <td>85.59017</td>\n",
       "      <td>204.5952</td>\n",
       "      <td>42.68003</td>\n",
       "      <td>235.2896</td>\n",
       "      <td>0.0</td>\n",
       "      <td>0.283008</td>\n",
       "      <td>0.0</td>\n",
       "    </tr>\n",
       "    <tr>\n",
       "      <th>...</th>\n",
       "      <td>...</td>\n",
       "      <td>...</td>\n",
       "      <td>...</td>\n",
       "      <td>...</td>\n",
       "      <td>...</td>\n",
       "      <td>...</td>\n",
       "      <td>...</td>\n",
       "      <td>...</td>\n",
       "      <td>...</td>\n",
       "      <td>...</td>\n",
       "      <td>...</td>\n",
       "      <td>...</td>\n",
       "      <td>...</td>\n",
       "      <td>...</td>\n",
       "      <td>...</td>\n",
       "      <td>...</td>\n",
       "      <td>...</td>\n",
       "      <td>...</td>\n",
       "      <td>...</td>\n",
       "      <td>...</td>\n",
       "      <td>...</td>\n",
       "    </tr>\n",
       "    <tr>\n",
       "      <th>4807</th>\n",
       "      <td>208.1942</td>\n",
       "      <td>24687</td>\n",
       "      <td>right</td>\n",
       "      <td>1</td>\n",
       "      <td>-15.404800</td>\n",
       "      <td>208.0276</td>\n",
       "      <td>9.980799</td>\n",
       "      <td>167.86240</td>\n",
       "      <td>510.085200</td>\n",
       "      <td>-105.529500</td>\n",
       "      <td>...</td>\n",
       "      <td>-0.282299</td>\n",
       "      <td>NaN</td>\n",
       "      <td>NaN</td>\n",
       "      <td>NaN</td>\n",
       "      <td>NaN</td>\n",
       "      <td>NaN</td>\n",
       "      <td>NaN</td>\n",
       "      <td>0.0</td>\n",
       "      <td>0.503490</td>\n",
       "      <td>0.0</td>\n",
       "    </tr>\n",
       "    <tr>\n",
       "      <th>4808</th>\n",
       "      <td>208.2108</td>\n",
       "      <td>24689</td>\n",
       "      <td>right</td>\n",
       "      <td>1</td>\n",
       "      <td>-12.678650</td>\n",
       "      <td>218.1196</td>\n",
       "      <td>9.314082</td>\n",
       "      <td>145.00970</td>\n",
       "      <td>562.359400</td>\n",
       "      <td>-20.707010</td>\n",
       "      <td>...</td>\n",
       "      <td>-0.263492</td>\n",
       "      <td>NaN</td>\n",
       "      <td>NaN</td>\n",
       "      <td>NaN</td>\n",
       "      <td>NaN</td>\n",
       "      <td>NaN</td>\n",
       "      <td>NaN</td>\n",
       "      <td>0.0</td>\n",
       "      <td>0.403687</td>\n",
       "      <td>0.0</td>\n",
       "    </tr>\n",
       "    <tr>\n",
       "      <th>4809</th>\n",
       "      <td>208.2276</td>\n",
       "      <td>24691</td>\n",
       "      <td>right</td>\n",
       "      <td>1</td>\n",
       "      <td>-9.643562</td>\n",
       "      <td>228.2807</td>\n",
       "      <td>9.722980</td>\n",
       "      <td>180.42160</td>\n",
       "      <td>591.901900</td>\n",
       "      <td>28.880570</td>\n",
       "      <td>...</td>\n",
       "      <td>-0.234336</td>\n",
       "      <td>NaN</td>\n",
       "      <td>NaN</td>\n",
       "      <td>NaN</td>\n",
       "      <td>NaN</td>\n",
       "      <td>NaN</td>\n",
       "      <td>NaN</td>\n",
       "      <td>0.0</td>\n",
       "      <td>0.310940</td>\n",
       "      <td>0.0</td>\n",
       "    </tr>\n",
       "    <tr>\n",
       "      <th>4810</th>\n",
       "      <td>208.2443</td>\n",
       "      <td>24692</td>\n",
       "      <td>right</td>\n",
       "      <td>1</td>\n",
       "      <td>-7.980715</td>\n",
       "      <td>233.5056</td>\n",
       "      <td>10.419080</td>\n",
       "      <td>192.45930</td>\n",
       "      <td>604.734400</td>\n",
       "      <td>80.566980</td>\n",
       "      <td>...</td>\n",
       "      <td>-0.222084</td>\n",
       "      <td>NaN</td>\n",
       "      <td>NaN</td>\n",
       "      <td>NaN</td>\n",
       "      <td>NaN</td>\n",
       "      <td>NaN</td>\n",
       "      <td>NaN</td>\n",
       "      <td>0.0</td>\n",
       "      <td>0.286526</td>\n",
       "      <td>0.0</td>\n",
       "    </tr>\n",
       "    <tr>\n",
       "      <th>4811</th>\n",
       "      <td>208.2619</td>\n",
       "      <td>24694</td>\n",
       "      <td>right</td>\n",
       "      <td>1</td>\n",
       "      <td>-4.468731</td>\n",
       "      <td>243.8388</td>\n",
       "      <td>12.266750</td>\n",
       "      <td>212.20430</td>\n",
       "      <td>589.477800</td>\n",
       "      <td>133.989800</td>\n",
       "      <td>...</td>\n",
       "      <td>-0.208401</td>\n",
       "      <td>NaN</td>\n",
       "      <td>NaN</td>\n",
       "      <td>NaN</td>\n",
       "      <td>NaN</td>\n",
       "      <td>NaN</td>\n",
       "      <td>NaN</td>\n",
       "      <td>0.0</td>\n",
       "      <td>0.237838</td>\n",
       "      <td>0.0</td>\n",
       "    </tr>\n",
       "  </tbody>\n",
       "</table>\n",
       "<p>4812 rows × 22 columns</p>\n",
       "</div>"
      ],
      "text/plain": [
       "          Time   Frame ID  Hand Type   # hands   Position X   Position Y  \\\n",
       "0     128.2883      15478      right         1    15.671670     226.2064   \n",
       "1     128.3048      15480      right         1    16.241190     222.9389   \n",
       "2     128.3218      15482      right         1    16.724610     220.9709   \n",
       "3     128.3384      15484      right         1    17.090160     219.7124   \n",
       "4     128.3551      15486      right         1    17.460170     219.3652   \n",
       "...        ...        ...        ...       ...          ...          ...   \n",
       "4807  208.1942      24687      right         1   -15.404800     208.0276   \n",
       "4808  208.2108      24689      right         1   -12.678650     218.1196   \n",
       "4809  208.2276      24691      right         1    -9.643562     228.2807   \n",
       "4810  208.2443      24692      right         1    -7.980715     233.5056   \n",
       "4811  208.2619      24694      right         1    -4.468731     243.8388   \n",
       "\n",
       "       Position Z   Velocity X   Velocity Y   Velocity Z  ...       Yaw  \\\n",
       "0       20.264700     34.26665  -195.214700   -35.043020  ... -0.277800   \n",
       "1       20.117810     36.16443  -180.093900    -4.052799  ... -0.277763   \n",
       "2       19.949720     26.35298   -95.088190   -11.157620  ... -0.278792   \n",
       "3       19.676790     19.46804   -61.755180   -21.303780  ... -0.279768   \n",
       "4       19.131280     21.94964    -8.355943   -35.081790  ... -0.278629   \n",
       "...           ...          ...          ...          ...  ...       ...   \n",
       "4807     9.980799    167.86240   510.085200  -105.529500  ... -0.282299   \n",
       "4808     9.314082    145.00970   562.359400   -20.707010  ... -0.263492   \n",
       "4809     9.722980    180.42160   591.901900    28.880570  ... -0.234336   \n",
       "4810    10.419080    192.45930   604.734400    80.566980  ... -0.222084   \n",
       "4811    12.266750    212.20430   589.477800   133.989800  ... -0.208401   \n",
       "\n",
       "       Wrist Pos X   Wrist Pos Y   Wrist Pos Z   Elbow pos X   Elbow Pos Y  \\\n",
       "0         46.88831      207.3548      86.23589      203.8337      49.33507   \n",
       "1         47.54861      205.6568      86.42250      203.9553      47.88272   \n",
       "2         48.15030      204.5182      86.35149      204.6231      45.35921   \n",
       "3         48.64175      203.9989      86.16056      204.9939      44.18692   \n",
       "4         48.93135      203.3777      85.59017      204.5952      42.68003   \n",
       "...            ...           ...           ...           ...           ...   \n",
       "4807           NaN           NaN           NaN           NaN           NaN   \n",
       "4808           NaN           NaN           NaN           NaN           NaN   \n",
       "4809           NaN           NaN           NaN           NaN           NaN   \n",
       "4810           NaN           NaN           NaN           NaN           NaN   \n",
       "4811           NaN           NaN           NaN           NaN           NaN   \n",
       "\n",
       "       Elbow Pos Z   Grab Strenth   Grab Angle   Pinch Strength  \n",
       "0         237.4553            0.0     0.206389              0.0  \n",
       "1         238.4482            0.0     0.243050              0.0  \n",
       "2         236.8544            0.0     0.281134              0.0  \n",
       "3         236.0927            0.0     0.277691              0.0  \n",
       "4         235.2896            0.0     0.283008              0.0  \n",
       "...            ...            ...          ...              ...  \n",
       "4807           NaN            0.0     0.503490              0.0  \n",
       "4808           NaN            0.0     0.403687              0.0  \n",
       "4809           NaN            0.0     0.310940              0.0  \n",
       "4810           NaN            0.0     0.286526              0.0  \n",
       "4811           NaN            0.0     0.237838              0.0  \n",
       "\n",
       "[4812 rows x 22 columns]"
      ]
     },
     "execution_count": 123,
     "metadata": {},
     "output_type": "execute_result"
    }
   ],
   "source": [
    "right_alone_path = r'C:\\Users\\talia\\OneDrive\\שולחן העבודה\\CS BA\\שנה א\\Semester B\\Data Science Project B\\קבצים לעבודת גמר\\extraFiles/HandRight.csv'\n",
    "right_alone_df = pd.read_csv(right_alone_path)\n",
    "right_alone_df"
   ]
  },
  {
   "cell_type": "code",
   "execution_count": 124,
   "metadata": {},
   "outputs": [
    {
     "data": {
      "text/plain": [
       "Index(['Time', ' Frame ID', ' Hand Type', ' # hands', ' Position X',\n",
       "       ' Position Y', ' Position Z', ' Velocity X', ' Velocity Y',\n",
       "       ' Velocity Z', ' Pitch', ' Roll', ' Yaw', ' Wrist Pos X',\n",
       "       ' Wrist Pos Y', ' Wrist Pos Z', ' Elbow pos X', ' Elbow Pos Y',\n",
       "       ' Elbow Pos Z', ' Grab Strenth', ' Grab Angle', ' Pinch Strength'],\n",
       "      dtype='object')"
      ]
     },
     "execution_count": 124,
     "metadata": {},
     "output_type": "execute_result"
    }
   ],
   "source": [
    "right_alone_df.columns"
   ]
  },
  {
   "cell_type": "code",
   "execution_count": 125,
   "metadata": {},
   "outputs": [
    {
     "data": {
      "text/html": [
       "<div>\n",
       "<style scoped>\n",
       "    .dataframe tbody tr th:only-of-type {\n",
       "        vertical-align: middle;\n",
       "    }\n",
       "\n",
       "    .dataframe tbody tr th {\n",
       "        vertical-align: top;\n",
       "    }\n",
       "\n",
       "    .dataframe thead th {\n",
       "        text-align: right;\n",
       "    }\n",
       "</style>\n",
       "<table border=\"1\" class=\"dataframe\">\n",
       "  <thead>\n",
       "    <tr style=\"text-align: right;\">\n",
       "      <th></th>\n",
       "      <th>Time</th>\n",
       "      <th>Frame ID</th>\n",
       "      <th># hands</th>\n",
       "      <th>Position X</th>\n",
       "      <th>Position Y</th>\n",
       "      <th>Position Z</th>\n",
       "      <th>Velocity X</th>\n",
       "      <th>Velocity Y</th>\n",
       "      <th>Velocity Z</th>\n",
       "      <th>Pitch</th>\n",
       "      <th>...</th>\n",
       "      <th>Yaw</th>\n",
       "      <th>Wrist Pos X</th>\n",
       "      <th>Wrist Pos Y</th>\n",
       "      <th>Wrist Pos Z</th>\n",
       "      <th>Elbow pos X</th>\n",
       "      <th>Elbow Pos Y</th>\n",
       "      <th>Elbow Pos Z</th>\n",
       "      <th>Grab Strenth</th>\n",
       "      <th>Grab Angle</th>\n",
       "      <th>Pinch Strength</th>\n",
       "    </tr>\n",
       "    <tr>\n",
       "      <th>Hand Type</th>\n",
       "      <th></th>\n",
       "      <th></th>\n",
       "      <th></th>\n",
       "      <th></th>\n",
       "      <th></th>\n",
       "      <th></th>\n",
       "      <th></th>\n",
       "      <th></th>\n",
       "      <th></th>\n",
       "      <th></th>\n",
       "      <th></th>\n",
       "      <th></th>\n",
       "      <th></th>\n",
       "      <th></th>\n",
       "      <th></th>\n",
       "      <th></th>\n",
       "      <th></th>\n",
       "      <th></th>\n",
       "      <th></th>\n",
       "      <th></th>\n",
       "      <th></th>\n",
       "    </tr>\n",
       "  </thead>\n",
       "  <tbody>\n",
       "    <tr>\n",
       "      <th>left</th>\n",
       "      <td>74</td>\n",
       "      <td>74</td>\n",
       "      <td>74</td>\n",
       "      <td>74</td>\n",
       "      <td>74</td>\n",
       "      <td>74</td>\n",
       "      <td>74</td>\n",
       "      <td>74</td>\n",
       "      <td>74</td>\n",
       "      <td>74</td>\n",
       "      <td>...</td>\n",
       "      <td>74</td>\n",
       "      <td>74</td>\n",
       "      <td>74</td>\n",
       "      <td>74</td>\n",
       "      <td>74</td>\n",
       "      <td>74</td>\n",
       "      <td>74</td>\n",
       "      <td>74</td>\n",
       "      <td>74</td>\n",
       "      <td>74</td>\n",
       "    </tr>\n",
       "    <tr>\n",
       "      <th>right</th>\n",
       "      <td>4738</td>\n",
       "      <td>4738</td>\n",
       "      <td>4738</td>\n",
       "      <td>4738</td>\n",
       "      <td>4738</td>\n",
       "      <td>4738</td>\n",
       "      <td>4738</td>\n",
       "      <td>4738</td>\n",
       "      <td>4738</td>\n",
       "      <td>4738</td>\n",
       "      <td>...</td>\n",
       "      <td>4738</td>\n",
       "      <td>4354</td>\n",
       "      <td>4354</td>\n",
       "      <td>4354</td>\n",
       "      <td>4354</td>\n",
       "      <td>4354</td>\n",
       "      <td>4354</td>\n",
       "      <td>4738</td>\n",
       "      <td>4738</td>\n",
       "      <td>4738</td>\n",
       "    </tr>\n",
       "  </tbody>\n",
       "</table>\n",
       "<p>2 rows × 21 columns</p>\n",
       "</div>"
      ],
      "text/plain": [
       "            Time   Frame ID   # hands   Position X   Position Y   Position Z  \\\n",
       " Hand Type                                                                     \n",
       "left          74         74        74           74           74           74   \n",
       "right       4738       4738      4738         4738         4738         4738   \n",
       "\n",
       "             Velocity X   Velocity Y   Velocity Z   Pitch  ...   Yaw  \\\n",
       " Hand Type                                                 ...         \n",
       "left                 74           74           74      74  ...    74   \n",
       "right              4738         4738         4738    4738  ...  4738   \n",
       "\n",
       "             Wrist Pos X   Wrist Pos Y   Wrist Pos Z   Elbow pos X  \\\n",
       " Hand Type                                                           \n",
       "left                  74            74            74            74   \n",
       "right               4354          4354          4354          4354   \n",
       "\n",
       "             Elbow Pos Y   Elbow Pos Z   Grab Strenth   Grab Angle  \\\n",
       " Hand Type                                                           \n",
       "left                  74            74             74           74   \n",
       "right               4354          4354           4738         4738   \n",
       "\n",
       "             Pinch Strength  \n",
       " Hand Type                   \n",
       "left                     74  \n",
       "right                  4738  \n",
       "\n",
       "[2 rows x 21 columns]"
      ]
     },
     "execution_count": 125,
     "metadata": {},
     "output_type": "execute_result"
    }
   ],
   "source": [
    "right_alone_df.groupby([' Hand Type']).count()"
   ]
  },
  {
   "cell_type": "code",
   "execution_count": 126,
   "metadata": {},
   "outputs": [
    {
     "data": {
      "text/html": [
       "<div>\n",
       "<style scoped>\n",
       "    .dataframe tbody tr th:only-of-type {\n",
       "        vertical-align: middle;\n",
       "    }\n",
       "\n",
       "    .dataframe tbody tr th {\n",
       "        vertical-align: top;\n",
       "    }\n",
       "\n",
       "    .dataframe thead th {\n",
       "        text-align: right;\n",
       "    }\n",
       "</style>\n",
       "<table border=\"1\" class=\"dataframe\">\n",
       "  <thead>\n",
       "    <tr style=\"text-align: right;\">\n",
       "      <th></th>\n",
       "      <th>Time</th>\n",
       "      <th>Frame ID</th>\n",
       "      <th># hands</th>\n",
       "      <th>Position X</th>\n",
       "      <th>Position Y</th>\n",
       "      <th>Position Z</th>\n",
       "      <th>Velocity X</th>\n",
       "      <th>Velocity Y</th>\n",
       "      <th>Velocity Z</th>\n",
       "      <th>Pitch</th>\n",
       "      <th>...</th>\n",
       "      <th>Yaw</th>\n",
       "      <th>Wrist Pos X</th>\n",
       "      <th>Wrist Pos Y</th>\n",
       "      <th>Wrist Pos Z</th>\n",
       "      <th>Elbow pos X</th>\n",
       "      <th>Elbow Pos Y</th>\n",
       "      <th>Elbow Pos Z</th>\n",
       "      <th>Grab Strenth</th>\n",
       "      <th>Grab Angle</th>\n",
       "      <th>Pinch Strength</th>\n",
       "    </tr>\n",
       "    <tr>\n",
       "      <th>Hand Type</th>\n",
       "      <th></th>\n",
       "      <th></th>\n",
       "      <th></th>\n",
       "      <th></th>\n",
       "      <th></th>\n",
       "      <th></th>\n",
       "      <th></th>\n",
       "      <th></th>\n",
       "      <th></th>\n",
       "      <th></th>\n",
       "      <th></th>\n",
       "      <th></th>\n",
       "      <th></th>\n",
       "      <th></th>\n",
       "      <th></th>\n",
       "      <th></th>\n",
       "      <th></th>\n",
       "      <th></th>\n",
       "      <th></th>\n",
       "      <th></th>\n",
       "      <th></th>\n",
       "    </tr>\n",
       "  </thead>\n",
       "  <tbody>\n",
       "    <tr>\n",
       "      <th>right</th>\n",
       "      <td>4738</td>\n",
       "      <td>4738</td>\n",
       "      <td>4738</td>\n",
       "      <td>4738</td>\n",
       "      <td>4738</td>\n",
       "      <td>4738</td>\n",
       "      <td>4738</td>\n",
       "      <td>4738</td>\n",
       "      <td>4738</td>\n",
       "      <td>4738</td>\n",
       "      <td>...</td>\n",
       "      <td>4738</td>\n",
       "      <td>4354</td>\n",
       "      <td>4354</td>\n",
       "      <td>4354</td>\n",
       "      <td>4354</td>\n",
       "      <td>4354</td>\n",
       "      <td>4354</td>\n",
       "      <td>4738</td>\n",
       "      <td>4738</td>\n",
       "      <td>4738</td>\n",
       "    </tr>\n",
       "  </tbody>\n",
       "</table>\n",
       "<p>1 rows × 21 columns</p>\n",
       "</div>"
      ],
      "text/plain": [
       "            Time   Frame ID   # hands   Position X   Position Y   Position Z  \\\n",
       " Hand Type                                                                     \n",
       "right       4738       4738      4738         4738         4738         4738   \n",
       "\n",
       "             Velocity X   Velocity Y   Velocity Z   Pitch  ...   Yaw  \\\n",
       " Hand Type                                                 ...         \n",
       "right              4738         4738         4738    4738  ...  4738   \n",
       "\n",
       "             Wrist Pos X   Wrist Pos Y   Wrist Pos Z   Elbow pos X  \\\n",
       " Hand Type                                                           \n",
       "right               4354          4354          4354          4354   \n",
       "\n",
       "             Elbow Pos Y   Elbow Pos Z   Grab Strenth   Grab Angle  \\\n",
       " Hand Type                                                           \n",
       "right               4354          4354           4738         4738   \n",
       "\n",
       "             Pinch Strength  \n",
       " Hand Type                   \n",
       "right                  4738  \n",
       "\n",
       "[1 rows x 21 columns]"
      ]
     },
     "execution_count": 126,
     "metadata": {},
     "output_type": "execute_result"
    }
   ],
   "source": [
    "right_alone_df = right_alone_df[right_alone_df[' Hand Type'] != 'left']\n",
    "right_alone_df.groupby([' Hand Type']).count()"
   ]
  },
  {
   "cell_type": "code",
   "execution_count": 127,
   "metadata": {},
   "outputs": [
    {
     "data": {
      "text/plain": [
       "Index(['Time', ' Frame ID', ' Hand Type', ' # hands', ' Position X',\n",
       "       ' Position Y', ' Position Z', ' Velocity X', ' Velocity Y',\n",
       "       ' Velocity Z', ' Pitch', ' Roll', ' Yaw', ' Wrist Pos X',\n",
       "       ' Wrist Pos Y', ' Wrist Pos Z', ' Elbow pos X', ' Elbow Pos Y',\n",
       "       ' Elbow Pos Z', ' Grab Strenth', ' Grab Angle', ' Pinch Strength'],\n",
       "      dtype='object')"
      ]
     },
     "execution_count": 127,
     "metadata": {},
     "output_type": "execute_result"
    }
   ],
   "source": [
    "right_alone_df.columns"
   ]
  },
  {
   "cell_type": "markdown",
   "metadata": {},
   "source": [
    "### Load test"
   ]
  },
  {
   "cell_type": "code",
   "execution_count": 128,
   "metadata": {},
   "outputs": [],
   "source": [
    "ItielLab_path = r'C:\\Users\\talia\\OneDrive\\שולחן העבודה\\CS BA\\שנה א\\Semester B\\Data Science Project B\\קבצים לעבודת גמר\\extraFiles\\Validation\\Itiel Lab/'\n",
    "MorSHerman_path = r'C:\\Users\\talia\\OneDrive\\שולחן העבודה\\CS BA\\שנה א\\Semester B\\Data Science Project B\\קבצים לעבודת גמר\\extraFiles\\Validation\\Mor SHerman/'\n",
    "OdedMedina_path = r'C:\\Users\\talia\\OneDrive\\שולחן העבודה\\CS BA\\שנה א\\Semester B\\Data Science Project B\\קבצים לעבודת גמר\\extraFiles\\Validation\\Oded Medina/'\n",
    "ItielLab = [ItielLab_path + i for i in os.listdir(ItielLab_path)]\n",
    "MorSHerman = [MorSHerman_path + i for i in os.listdir(MorSHerman_path)]\n",
    "OdedMedina = [OdedMedina_path + i for i in os.listdir(OdedMedina_path)]"
   ]
  },
  {
   "cell_type": "code",
   "execution_count": 129,
   "metadata": {},
   "outputs": [],
   "source": [
    "Itiel = load(ItielLab,right_alone_df)\n",
    "Mor = load(MorSHerman,right_alone_df)\n",
    "Oded = load(OdedMedina,right_alone_df)"
   ]
  },
  {
   "cell_type": "code",
   "execution_count": 130,
   "metadata": {},
   "outputs": [],
   "source": [
    "ItielResult = pd.concat(Itiel)\n",
    "MorResult = pd.concat(Mor)\n",
    "OdedResult = pd.concat(Oded)"
   ]
  },
  {
   "cell_type": "code",
   "execution_count": 131,
   "metadata": {},
   "outputs": [
    {
     "data": {
      "text/html": [
       "<div>\n",
       "<style scoped>\n",
       "    .dataframe tbody tr th:only-of-type {\n",
       "        vertical-align: middle;\n",
       "    }\n",
       "\n",
       "    .dataframe tbody tr th {\n",
       "        vertical-align: top;\n",
       "    }\n",
       "\n",
       "    .dataframe thead th {\n",
       "        text-align: right;\n",
       "    }\n",
       "</style>\n",
       "<table border=\"1\" class=\"dataframe\">\n",
       "  <thead>\n",
       "    <tr style=\"text-align: right;\">\n",
       "      <th></th>\n",
       "      <th>l_Frame ID</th>\n",
       "      <th>l_Hand Type</th>\n",
       "      <th>l_# hands</th>\n",
       "      <th>l_Position X</th>\n",
       "      <th>l_Position Y</th>\n",
       "      <th>l_Position Z</th>\n",
       "      <th>l_Velocity X</th>\n",
       "      <th>l_Velocity Y</th>\n",
       "      <th>l_Velocity Z</th>\n",
       "      <th>l_Pitch</th>\n",
       "      <th>...</th>\n",
       "      <th>r_Wrist Pos X</th>\n",
       "      <th>r_Wrist Pos Y</th>\n",
       "      <th>r_Wrist Pos Z</th>\n",
       "      <th>r_Elbow pos X</th>\n",
       "      <th>r_Elbow Pos Y</th>\n",
       "      <th>r_Elbow Pos Z</th>\n",
       "      <th>r_Grab Strenth</th>\n",
       "      <th>r_Grab Angle</th>\n",
       "      <th>r_Pinch Strength</th>\n",
       "      <th>r_type</th>\n",
       "    </tr>\n",
       "  </thead>\n",
       "  <tbody>\n",
       "    <tr>\n",
       "      <th>783.8766</th>\n",
       "      <td>91656.0</td>\n",
       "      <td>left</td>\n",
       "      <td>2.0</td>\n",
       "      <td>-148.37290</td>\n",
       "      <td>201.5105</td>\n",
       "      <td>60.00438</td>\n",
       "      <td>-17.26907</td>\n",
       "      <td>-15.27103</td>\n",
       "      <td>32.07042</td>\n",
       "      <td>1.496495</td>\n",
       "      <td>...</td>\n",
       "      <td>149.0821</td>\n",
       "      <td>83.32772</td>\n",
       "      <td>33.62519</td>\n",
       "      <td>146.2059</td>\n",
       "      <td>-21.17127</td>\n",
       "      <td>257.3058</td>\n",
       "      <td>0.0</td>\n",
       "      <td>0.381800</td>\n",
       "      <td>0.0</td>\n",
       "      <td>Spontan</td>\n",
       "    </tr>\n",
       "    <tr>\n",
       "      <th>783.8931</th>\n",
       "      <td>91658.0</td>\n",
       "      <td>left</td>\n",
       "      <td>2.0</td>\n",
       "      <td>-148.48320</td>\n",
       "      <td>201.3344</td>\n",
       "      <td>60.68468</td>\n",
       "      <td>13.94115</td>\n",
       "      <td>-24.90545</td>\n",
       "      <td>40.09111</td>\n",
       "      <td>1.499708</td>\n",
       "      <td>...</td>\n",
       "      <td>150.5715</td>\n",
       "      <td>85.00555</td>\n",
       "      <td>33.45618</td>\n",
       "      <td>146.2230</td>\n",
       "      <td>-22.93286</td>\n",
       "      <td>255.5082</td>\n",
       "      <td>0.0</td>\n",
       "      <td>0.374947</td>\n",
       "      <td>0.0</td>\n",
       "      <td>Spontan</td>\n",
       "    </tr>\n",
       "    <tr>\n",
       "      <th>783.9097</th>\n",
       "      <td>91660.0</td>\n",
       "      <td>left</td>\n",
       "      <td>2.0</td>\n",
       "      <td>-148.08100</td>\n",
       "      <td>201.1309</td>\n",
       "      <td>61.29757</td>\n",
       "      <td>24.64978</td>\n",
       "      <td>-21.55522</td>\n",
       "      <td>34.20727</td>\n",
       "      <td>1.503604</td>\n",
       "      <td>...</td>\n",
       "      <td>152.1821</td>\n",
       "      <td>86.88781</td>\n",
       "      <td>33.26069</td>\n",
       "      <td>154.5666</td>\n",
       "      <td>-23.92799</td>\n",
       "      <td>253.9572</td>\n",
       "      <td>0.0</td>\n",
       "      <td>0.339523</td>\n",
       "      <td>0.0</td>\n",
       "      <td>Spontan</td>\n",
       "    </tr>\n",
       "    <tr>\n",
       "      <th>783.9263</th>\n",
       "      <td>91662.0</td>\n",
       "      <td>left</td>\n",
       "      <td>2.0</td>\n",
       "      <td>-147.19610</td>\n",
       "      <td>200.2499</td>\n",
       "      <td>61.93992</td>\n",
       "      <td>54.58652</td>\n",
       "      <td>-53.79900</td>\n",
       "      <td>43.02767</td>\n",
       "      <td>1.511389</td>\n",
       "      <td>...</td>\n",
       "      <td>153.6517</td>\n",
       "      <td>88.22997</td>\n",
       "      <td>32.91113</td>\n",
       "      <td>165.8814</td>\n",
       "      <td>-26.24262</td>\n",
       "      <td>251.4375</td>\n",
       "      <td>0.0</td>\n",
       "      <td>0.292715</td>\n",
       "      <td>0.0</td>\n",
       "      <td>Spontan</td>\n",
       "    </tr>\n",
       "    <tr>\n",
       "      <th>783.9428</th>\n",
       "      <td>91664.0</td>\n",
       "      <td>left</td>\n",
       "      <td>2.0</td>\n",
       "      <td>-146.27030</td>\n",
       "      <td>198.9451</td>\n",
       "      <td>62.54176</td>\n",
       "      <td>56.74417</td>\n",
       "      <td>-83.57710</td>\n",
       "      <td>30.72928</td>\n",
       "      <td>1.504369</td>\n",
       "      <td>...</td>\n",
       "      <td>154.9320</td>\n",
       "      <td>88.93008</td>\n",
       "      <td>32.50669</td>\n",
       "      <td>174.1423</td>\n",
       "      <td>-31.10865</td>\n",
       "      <td>247.5492</td>\n",
       "      <td>0.0</td>\n",
       "      <td>0.263266</td>\n",
       "      <td>0.0</td>\n",
       "      <td>Spontan</td>\n",
       "    </tr>\n",
       "    <tr>\n",
       "      <th>...</th>\n",
       "      <td>...</td>\n",
       "      <td>...</td>\n",
       "      <td>...</td>\n",
       "      <td>...</td>\n",
       "      <td>...</td>\n",
       "      <td>...</td>\n",
       "      <td>...</td>\n",
       "      <td>...</td>\n",
       "      <td>...</td>\n",
       "      <td>...</td>\n",
       "      <td>...</td>\n",
       "      <td>...</td>\n",
       "      <td>...</td>\n",
       "      <td>...</td>\n",
       "      <td>...</td>\n",
       "      <td>...</td>\n",
       "      <td>...</td>\n",
       "      <td>...</td>\n",
       "      <td>...</td>\n",
       "      <td>...</td>\n",
       "      <td>...</td>\n",
       "    </tr>\n",
       "    <tr>\n",
       "      <th>998.7513</th>\n",
       "      <td>66216.0</td>\n",
       "      <td>left</td>\n",
       "      <td>2.0</td>\n",
       "      <td>-98.32814</td>\n",
       "      <td>314.4973</td>\n",
       "      <td>75.12682</td>\n",
       "      <td>41.16818</td>\n",
       "      <td>115.85070</td>\n",
       "      <td>27.61459</td>\n",
       "      <td>1.611798</td>\n",
       "      <td>...</td>\n",
       "      <td>156.7337</td>\n",
       "      <td>255.09190</td>\n",
       "      <td>101.90250</td>\n",
       "      <td>341.0338</td>\n",
       "      <td>65.01146</td>\n",
       "      <td>125.5006</td>\n",
       "      <td>0.0</td>\n",
       "      <td>0.000000</td>\n",
       "      <td>0.0</td>\n",
       "      <td>Sync</td>\n",
       "    </tr>\n",
       "    <tr>\n",
       "      <th>998.7836</th>\n",
       "      <td>66219.0</td>\n",
       "      <td>left</td>\n",
       "      <td>2.0</td>\n",
       "      <td>-97.31071</td>\n",
       "      <td>319.5955</td>\n",
       "      <td>76.22157</td>\n",
       "      <td>31.36302</td>\n",
       "      <td>143.96100</td>\n",
       "      <td>30.50205</td>\n",
       "      <td>1.616390</td>\n",
       "      <td>...</td>\n",
       "      <td>157.5847</td>\n",
       "      <td>259.11920</td>\n",
       "      <td>102.11500</td>\n",
       "      <td>336.8353</td>\n",
       "      <td>64.01215</td>\n",
       "      <td>123.4790</td>\n",
       "      <td>0.0</td>\n",
       "      <td>0.000000</td>\n",
       "      <td>0.0</td>\n",
       "      <td>Sync</td>\n",
       "    </tr>\n",
       "    <tr>\n",
       "      <th>998.8158</th>\n",
       "      <td>66221.0</td>\n",
       "      <td>left</td>\n",
       "      <td>2.0</td>\n",
       "      <td>-96.74767</td>\n",
       "      <td>323.8981</td>\n",
       "      <td>76.98316</td>\n",
       "      <td>27.14988</td>\n",
       "      <td>185.62180</td>\n",
       "      <td>33.74187</td>\n",
       "      <td>1.619489</td>\n",
       "      <td>...</td>\n",
       "      <td>159.1932</td>\n",
       "      <td>263.27260</td>\n",
       "      <td>102.53110</td>\n",
       "      <td>332.9102</td>\n",
       "      <td>62.99343</td>\n",
       "      <td>121.6264</td>\n",
       "      <td>0.0</td>\n",
       "      <td>0.000000</td>\n",
       "      <td>0.0</td>\n",
       "      <td>Sync</td>\n",
       "    </tr>\n",
       "    <tr>\n",
       "      <th>998.8495</th>\n",
       "      <td>66224.0</td>\n",
       "      <td>left</td>\n",
       "      <td>2.0</td>\n",
       "      <td>-95.67720</td>\n",
       "      <td>329.8123</td>\n",
       "      <td>78.13316</td>\n",
       "      <td>47.37696</td>\n",
       "      <td>118.31670</td>\n",
       "      <td>24.15247</td>\n",
       "      <td>1.618042</td>\n",
       "      <td>...</td>\n",
       "      <td>163.0329</td>\n",
       "      <td>269.72170</td>\n",
       "      <td>103.07490</td>\n",
       "      <td>340.7914</td>\n",
       "      <td>72.96347</td>\n",
       "      <td>121.5707</td>\n",
       "      <td>0.0</td>\n",
       "      <td>0.024162</td>\n",
       "      <td>0.0</td>\n",
       "      <td>Sync</td>\n",
       "    </tr>\n",
       "    <tr>\n",
       "      <th>998.8855</th>\n",
       "      <td>66227.0</td>\n",
       "      <td>left</td>\n",
       "      <td>2.0</td>\n",
       "      <td>-94.29232</td>\n",
       "      <td>334.7815</td>\n",
       "      <td>78.81863</td>\n",
       "      <td>31.57111</td>\n",
       "      <td>132.41000</td>\n",
       "      <td>13.03400</td>\n",
       "      <td>1.617843</td>\n",
       "      <td>...</td>\n",
       "      <td>165.0616</td>\n",
       "      <td>270.79190</td>\n",
       "      <td>101.25900</td>\n",
       "      <td>344.8011</td>\n",
       "      <td>75.97822</td>\n",
       "      <td>121.1411</td>\n",
       "      <td>0.0</td>\n",
       "      <td>0.025365</td>\n",
       "      <td>0.0</td>\n",
       "      <td>Sync</td>\n",
       "    </tr>\n",
       "  </tbody>\n",
       "</table>\n",
       "<p>30457 rows × 44 columns</p>\n",
       "</div>"
      ],
      "text/plain": [
       "          l_Frame ID l_Hand Type  l_# hands  l_Position X  l_Position Y  \\\n",
       "783.8766     91656.0        left        2.0    -148.37290      201.5105   \n",
       "783.8931     91658.0        left        2.0    -148.48320      201.3344   \n",
       "783.9097     91660.0        left        2.0    -148.08100      201.1309   \n",
       "783.9263     91662.0        left        2.0    -147.19610      200.2499   \n",
       "783.9428     91664.0        left        2.0    -146.27030      198.9451   \n",
       "...              ...         ...        ...           ...           ...   \n",
       "998.7513     66216.0        left        2.0     -98.32814      314.4973   \n",
       "998.7836     66219.0        left        2.0     -97.31071      319.5955   \n",
       "998.8158     66221.0        left        2.0     -96.74767      323.8981   \n",
       "998.8495     66224.0        left        2.0     -95.67720      329.8123   \n",
       "998.8855     66227.0        left        2.0     -94.29232      334.7815   \n",
       "\n",
       "          l_Position Z  l_Velocity X  l_Velocity Y  l_Velocity Z   l_Pitch  \\\n",
       "783.8766      60.00438     -17.26907     -15.27103      32.07042  1.496495   \n",
       "783.8931      60.68468      13.94115     -24.90545      40.09111  1.499708   \n",
       "783.9097      61.29757      24.64978     -21.55522      34.20727  1.503604   \n",
       "783.9263      61.93992      54.58652     -53.79900      43.02767  1.511389   \n",
       "783.9428      62.54176      56.74417     -83.57710      30.72928  1.504369   \n",
       "...                ...           ...           ...           ...       ...   \n",
       "998.7513      75.12682      41.16818     115.85070      27.61459  1.611798   \n",
       "998.7836      76.22157      31.36302     143.96100      30.50205  1.616390   \n",
       "998.8158      76.98316      27.14988     185.62180      33.74187  1.619489   \n",
       "998.8495      78.13316      47.37696     118.31670      24.15247  1.618042   \n",
       "998.8855      78.81863      31.57111     132.41000      13.03400  1.617843   \n",
       "\n",
       "          ...  r_Wrist Pos X  r_Wrist Pos Y  r_Wrist Pos Z  r_Elbow pos X  \\\n",
       "783.8766  ...       149.0821       83.32772       33.62519       146.2059   \n",
       "783.8931  ...       150.5715       85.00555       33.45618       146.2230   \n",
       "783.9097  ...       152.1821       86.88781       33.26069       154.5666   \n",
       "783.9263  ...       153.6517       88.22997       32.91113       165.8814   \n",
       "783.9428  ...       154.9320       88.93008       32.50669       174.1423   \n",
       "...       ...            ...            ...            ...            ...   \n",
       "998.7513  ...       156.7337      255.09190      101.90250       341.0338   \n",
       "998.7836  ...       157.5847      259.11920      102.11500       336.8353   \n",
       "998.8158  ...       159.1932      263.27260      102.53110       332.9102   \n",
       "998.8495  ...       163.0329      269.72170      103.07490       340.7914   \n",
       "998.8855  ...       165.0616      270.79190      101.25900       344.8011   \n",
       "\n",
       "          r_Elbow Pos Y  r_Elbow Pos Z  r_Grab Strenth  r_Grab Angle  \\\n",
       "783.8766      -21.17127       257.3058             0.0      0.381800   \n",
       "783.8931      -22.93286       255.5082             0.0      0.374947   \n",
       "783.9097      -23.92799       253.9572             0.0      0.339523   \n",
       "783.9263      -26.24262       251.4375             0.0      0.292715   \n",
       "783.9428      -31.10865       247.5492             0.0      0.263266   \n",
       "...                 ...            ...             ...           ...   \n",
       "998.7513       65.01146       125.5006             0.0      0.000000   \n",
       "998.7836       64.01215       123.4790             0.0      0.000000   \n",
       "998.8158       62.99343       121.6264             0.0      0.000000   \n",
       "998.8495       72.96347       121.5707             0.0      0.024162   \n",
       "998.8855       75.97822       121.1411             0.0      0.025365   \n",
       "\n",
       "          r_Pinch Strength   r_type  \n",
       "783.8766               0.0  Spontan  \n",
       "783.8931               0.0  Spontan  \n",
       "783.9097               0.0  Spontan  \n",
       "783.9263               0.0  Spontan  \n",
       "783.9428               0.0  Spontan  \n",
       "...                    ...      ...  \n",
       "998.7513               0.0     Sync  \n",
       "998.7836               0.0     Sync  \n",
       "998.8158               0.0     Sync  \n",
       "998.8495               0.0     Sync  \n",
       "998.8855               0.0     Sync  \n",
       "\n",
       "[30457 rows x 44 columns]"
      ]
     },
     "execution_count": 131,
     "metadata": {},
     "output_type": "execute_result"
    }
   ],
   "source": [
    "test_csv = [ItielResult,MorResult,OdedResult]\n",
    "test_df = pd.concat(test_csv)\n",
    "test_df"
   ]
  },
  {
   "cell_type": "code",
   "execution_count": 132,
   "metadata": {},
   "outputs": [
    {
     "data": {
      "text/html": [
       "<div>\n",
       "<style scoped>\n",
       "    .dataframe tbody tr th:only-of-type {\n",
       "        vertical-align: middle;\n",
       "    }\n",
       "\n",
       "    .dataframe tbody tr th {\n",
       "        vertical-align: top;\n",
       "    }\n",
       "\n",
       "    .dataframe thead th {\n",
       "        text-align: right;\n",
       "    }\n",
       "</style>\n",
       "<table border=\"1\" class=\"dataframe\">\n",
       "  <thead>\n",
       "    <tr style=\"text-align: right;\">\n",
       "      <th></th>\n",
       "      <th>l_Frame ID</th>\n",
       "      <th>l_Hand Type</th>\n",
       "      <th>l_# hands</th>\n",
       "      <th>l_Position X</th>\n",
       "      <th>l_Position Y</th>\n",
       "      <th>l_Position Z</th>\n",
       "      <th>l_Velocity X</th>\n",
       "      <th>l_Velocity Y</th>\n",
       "      <th>l_Velocity Z</th>\n",
       "      <th>l_Pitch</th>\n",
       "      <th>...</th>\n",
       "      <th>r_Wrist Pos X</th>\n",
       "      <th>r_Wrist Pos Y</th>\n",
       "      <th>r_Wrist Pos Z</th>\n",
       "      <th>r_Elbow pos X</th>\n",
       "      <th>r_Elbow Pos Y</th>\n",
       "      <th>r_Elbow Pos Z</th>\n",
       "      <th>r_Grab Strenth</th>\n",
       "      <th>r_Grab Angle</th>\n",
       "      <th>r_Pinch Strength</th>\n",
       "      <th>r_type</th>\n",
       "    </tr>\n",
       "    <tr>\n",
       "      <th>type</th>\n",
       "      <th></th>\n",
       "      <th></th>\n",
       "      <th></th>\n",
       "      <th></th>\n",
       "      <th></th>\n",
       "      <th></th>\n",
       "      <th></th>\n",
       "      <th></th>\n",
       "      <th></th>\n",
       "      <th></th>\n",
       "      <th></th>\n",
       "      <th></th>\n",
       "      <th></th>\n",
       "      <th></th>\n",
       "      <th></th>\n",
       "      <th></th>\n",
       "      <th></th>\n",
       "      <th></th>\n",
       "      <th></th>\n",
       "      <th></th>\n",
       "      <th></th>\n",
       "    </tr>\n",
       "  </thead>\n",
       "  <tbody>\n",
       "    <tr>\n",
       "      <th>Alone</th>\n",
       "      <td>9149</td>\n",
       "      <td>9149</td>\n",
       "      <td>9149</td>\n",
       "      <td>9149</td>\n",
       "      <td>9149</td>\n",
       "      <td>9149</td>\n",
       "      <td>9149</td>\n",
       "      <td>9149</td>\n",
       "      <td>9149</td>\n",
       "      <td>9149</td>\n",
       "      <td>...</td>\n",
       "      <td>8858</td>\n",
       "      <td>8858</td>\n",
       "      <td>8858</td>\n",
       "      <td>8858</td>\n",
       "      <td>8858</td>\n",
       "      <td>8858</td>\n",
       "      <td>9149</td>\n",
       "      <td>9149</td>\n",
       "      <td>9149</td>\n",
       "      <td>9149</td>\n",
       "    </tr>\n",
       "    <tr>\n",
       "      <th>Spontan</th>\n",
       "      <td>9138</td>\n",
       "      <td>9138</td>\n",
       "      <td>9138</td>\n",
       "      <td>9138</td>\n",
       "      <td>9138</td>\n",
       "      <td>9138</td>\n",
       "      <td>9138</td>\n",
       "      <td>9138</td>\n",
       "      <td>9138</td>\n",
       "      <td>9138</td>\n",
       "      <td>...</td>\n",
       "      <td>9138</td>\n",
       "      <td>9138</td>\n",
       "      <td>9138</td>\n",
       "      <td>9138</td>\n",
       "      <td>9138</td>\n",
       "      <td>9138</td>\n",
       "      <td>9138</td>\n",
       "      <td>9138</td>\n",
       "      <td>9138</td>\n",
       "      <td>9138</td>\n",
       "    </tr>\n",
       "    <tr>\n",
       "      <th>Sync</th>\n",
       "      <td>8935</td>\n",
       "      <td>8935</td>\n",
       "      <td>8935</td>\n",
       "      <td>8935</td>\n",
       "      <td>8935</td>\n",
       "      <td>8935</td>\n",
       "      <td>8935</td>\n",
       "      <td>8935</td>\n",
       "      <td>8935</td>\n",
       "      <td>8935</td>\n",
       "      <td>...</td>\n",
       "      <td>8916</td>\n",
       "      <td>8916</td>\n",
       "      <td>8916</td>\n",
       "      <td>8916</td>\n",
       "      <td>8916</td>\n",
       "      <td>8916</td>\n",
       "      <td>8916</td>\n",
       "      <td>8916</td>\n",
       "      <td>8916</td>\n",
       "      <td>8916</td>\n",
       "    </tr>\n",
       "  </tbody>\n",
       "</table>\n",
       "<p>3 rows × 43 columns</p>\n",
       "</div>"
      ],
      "text/plain": [
       "         l_Frame ID  l_Hand Type  l_# hands  l_Position X  l_Position Y  \\\n",
       "type                                                                      \n",
       "Alone          9149         9149       9149          9149          9149   \n",
       "Spontan        9138         9138       9138          9138          9138   \n",
       "Sync           8935         8935       8935          8935          8935   \n",
       "\n",
       "         l_Position Z  l_Velocity X  l_Velocity Y  l_Velocity Z  l_Pitch  ...  \\\n",
       "type                                                                      ...   \n",
       "Alone            9149          9149          9149          9149     9149  ...   \n",
       "Spontan          9138          9138          9138          9138     9138  ...   \n",
       "Sync             8935          8935          8935          8935     8935  ...   \n",
       "\n",
       "         r_Wrist Pos X  r_Wrist Pos Y  r_Wrist Pos Z  r_Elbow pos X  \\\n",
       "type                                                                  \n",
       "Alone             8858           8858           8858           8858   \n",
       "Spontan           9138           9138           9138           9138   \n",
       "Sync              8916           8916           8916           8916   \n",
       "\n",
       "         r_Elbow Pos Y  r_Elbow Pos Z  r_Grab Strenth  r_Grab Angle  \\\n",
       "type                                                                  \n",
       "Alone             8858           8858            9149          9149   \n",
       "Spontan           9138           9138            9138          9138   \n",
       "Sync              8916           8916            8916          8916   \n",
       "\n",
       "         r_Pinch Strength  r_type  \n",
       "type                               \n",
       "Alone                9149    9149  \n",
       "Spontan              9138    9138  \n",
       "Sync                 8916    8916  \n",
       "\n",
       "[3 rows x 43 columns]"
      ]
     },
     "execution_count": 132,
     "metadata": {},
     "output_type": "execute_result"
    }
   ],
   "source": [
    "test_df.groupby(['type']).count()"
   ]
  },
  {
   "cell_type": "code",
   "execution_count": 133,
   "metadata": {},
   "outputs": [
    {
     "data": {
      "text/plain": [
       "Index(['l_Frame ID', 'l_Hand Type', 'l_# hands', 'l_Position X',\n",
       "       'l_Position Y', 'l_Position Z', 'l_Velocity X', 'l_Velocity Y',\n",
       "       'l_Velocity Z', 'l_Pitch', 'l_Roll', 'l_Yaw', 'l_Wrist Pos X',\n",
       "       'l_Wrist Pos Y', 'l_Wrist Pos Z', 'l_Elbow pos X', 'l_Elbow Pos Y',\n",
       "       'l_Elbow Pos Z', 'l_Grab Strenth', 'l_Grab Angle', 'l_Pinch Strength',\n",
       "       'type', 'r_Frame ID', 'r_Hand Type', 'r_# hands', 'r_Position X',\n",
       "       'r_Position Y', 'r_Position Z', 'r_Velocity X', 'r_Velocity Y',\n",
       "       'r_Velocity Z', 'r_Pitch', 'r_Roll', 'r_Yaw', 'r_Wrist Pos X',\n",
       "       'r_Wrist Pos Y', 'r_Wrist Pos Z', 'r_Elbow pos X', 'r_Elbow Pos Y',\n",
       "       'r_Elbow Pos Z', 'r_Grab Strenth', 'r_Grab Angle', 'r_Pinch Strength',\n",
       "       'r_type'],\n",
       "      dtype='object')"
      ]
     },
     "execution_count": 133,
     "metadata": {},
     "output_type": "execute_result"
    }
   ],
   "source": [
    "test_df.columns"
   ]
  },
  {
   "cell_type": "code",
   "execution_count": 134,
   "metadata": {},
   "outputs": [],
   "source": [
    "test_df.drop(['l_Frame ID','l_Hand Type','l_# hands','r_type','r_Frame ID', 'r_Hand Type', 'r_# hands'],axis = 1,inplace = True)"
   ]
  },
  {
   "cell_type": "code",
   "execution_count": 135,
   "metadata": {},
   "outputs": [
    {
     "data": {
      "text/plain": [
       "Index(['l_Position X', 'l_Position Y', 'l_Position Z', 'l_Velocity X',\n",
       "       'l_Velocity Y', 'l_Velocity Z', 'l_Pitch', 'l_Roll', 'l_Yaw',\n",
       "       'l_Wrist Pos X', 'l_Wrist Pos Y', 'l_Wrist Pos Z', 'l_Elbow pos X',\n",
       "       'l_Elbow Pos Y', 'l_Elbow Pos Z', 'l_Grab Strenth', 'l_Grab Angle',\n",
       "       'l_Pinch Strength', 'type', 'r_Position X', 'r_Position Y',\n",
       "       'r_Position Z', 'r_Velocity X', 'r_Velocity Y', 'r_Velocity Z',\n",
       "       'r_Pitch', 'r_Roll', 'r_Yaw', 'r_Wrist Pos X', 'r_Wrist Pos Y',\n",
       "       'r_Wrist Pos Z', 'r_Elbow pos X', 'r_Elbow Pos Y', 'r_Elbow Pos Z',\n",
       "       'r_Grab Strenth', 'r_Grab Angle', 'r_Pinch Strength'],\n",
       "      dtype='object')"
      ]
     },
     "execution_count": 135,
     "metadata": {},
     "output_type": "execute_result"
    }
   ],
   "source": [
    "test_df.columns"
   ]
  },
  {
   "cell_type": "code",
   "execution_count": 136,
   "metadata": {},
   "outputs": [
    {
     "data": {
      "text/html": [
       "<div>\n",
       "<style scoped>\n",
       "    .dataframe tbody tr th:only-of-type {\n",
       "        vertical-align: middle;\n",
       "    }\n",
       "\n",
       "    .dataframe tbody tr th {\n",
       "        vertical-align: top;\n",
       "    }\n",
       "\n",
       "    .dataframe thead th {\n",
       "        text-align: right;\n",
       "    }\n",
       "</style>\n",
       "<table border=\"1\" class=\"dataframe\">\n",
       "  <thead>\n",
       "    <tr style=\"text-align: right;\">\n",
       "      <th></th>\n",
       "      <th>l_Position X</th>\n",
       "      <th>l_Position Y</th>\n",
       "      <th>l_Position Z</th>\n",
       "      <th>l_Velocity X</th>\n",
       "      <th>l_Velocity Y</th>\n",
       "      <th>l_Velocity Z</th>\n",
       "      <th>l_Pitch</th>\n",
       "      <th>l_Roll</th>\n",
       "      <th>l_Yaw</th>\n",
       "      <th>l_Wrist Pos X</th>\n",
       "      <th>...</th>\n",
       "      <th>r_Yaw</th>\n",
       "      <th>r_Wrist Pos X</th>\n",
       "      <th>r_Wrist Pos Y</th>\n",
       "      <th>r_Wrist Pos Z</th>\n",
       "      <th>r_Elbow pos X</th>\n",
       "      <th>r_Elbow Pos Y</th>\n",
       "      <th>r_Elbow Pos Z</th>\n",
       "      <th>r_Grab Strenth</th>\n",
       "      <th>r_Grab Angle</th>\n",
       "      <th>r_Pinch Strength</th>\n",
       "    </tr>\n",
       "  </thead>\n",
       "  <tbody>\n",
       "    <tr>\n",
       "      <th>783.8766</th>\n",
       "      <td>-148.37290</td>\n",
       "      <td>201.5105</td>\n",
       "      <td>60.00438</td>\n",
       "      <td>-17.26907</td>\n",
       "      <td>-15.27103</td>\n",
       "      <td>32.07042</td>\n",
       "      <td>1.496495</td>\n",
       "      <td>0.552045</td>\n",
       "      <td>1.525121</td>\n",
       "      <td>-208.9962</td>\n",
       "      <td>...</td>\n",
       "      <td>-0.275585</td>\n",
       "      <td>149.0821</td>\n",
       "      <td>83.32772</td>\n",
       "      <td>33.62519</td>\n",
       "      <td>146.2059</td>\n",
       "      <td>-21.17127</td>\n",
       "      <td>257.3058</td>\n",
       "      <td>0.0</td>\n",
       "      <td>0.381800</td>\n",
       "      <td>0.0</td>\n",
       "    </tr>\n",
       "    <tr>\n",
       "      <th>783.8931</th>\n",
       "      <td>-148.48320</td>\n",
       "      <td>201.3344</td>\n",
       "      <td>60.68468</td>\n",
       "      <td>13.94115</td>\n",
       "      <td>-24.90545</td>\n",
       "      <td>40.09111</td>\n",
       "      <td>1.499708</td>\n",
       "      <td>0.556520</td>\n",
       "      <td>1.526571</td>\n",
       "      <td>-209.1183</td>\n",
       "      <td>...</td>\n",
       "      <td>-0.282398</td>\n",
       "      <td>150.5715</td>\n",
       "      <td>85.00555</td>\n",
       "      <td>33.45618</td>\n",
       "      <td>146.2230</td>\n",
       "      <td>-22.93286</td>\n",
       "      <td>255.5082</td>\n",
       "      <td>0.0</td>\n",
       "      <td>0.374947</td>\n",
       "      <td>0.0</td>\n",
       "    </tr>\n",
       "    <tr>\n",
       "      <th>783.9097</th>\n",
       "      <td>-148.08100</td>\n",
       "      <td>201.1309</td>\n",
       "      <td>61.29757</td>\n",
       "      <td>24.64978</td>\n",
       "      <td>-21.55522</td>\n",
       "      <td>34.20727</td>\n",
       "      <td>1.503604</td>\n",
       "      <td>0.551738</td>\n",
       "      <td>1.529353</td>\n",
       "      <td>-209.0417</td>\n",
       "      <td>...</td>\n",
       "      <td>-0.285038</td>\n",
       "      <td>152.1821</td>\n",
       "      <td>86.88781</td>\n",
       "      <td>33.26069</td>\n",
       "      <td>154.5666</td>\n",
       "      <td>-23.92799</td>\n",
       "      <td>253.9572</td>\n",
       "      <td>0.0</td>\n",
       "      <td>0.339523</td>\n",
       "      <td>0.0</td>\n",
       "    </tr>\n",
       "    <tr>\n",
       "      <th>783.9263</th>\n",
       "      <td>-147.19610</td>\n",
       "      <td>200.2499</td>\n",
       "      <td>61.93992</td>\n",
       "      <td>54.58652</td>\n",
       "      <td>-53.79900</td>\n",
       "      <td>43.02767</td>\n",
       "      <td>1.511389</td>\n",
       "      <td>0.551986</td>\n",
       "      <td>1.534157</td>\n",
       "      <td>-208.2689</td>\n",
       "      <td>...</td>\n",
       "      <td>-0.282949</td>\n",
       "      <td>153.6517</td>\n",
       "      <td>88.22997</td>\n",
       "      <td>32.91113</td>\n",
       "      <td>165.8814</td>\n",
       "      <td>-26.24262</td>\n",
       "      <td>251.4375</td>\n",
       "      <td>0.0</td>\n",
       "      <td>0.292715</td>\n",
       "      <td>0.0</td>\n",
       "    </tr>\n",
       "    <tr>\n",
       "      <th>783.9428</th>\n",
       "      <td>-146.27030</td>\n",
       "      <td>198.9451</td>\n",
       "      <td>62.54176</td>\n",
       "      <td>56.74417</td>\n",
       "      <td>-83.57710</td>\n",
       "      <td>30.72928</td>\n",
       "      <td>1.504369</td>\n",
       "      <td>0.534547</td>\n",
       "      <td>1.531448</td>\n",
       "      <td>-207.8819</td>\n",
       "      <td>...</td>\n",
       "      <td>-0.278521</td>\n",
       "      <td>154.9320</td>\n",
       "      <td>88.93008</td>\n",
       "      <td>32.50669</td>\n",
       "      <td>174.1423</td>\n",
       "      <td>-31.10865</td>\n",
       "      <td>247.5492</td>\n",
       "      <td>0.0</td>\n",
       "      <td>0.263266</td>\n",
       "      <td>0.0</td>\n",
       "    </tr>\n",
       "    <tr>\n",
       "      <th>...</th>\n",
       "      <td>...</td>\n",
       "      <td>...</td>\n",
       "      <td>...</td>\n",
       "      <td>...</td>\n",
       "      <td>...</td>\n",
       "      <td>...</td>\n",
       "      <td>...</td>\n",
       "      <td>...</td>\n",
       "      <td>...</td>\n",
       "      <td>...</td>\n",
       "      <td>...</td>\n",
       "      <td>...</td>\n",
       "      <td>...</td>\n",
       "      <td>...</td>\n",
       "      <td>...</td>\n",
       "      <td>...</td>\n",
       "      <td>...</td>\n",
       "      <td>...</td>\n",
       "      <td>...</td>\n",
       "      <td>...</td>\n",
       "      <td>...</td>\n",
       "    </tr>\n",
       "    <tr>\n",
       "      <th>998.7513</th>\n",
       "      <td>-98.32814</td>\n",
       "      <td>314.4973</td>\n",
       "      <td>75.12682</td>\n",
       "      <td>41.16818</td>\n",
       "      <td>115.85070</td>\n",
       "      <td>27.61459</td>\n",
       "      <td>1.611798</td>\n",
       "      <td>0.871997</td>\n",
       "      <td>1.619884</td>\n",
       "      <td>-147.8138</td>\n",
       "      <td>...</td>\n",
       "      <td>-1.447439</td>\n",
       "      <td>156.7337</td>\n",
       "      <td>255.09190</td>\n",
       "      <td>101.90250</td>\n",
       "      <td>341.0338</td>\n",
       "      <td>65.01146</td>\n",
       "      <td>125.5006</td>\n",
       "      <td>0.0</td>\n",
       "      <td>0.000000</td>\n",
       "      <td>0.0</td>\n",
       "    </tr>\n",
       "    <tr>\n",
       "      <th>998.7836</th>\n",
       "      <td>-97.31071</td>\n",
       "      <td>319.5955</td>\n",
       "      <td>76.22157</td>\n",
       "      <td>31.36302</td>\n",
       "      <td>143.96100</td>\n",
       "      <td>30.50205</td>\n",
       "      <td>1.616390</td>\n",
       "      <td>0.878401</td>\n",
       "      <td>1.626107</td>\n",
       "      <td>-146.5180</td>\n",
       "      <td>...</td>\n",
       "      <td>-1.447845</td>\n",
       "      <td>157.5847</td>\n",
       "      <td>259.11920</td>\n",
       "      <td>102.11500</td>\n",
       "      <td>336.8353</td>\n",
       "      <td>64.01215</td>\n",
       "      <td>123.4790</td>\n",
       "      <td>0.0</td>\n",
       "      <td>0.000000</td>\n",
       "      <td>0.0</td>\n",
       "    </tr>\n",
       "    <tr>\n",
       "      <th>998.8158</th>\n",
       "      <td>-96.74767</td>\n",
       "      <td>323.8981</td>\n",
       "      <td>76.98316</td>\n",
       "      <td>27.14988</td>\n",
       "      <td>185.62180</td>\n",
       "      <td>33.74187</td>\n",
       "      <td>1.619489</td>\n",
       "      <td>0.895829</td>\n",
       "      <td>1.632054</td>\n",
       "      <td>-145.1963</td>\n",
       "      <td>...</td>\n",
       "      <td>-1.436827</td>\n",
       "      <td>159.1932</td>\n",
       "      <td>263.27260</td>\n",
       "      <td>102.53110</td>\n",
       "      <td>332.9102</td>\n",
       "      <td>62.99343</td>\n",
       "      <td>121.6264</td>\n",
       "      <td>0.0</td>\n",
       "      <td>0.000000</td>\n",
       "      <td>0.0</td>\n",
       "    </tr>\n",
       "    <tr>\n",
       "      <th>998.8495</th>\n",
       "      <td>-95.67720</td>\n",
       "      <td>329.8123</td>\n",
       "      <td>78.13316</td>\n",
       "      <td>47.37696</td>\n",
       "      <td>118.31670</td>\n",
       "      <td>24.15247</td>\n",
       "      <td>1.618042</td>\n",
       "      <td>0.904771</td>\n",
       "      <td>1.631368</td>\n",
       "      <td>-143.7923</td>\n",
       "      <td>...</td>\n",
       "      <td>-1.418975</td>\n",
       "      <td>163.0329</td>\n",
       "      <td>269.72170</td>\n",
       "      <td>103.07490</td>\n",
       "      <td>340.7914</td>\n",
       "      <td>72.96347</td>\n",
       "      <td>121.5707</td>\n",
       "      <td>0.0</td>\n",
       "      <td>0.024162</td>\n",
       "      <td>0.0</td>\n",
       "    </tr>\n",
       "    <tr>\n",
       "      <th>998.8855</th>\n",
       "      <td>-94.29232</td>\n",
       "      <td>334.7815</td>\n",
       "      <td>78.81863</td>\n",
       "      <td>31.57111</td>\n",
       "      <td>132.41000</td>\n",
       "      <td>13.03400</td>\n",
       "      <td>1.617843</td>\n",
       "      <td>0.902170</td>\n",
       "      <td>1.630803</td>\n",
       "      <td>-142.7116</td>\n",
       "      <td>...</td>\n",
       "      <td>-1.432370</td>\n",
       "      <td>165.0616</td>\n",
       "      <td>270.79190</td>\n",
       "      <td>101.25900</td>\n",
       "      <td>344.8011</td>\n",
       "      <td>75.97822</td>\n",
       "      <td>121.1411</td>\n",
       "      <td>0.0</td>\n",
       "      <td>0.025365</td>\n",
       "      <td>0.0</td>\n",
       "    </tr>\n",
       "  </tbody>\n",
       "</table>\n",
       "<p>30457 rows × 37 columns</p>\n",
       "</div>"
      ],
      "text/plain": [
       "          l_Position X  l_Position Y  l_Position Z  l_Velocity X  \\\n",
       "783.8766    -148.37290      201.5105      60.00438     -17.26907   \n",
       "783.8931    -148.48320      201.3344      60.68468      13.94115   \n",
       "783.9097    -148.08100      201.1309      61.29757      24.64978   \n",
       "783.9263    -147.19610      200.2499      61.93992      54.58652   \n",
       "783.9428    -146.27030      198.9451      62.54176      56.74417   \n",
       "...                ...           ...           ...           ...   \n",
       "998.7513     -98.32814      314.4973      75.12682      41.16818   \n",
       "998.7836     -97.31071      319.5955      76.22157      31.36302   \n",
       "998.8158     -96.74767      323.8981      76.98316      27.14988   \n",
       "998.8495     -95.67720      329.8123      78.13316      47.37696   \n",
       "998.8855     -94.29232      334.7815      78.81863      31.57111   \n",
       "\n",
       "          l_Velocity Y  l_Velocity Z   l_Pitch    l_Roll     l_Yaw  \\\n",
       "783.8766     -15.27103      32.07042  1.496495  0.552045  1.525121   \n",
       "783.8931     -24.90545      40.09111  1.499708  0.556520  1.526571   \n",
       "783.9097     -21.55522      34.20727  1.503604  0.551738  1.529353   \n",
       "783.9263     -53.79900      43.02767  1.511389  0.551986  1.534157   \n",
       "783.9428     -83.57710      30.72928  1.504369  0.534547  1.531448   \n",
       "...                ...           ...       ...       ...       ...   \n",
       "998.7513     115.85070      27.61459  1.611798  0.871997  1.619884   \n",
       "998.7836     143.96100      30.50205  1.616390  0.878401  1.626107   \n",
       "998.8158     185.62180      33.74187  1.619489  0.895829  1.632054   \n",
       "998.8495     118.31670      24.15247  1.618042  0.904771  1.631368   \n",
       "998.8855     132.41000      13.03400  1.617843  0.902170  1.630803   \n",
       "\n",
       "          l_Wrist Pos X  ...     r_Yaw  r_Wrist Pos X  r_Wrist Pos Y  \\\n",
       "783.8766      -208.9962  ... -0.275585       149.0821       83.32772   \n",
       "783.8931      -209.1183  ... -0.282398       150.5715       85.00555   \n",
       "783.9097      -209.0417  ... -0.285038       152.1821       86.88781   \n",
       "783.9263      -208.2689  ... -0.282949       153.6517       88.22997   \n",
       "783.9428      -207.8819  ... -0.278521       154.9320       88.93008   \n",
       "...                 ...  ...       ...            ...            ...   \n",
       "998.7513      -147.8138  ... -1.447439       156.7337      255.09190   \n",
       "998.7836      -146.5180  ... -1.447845       157.5847      259.11920   \n",
       "998.8158      -145.1963  ... -1.436827       159.1932      263.27260   \n",
       "998.8495      -143.7923  ... -1.418975       163.0329      269.72170   \n",
       "998.8855      -142.7116  ... -1.432370       165.0616      270.79190   \n",
       "\n",
       "          r_Wrist Pos Z  r_Elbow pos X  r_Elbow Pos Y  r_Elbow Pos Z  \\\n",
       "783.8766       33.62519       146.2059      -21.17127       257.3058   \n",
       "783.8931       33.45618       146.2230      -22.93286       255.5082   \n",
       "783.9097       33.26069       154.5666      -23.92799       253.9572   \n",
       "783.9263       32.91113       165.8814      -26.24262       251.4375   \n",
       "783.9428       32.50669       174.1423      -31.10865       247.5492   \n",
       "...                 ...            ...            ...            ...   \n",
       "998.7513      101.90250       341.0338       65.01146       125.5006   \n",
       "998.7836      102.11500       336.8353       64.01215       123.4790   \n",
       "998.8158      102.53110       332.9102       62.99343       121.6264   \n",
       "998.8495      103.07490       340.7914       72.96347       121.5707   \n",
       "998.8855      101.25900       344.8011       75.97822       121.1411   \n",
       "\n",
       "          r_Grab Strenth r_Grab Angle  r_Pinch Strength  \n",
       "783.8766             0.0     0.381800               0.0  \n",
       "783.8931             0.0     0.374947               0.0  \n",
       "783.9097             0.0     0.339523               0.0  \n",
       "783.9263             0.0     0.292715               0.0  \n",
       "783.9428             0.0     0.263266               0.0  \n",
       "...                  ...          ...               ...  \n",
       "998.7513             0.0     0.000000               0.0  \n",
       "998.7836             0.0     0.000000               0.0  \n",
       "998.8158             0.0     0.000000               0.0  \n",
       "998.8495             0.0     0.024162               0.0  \n",
       "998.8855             0.0     0.025365               0.0  \n",
       "\n",
       "[30457 rows x 37 columns]"
      ]
     },
     "execution_count": 136,
     "metadata": {},
     "output_type": "execute_result"
    }
   ],
   "source": [
    "test_df"
   ]
  },
  {
   "cell_type": "code",
   "execution_count": 137,
   "metadata": {},
   "outputs": [
    {
     "data": {
      "text/plain": [
       "Alone      9149\n",
       "Spontan    9138\n",
       "Sync       8935\n",
       "Name: type, dtype: int64"
      ]
     },
     "execution_count": 137,
     "metadata": {},
     "output_type": "execute_result"
    }
   ],
   "source": [
    "test_df['type'].value_counts()"
   ]
  },
  {
   "cell_type": "markdown",
   "metadata": {},
   "source": [
    "### Load train"
   ]
  },
  {
   "cell_type": "code",
   "execution_count": 138,
   "metadata": {},
   "outputs": [],
   "source": [
    "EvyatarCohen_path = r'C:\\Users\\talia\\OneDrive\\שולחן העבודה\\CS BA\\שנה א\\Semester B\\Data Science Project B\\קבצים לעבודת גמר\\extraFiles\\Training\\Evyatar Cohen/'\n",
    "NofarSocial_Nuero_path = r'C:\\Users\\talia\\OneDrive\\שולחן העבודה\\CS BA\\שנה א\\Semester B\\Data Science Project B\\קבצים לעבודת גמר\\extraFiles\\Training\\Nofar Social_Nuero/'\n",
    "OriyaSocial_Nuero_path = r'C:\\Users\\talia\\OneDrive\\שולחן העבודה\\CS BA\\שנה א\\Semester B\\Data Science Project B\\קבצים לעבודת גמר\\extraFiles\\Training\\Oriya Social_Nuero/'\n",
    "OryaKalmanovitz_path = r'C:\\Users\\talia\\OneDrive\\שולחן העבודה\\CS BA\\שנה א\\Semester B\\Data Science Project B\\קבצים לעבודת גמר\\extraFiles\\Training\\Orya Kalmanovitz/'\n",
    "RevitalMarbel_path = r'C:\\Users\\talia\\OneDrive\\שולחן העבודה\\CS BA\\שנה א\\Semester B\\Data Science Project B\\קבצים לעבודת גמר\\extraFiles\\Training\\Revital Marbel/'\n",
    "ShaharTerner_path = r'C:\\Users\\talia\\OneDrive\\שולחן העבודה\\CS BA\\שנה א\\Semester B\\Data Science Project B\\קבצים לעבודת גמר\\extraFiles\\Training\\Shahar Terner/'\n",
    "ShellySocial_Nuero_path = r'C:\\Users\\talia\\OneDrive\\שולחן העבודה\\CS BA\\שנה א\\Semester B\\Data Science Project B\\קבצים לעבודת גמר\\extraFiles\\Training\\Shelly Social_Nuero/'\n",
    "YaelHagai_path = r'C:\\Users\\talia\\OneDrive\\שולחן העבודה\\CS BA\\שנה א\\Semester B\\Data Science Project B\\קבצים לעבודת גמר\\extraFiles\\Training\\Yael Hagai/'\n",
    "YoelRaz_path = r'C:\\Users\\talia\\OneDrive\\שולחן העבודה\\CS BA\\שנה א\\Semester B\\Data Science Project B\\קבצים לעבודת גמר\\extraFiles\\Training\\Yoel Raz/'"
   ]
  },
  {
   "cell_type": "code",
   "execution_count": 139,
   "metadata": {},
   "outputs": [],
   "source": [
    "EvyatarCohen = [EvyatarCohen_path + i for i in os.listdir(EvyatarCohen_path)]\n",
    "NofarSocial_Nuero = [NofarSocial_Nuero_path + i for i in os.listdir(NofarSocial_Nuero_path)]\n",
    "OriyaSocial_Nuero = [OriyaSocial_Nuero_path + i for i in os.listdir(OriyaSocial_Nuero_path)]\n",
    "OryaKalmanovitz = [OryaKalmanovitz_path + i for i in os.listdir(OryaKalmanovitz_path)]\n",
    "RevitalMarbel = [RevitalMarbel_path + i for i in os.listdir(RevitalMarbel_path)]\n",
    "ShaharTerner = [ShaharTerner_path + i for i in os.listdir(ShaharTerner_path)]\n",
    "ShellySocial_Nuero = [ShellySocial_Nuero_path + i for i in os.listdir(ShellySocial_Nuero_path)]\n",
    "YaelHagai = [YaelHagai_path + i for i in os.listdir(YaelHagai_path)]\n",
    "YoelRaz = [YoelRaz_path + i for i in os.listdir(YoelRaz_path)]"
   ]
  },
  {
   "cell_type": "code",
   "execution_count": 140,
   "metadata": {},
   "outputs": [],
   "source": [
    "Evyatar = load(EvyatarCohen,right_alone_df)\n",
    "Nofar = load(NofarSocial_Nuero,right_alone_df)\n",
    "Oriya = load(OriyaSocial_Nuero,right_alone_df)\n",
    "OryaKa = load(OryaKalmanovitz,right_alone_df)\n",
    "Revital = load(RevitalMarbel,right_alone_df)\n",
    "Shahar = load(ShaharTerner,right_alone_df)\n",
    "Shelly = load(ShellySocial_Nuero,right_alone_df)\n",
    "Yael = load(YaelHagai,right_alone_df)\n",
    "Yoel = load(YoelRaz,right_alone_df)"
   ]
  },
  {
   "cell_type": "code",
   "execution_count": 141,
   "metadata": {},
   "outputs": [],
   "source": [
    "EvyatarResult = pd.concat(Evyatar)\n",
    "NofarResult = pd.concat(Nofar)\n",
    "OriyaResult = pd.concat(Oriya)\n",
    "OryaKaResult = pd.concat(OryaKa)\n",
    "RevitalResult = pd.concat(Revital)\n",
    "ShaharResult = pd.concat(Shahar)\n",
    "ShellyResult = pd.concat(Shelly)\n",
    "YaelResult = pd.concat(Yael)\n",
    "YoelResult = pd.concat(Yoel)"
   ]
  },
  {
   "cell_type": "code",
   "execution_count": 142,
   "metadata": {
    "scrolled": false
   },
   "outputs": [
    {
     "data": {
      "text/html": [
       "<div>\n",
       "<style scoped>\n",
       "    .dataframe tbody tr th:only-of-type {\n",
       "        vertical-align: middle;\n",
       "    }\n",
       "\n",
       "    .dataframe tbody tr th {\n",
       "        vertical-align: top;\n",
       "    }\n",
       "\n",
       "    .dataframe thead th {\n",
       "        text-align: right;\n",
       "    }\n",
       "</style>\n",
       "<table border=\"1\" class=\"dataframe\">\n",
       "  <thead>\n",
       "    <tr style=\"text-align: right;\">\n",
       "      <th></th>\n",
       "      <th>l_Frame ID</th>\n",
       "      <th>l_Hand Type</th>\n",
       "      <th>l_# hands</th>\n",
       "      <th>l_Position X</th>\n",
       "      <th>l_Position Y</th>\n",
       "      <th>l_Position Z</th>\n",
       "      <th>l_Velocity X</th>\n",
       "      <th>l_Velocity Y</th>\n",
       "      <th>l_Velocity Z</th>\n",
       "      <th>l_Pitch</th>\n",
       "      <th>...</th>\n",
       "      <th>r_Wrist Pos X</th>\n",
       "      <th>r_Wrist Pos Y</th>\n",
       "      <th>r_Wrist Pos Z</th>\n",
       "      <th>r_Elbow pos X</th>\n",
       "      <th>r_Elbow Pos Y</th>\n",
       "      <th>r_Elbow Pos Z</th>\n",
       "      <th>r_Grab Strenth</th>\n",
       "      <th>r_Grab Angle</th>\n",
       "      <th>r_Pinch Strength</th>\n",
       "      <th>r_type</th>\n",
       "    </tr>\n",
       "  </thead>\n",
       "  <tbody>\n",
       "    <tr>\n",
       "      <th>347.5953</th>\n",
       "      <td>129893.0</td>\n",
       "      <td>left</td>\n",
       "      <td>2.0</td>\n",
       "      <td>-90.35130</td>\n",
       "      <td>152.8257</td>\n",
       "      <td>-15.253350</td>\n",
       "      <td>11.48529</td>\n",
       "      <td>-24.32232</td>\n",
       "      <td>-123.79200</td>\n",
       "      <td>0.057997</td>\n",
       "      <td>...</td>\n",
       "      <td>211.2385</td>\n",
       "      <td>154.5470</td>\n",
       "      <td>3.753255</td>\n",
       "      <td>308.8327</td>\n",
       "      <td>-16.433850</td>\n",
       "      <td>157.04660</td>\n",
       "      <td>0.0</td>\n",
       "      <td>0.462682</td>\n",
       "      <td>0.357548</td>\n",
       "      <td>Spontan</td>\n",
       "    </tr>\n",
       "    <tr>\n",
       "      <th>347.6119</th>\n",
       "      <td>129895.0</td>\n",
       "      <td>left</td>\n",
       "      <td>2.0</td>\n",
       "      <td>-88.54211</td>\n",
       "      <td>151.8134</td>\n",
       "      <td>-17.573630</td>\n",
       "      <td>150.82950</td>\n",
       "      <td>-45.92197</td>\n",
       "      <td>-143.97270</td>\n",
       "      <td>0.229993</td>\n",
       "      <td>...</td>\n",
       "      <td>211.8405</td>\n",
       "      <td>154.9556</td>\n",
       "      <td>3.755771</td>\n",
       "      <td>309.5113</td>\n",
       "      <td>-13.961560</td>\n",
       "      <td>159.27220</td>\n",
       "      <td>0.0</td>\n",
       "      <td>0.487098</td>\n",
       "      <td>0.366849</td>\n",
       "      <td>Spontan</td>\n",
       "    </tr>\n",
       "    <tr>\n",
       "      <th>347.6284</th>\n",
       "      <td>129897.0</td>\n",
       "      <td>left</td>\n",
       "      <td>2.0</td>\n",
       "      <td>-85.44501</td>\n",
       "      <td>150.6912</td>\n",
       "      <td>-19.932280</td>\n",
       "      <td>180.43730</td>\n",
       "      <td>-67.56274</td>\n",
       "      <td>-122.93300</td>\n",
       "      <td>0.342248</td>\n",
       "      <td>...</td>\n",
       "      <td>212.3367</td>\n",
       "      <td>155.3786</td>\n",
       "      <td>3.698633</td>\n",
       "      <td>310.3992</td>\n",
       "      <td>-11.694740</td>\n",
       "      <td>160.95050</td>\n",
       "      <td>0.0</td>\n",
       "      <td>0.508711</td>\n",
       "      <td>0.342098</td>\n",
       "      <td>Spontan</td>\n",
       "    </tr>\n",
       "    <tr>\n",
       "      <th>347.6447</th>\n",
       "      <td>129898.0</td>\n",
       "      <td>left</td>\n",
       "      <td>2.0</td>\n",
       "      <td>-84.20158</td>\n",
       "      <td>150.4454</td>\n",
       "      <td>-20.772450</td>\n",
       "      <td>141.99320</td>\n",
       "      <td>-28.06757</td>\n",
       "      <td>-95.94225</td>\n",
       "      <td>0.388592</td>\n",
       "      <td>...</td>\n",
       "      <td>212.4461</td>\n",
       "      <td>155.4613</td>\n",
       "      <td>3.675935</td>\n",
       "      <td>310.8626</td>\n",
       "      <td>-10.689370</td>\n",
       "      <td>161.68240</td>\n",
       "      <td>0.0</td>\n",
       "      <td>0.497236</td>\n",
       "      <td>0.312971</td>\n",
       "      <td>Spontan</td>\n",
       "    </tr>\n",
       "    <tr>\n",
       "      <th>347.6613</th>\n",
       "      <td>129900.0</td>\n",
       "      <td>left</td>\n",
       "      <td>2.0</td>\n",
       "      <td>-81.54483</td>\n",
       "      <td>150.7831</td>\n",
       "      <td>-21.980030</td>\n",
       "      <td>149.77240</td>\n",
       "      <td>21.28659</td>\n",
       "      <td>-85.69943</td>\n",
       "      <td>0.371817</td>\n",
       "      <td>...</td>\n",
       "      <td>212.5647</td>\n",
       "      <td>155.4003</td>\n",
       "      <td>3.640275</td>\n",
       "      <td>311.4235</td>\n",
       "      <td>-9.389294</td>\n",
       "      <td>162.79190</td>\n",
       "      <td>0.0</td>\n",
       "      <td>0.478578</td>\n",
       "      <td>0.299432</td>\n",
       "      <td>Spontan</td>\n",
       "    </tr>\n",
       "    <tr>\n",
       "      <th>...</th>\n",
       "      <td>...</td>\n",
       "      <td>...</td>\n",
       "      <td>...</td>\n",
       "      <td>...</td>\n",
       "      <td>...</td>\n",
       "      <td>...</td>\n",
       "      <td>...</td>\n",
       "      <td>...</td>\n",
       "      <td>...</td>\n",
       "      <td>...</td>\n",
       "      <td>...</td>\n",
       "      <td>...</td>\n",
       "      <td>...</td>\n",
       "      <td>...</td>\n",
       "      <td>...</td>\n",
       "      <td>...</td>\n",
       "      <td>...</td>\n",
       "      <td>...</td>\n",
       "      <td>...</td>\n",
       "      <td>...</td>\n",
       "      <td>...</td>\n",
       "    </tr>\n",
       "    <tr>\n",
       "      <th>856.1965</th>\n",
       "      <td>67304.0</td>\n",
       "      <td>left</td>\n",
       "      <td>2.0</td>\n",
       "      <td>-77.62601</td>\n",
       "      <td>173.7391</td>\n",
       "      <td>-14.213500</td>\n",
       "      <td>-46.75000</td>\n",
       "      <td>99.50911</td>\n",
       "      <td>71.01207</td>\n",
       "      <td>0.629213</td>\n",
       "      <td>...</td>\n",
       "      <td>129.1261</td>\n",
       "      <td>148.7041</td>\n",
       "      <td>62.824040</td>\n",
       "      <td>300.6781</td>\n",
       "      <td>-33.586720</td>\n",
       "      <td>128.75430</td>\n",
       "      <td>0.0</td>\n",
       "      <td>0.000000</td>\n",
       "      <td>0.000000</td>\n",
       "      <td>Sync</td>\n",
       "    </tr>\n",
       "    <tr>\n",
       "      <th>856.2291</th>\n",
       "      <td>67306.0</td>\n",
       "      <td>left</td>\n",
       "      <td>2.0</td>\n",
       "      <td>-78.43058</td>\n",
       "      <td>176.0170</td>\n",
       "      <td>-12.152660</td>\n",
       "      <td>-33.69026</td>\n",
       "      <td>98.24361</td>\n",
       "      <td>59.77054</td>\n",
       "      <td>0.667618</td>\n",
       "      <td>...</td>\n",
       "      <td>129.2868</td>\n",
       "      <td>148.1146</td>\n",
       "      <td>63.112180</td>\n",
       "      <td>285.6505</td>\n",
       "      <td>-53.666400</td>\n",
       "      <td>106.02620</td>\n",
       "      <td>0.0</td>\n",
       "      <td>0.000000</td>\n",
       "      <td>0.000000</td>\n",
       "      <td>Sync</td>\n",
       "    </tr>\n",
       "    <tr>\n",
       "      <th>856.2631</th>\n",
       "      <td>67309.0</td>\n",
       "      <td>left</td>\n",
       "      <td>2.0</td>\n",
       "      <td>-79.84506</td>\n",
       "      <td>180.2403</td>\n",
       "      <td>-9.015577</td>\n",
       "      <td>-68.45120</td>\n",
       "      <td>136.37580</td>\n",
       "      <td>87.63277</td>\n",
       "      <td>0.725945</td>\n",
       "      <td>...</td>\n",
       "      <td>131.8590</td>\n",
       "      <td>149.6264</td>\n",
       "      <td>66.098530</td>\n",
       "      <td>283.6185</td>\n",
       "      <td>-58.034910</td>\n",
       "      <td>95.29868</td>\n",
       "      <td>0.0</td>\n",
       "      <td>0.000000</td>\n",
       "      <td>0.000000</td>\n",
       "      <td>Sync</td>\n",
       "    </tr>\n",
       "    <tr>\n",
       "      <th>856.2958</th>\n",
       "      <td>67311.0</td>\n",
       "      <td>left</td>\n",
       "      <td>2.0</td>\n",
       "      <td>-81.57359</td>\n",
       "      <td>183.5054</td>\n",
       "      <td>-7.185198</td>\n",
       "      <td>-63.24731</td>\n",
       "      <td>121.75270</td>\n",
       "      <td>62.95970</td>\n",
       "      <td>0.762549</td>\n",
       "      <td>...</td>\n",
       "      <td>134.0416</td>\n",
       "      <td>151.5924</td>\n",
       "      <td>68.176930</td>\n",
       "      <td>288.9688</td>\n",
       "      <td>-54.138200</td>\n",
       "      <td>94.23959</td>\n",
       "      <td>0.0</td>\n",
       "      <td>0.000000</td>\n",
       "      <td>0.000000</td>\n",
       "      <td>Sync</td>\n",
       "    </tr>\n",
       "    <tr>\n",
       "      <th>856.3295</th>\n",
       "      <td>67314.0</td>\n",
       "      <td>left</td>\n",
       "      <td>2.0</td>\n",
       "      <td>-84.05124</td>\n",
       "      <td>187.8450</td>\n",
       "      <td>-5.172269</td>\n",
       "      <td>-57.17249</td>\n",
       "      <td>109.20360</td>\n",
       "      <td>58.48146</td>\n",
       "      <td>0.824793</td>\n",
       "      <td>...</td>\n",
       "      <td>137.0708</td>\n",
       "      <td>154.2158</td>\n",
       "      <td>71.469250</td>\n",
       "      <td>289.6567</td>\n",
       "      <td>-53.671850</td>\n",
       "      <td>93.98731</td>\n",
       "      <td>0.0</td>\n",
       "      <td>0.000000</td>\n",
       "      <td>0.000000</td>\n",
       "      <td>Sync</td>\n",
       "    </tr>\n",
       "  </tbody>\n",
       "</table>\n",
       "<p>100588 rows × 44 columns</p>\n",
       "</div>"
      ],
      "text/plain": [
       "          l_Frame ID l_Hand Type  l_# hands  l_Position X  l_Position Y  \\\n",
       "347.5953    129893.0        left        2.0     -90.35130      152.8257   \n",
       "347.6119    129895.0        left        2.0     -88.54211      151.8134   \n",
       "347.6284    129897.0        left        2.0     -85.44501      150.6912   \n",
       "347.6447    129898.0        left        2.0     -84.20158      150.4454   \n",
       "347.6613    129900.0        left        2.0     -81.54483      150.7831   \n",
       "...              ...         ...        ...           ...           ...   \n",
       "856.1965     67304.0        left        2.0     -77.62601      173.7391   \n",
       "856.2291     67306.0        left        2.0     -78.43058      176.0170   \n",
       "856.2631     67309.0        left        2.0     -79.84506      180.2403   \n",
       "856.2958     67311.0        left        2.0     -81.57359      183.5054   \n",
       "856.3295     67314.0        left        2.0     -84.05124      187.8450   \n",
       "\n",
       "          l_Position Z  l_Velocity X  l_Velocity Y  l_Velocity Z   l_Pitch  \\\n",
       "347.5953    -15.253350      11.48529     -24.32232    -123.79200  0.057997   \n",
       "347.6119    -17.573630     150.82950     -45.92197    -143.97270  0.229993   \n",
       "347.6284    -19.932280     180.43730     -67.56274    -122.93300  0.342248   \n",
       "347.6447    -20.772450     141.99320     -28.06757     -95.94225  0.388592   \n",
       "347.6613    -21.980030     149.77240      21.28659     -85.69943  0.371817   \n",
       "...                ...           ...           ...           ...       ...   \n",
       "856.1965    -14.213500     -46.75000      99.50911      71.01207  0.629213   \n",
       "856.2291    -12.152660     -33.69026      98.24361      59.77054  0.667618   \n",
       "856.2631     -9.015577     -68.45120     136.37580      87.63277  0.725945   \n",
       "856.2958     -7.185198     -63.24731     121.75270      62.95970  0.762549   \n",
       "856.3295     -5.172269     -57.17249     109.20360      58.48146  0.824793   \n",
       "\n",
       "          ...  r_Wrist Pos X  r_Wrist Pos Y  r_Wrist Pos Z  r_Elbow pos X  \\\n",
       "347.5953  ...       211.2385       154.5470       3.753255       308.8327   \n",
       "347.6119  ...       211.8405       154.9556       3.755771       309.5113   \n",
       "347.6284  ...       212.3367       155.3786       3.698633       310.3992   \n",
       "347.6447  ...       212.4461       155.4613       3.675935       310.8626   \n",
       "347.6613  ...       212.5647       155.4003       3.640275       311.4235   \n",
       "...       ...            ...            ...            ...            ...   \n",
       "856.1965  ...       129.1261       148.7041      62.824040       300.6781   \n",
       "856.2291  ...       129.2868       148.1146      63.112180       285.6505   \n",
       "856.2631  ...       131.8590       149.6264      66.098530       283.6185   \n",
       "856.2958  ...       134.0416       151.5924      68.176930       288.9688   \n",
       "856.3295  ...       137.0708       154.2158      71.469250       289.6567   \n",
       "\n",
       "          r_Elbow Pos Y  r_Elbow Pos Z  r_Grab Strenth  r_Grab Angle  \\\n",
       "347.5953     -16.433850      157.04660             0.0      0.462682   \n",
       "347.6119     -13.961560      159.27220             0.0      0.487098   \n",
       "347.6284     -11.694740      160.95050             0.0      0.508711   \n",
       "347.6447     -10.689370      161.68240             0.0      0.497236   \n",
       "347.6613      -9.389294      162.79190             0.0      0.478578   \n",
       "...                 ...            ...             ...           ...   \n",
       "856.1965     -33.586720      128.75430             0.0      0.000000   \n",
       "856.2291     -53.666400      106.02620             0.0      0.000000   \n",
       "856.2631     -58.034910       95.29868             0.0      0.000000   \n",
       "856.2958     -54.138200       94.23959             0.0      0.000000   \n",
       "856.3295     -53.671850       93.98731             0.0      0.000000   \n",
       "\n",
       "          r_Pinch Strength   r_type  \n",
       "347.5953          0.357548  Spontan  \n",
       "347.6119          0.366849  Spontan  \n",
       "347.6284          0.342098  Spontan  \n",
       "347.6447          0.312971  Spontan  \n",
       "347.6613          0.299432  Spontan  \n",
       "...                    ...      ...  \n",
       "856.1965          0.000000     Sync  \n",
       "856.2291          0.000000     Sync  \n",
       "856.2631          0.000000     Sync  \n",
       "856.2958          0.000000     Sync  \n",
       "856.3295          0.000000     Sync  \n",
       "\n",
       "[100588 rows x 44 columns]"
      ]
     },
     "execution_count": 142,
     "metadata": {},
     "output_type": "execute_result"
    }
   ],
   "source": [
    "train_csv = [EvyatarResult,NofarResult,OriyaResult,OryaKaResult,RevitalResult,ShaharResult,ShellyResult,YaelResult,YoelResult]\n",
    "train_df = pd.concat(train_csv)\n",
    "train_df"
   ]
  },
  {
   "cell_type": "code",
   "execution_count": 143,
   "metadata": {},
   "outputs": [
    {
     "data": {
      "text/html": [
       "<div>\n",
       "<style scoped>\n",
       "    .dataframe tbody tr th:only-of-type {\n",
       "        vertical-align: middle;\n",
       "    }\n",
       "\n",
       "    .dataframe tbody tr th {\n",
       "        vertical-align: top;\n",
       "    }\n",
       "\n",
       "    .dataframe thead th {\n",
       "        text-align: right;\n",
       "    }\n",
       "</style>\n",
       "<table border=\"1\" class=\"dataframe\">\n",
       "  <thead>\n",
       "    <tr style=\"text-align: right;\">\n",
       "      <th></th>\n",
       "      <th>l_Frame ID</th>\n",
       "      <th>l_Hand Type</th>\n",
       "      <th>l_# hands</th>\n",
       "      <th>l_Position X</th>\n",
       "      <th>l_Position Y</th>\n",
       "      <th>l_Position Z</th>\n",
       "      <th>l_Velocity X</th>\n",
       "      <th>l_Velocity Y</th>\n",
       "      <th>l_Velocity Z</th>\n",
       "      <th>l_Pitch</th>\n",
       "      <th>...</th>\n",
       "      <th>r_Wrist Pos X</th>\n",
       "      <th>r_Wrist Pos Y</th>\n",
       "      <th>r_Wrist Pos Z</th>\n",
       "      <th>r_Elbow pos X</th>\n",
       "      <th>r_Elbow Pos Y</th>\n",
       "      <th>r_Elbow Pos Z</th>\n",
       "      <th>r_Grab Strenth</th>\n",
       "      <th>r_Grab Angle</th>\n",
       "      <th>r_Pinch Strength</th>\n",
       "      <th>r_type</th>\n",
       "    </tr>\n",
       "    <tr>\n",
       "      <th>type</th>\n",
       "      <th></th>\n",
       "      <th></th>\n",
       "      <th></th>\n",
       "      <th></th>\n",
       "      <th></th>\n",
       "      <th></th>\n",
       "      <th></th>\n",
       "      <th></th>\n",
       "      <th></th>\n",
       "      <th></th>\n",
       "      <th></th>\n",
       "      <th></th>\n",
       "      <th></th>\n",
       "      <th></th>\n",
       "      <th></th>\n",
       "      <th></th>\n",
       "      <th></th>\n",
       "      <th></th>\n",
       "      <th></th>\n",
       "      <th></th>\n",
       "      <th></th>\n",
       "    </tr>\n",
       "  </thead>\n",
       "  <tbody>\n",
       "    <tr>\n",
       "      <th>Alone</th>\n",
       "      <td>31363</td>\n",
       "      <td>31363</td>\n",
       "      <td>31363</td>\n",
       "      <td>31363</td>\n",
       "      <td>31363</td>\n",
       "      <td>31363</td>\n",
       "      <td>31363</td>\n",
       "      <td>31363</td>\n",
       "      <td>31363</td>\n",
       "      <td>31363</td>\n",
       "      <td>...</td>\n",
       "      <td>30369</td>\n",
       "      <td>30369</td>\n",
       "      <td>30369</td>\n",
       "      <td>30369</td>\n",
       "      <td>30369</td>\n",
       "      <td>30369</td>\n",
       "      <td>31363</td>\n",
       "      <td>31363</td>\n",
       "      <td>31363</td>\n",
       "      <td>31363</td>\n",
       "    </tr>\n",
       "    <tr>\n",
       "      <th>Spontan</th>\n",
       "      <td>31771</td>\n",
       "      <td>31771</td>\n",
       "      <td>31771</td>\n",
       "      <td>31771</td>\n",
       "      <td>31771</td>\n",
       "      <td>31771</td>\n",
       "      <td>31771</td>\n",
       "      <td>31771</td>\n",
       "      <td>31771</td>\n",
       "      <td>31771</td>\n",
       "      <td>...</td>\n",
       "      <td>31602</td>\n",
       "      <td>31602</td>\n",
       "      <td>31602</td>\n",
       "      <td>31602</td>\n",
       "      <td>31602</td>\n",
       "      <td>31602</td>\n",
       "      <td>31602</td>\n",
       "      <td>31602</td>\n",
       "      <td>31602</td>\n",
       "      <td>31602</td>\n",
       "    </tr>\n",
       "    <tr>\n",
       "      <th>Sync</th>\n",
       "      <td>31379</td>\n",
       "      <td>31379</td>\n",
       "      <td>31379</td>\n",
       "      <td>31379</td>\n",
       "      <td>31379</td>\n",
       "      <td>31379</td>\n",
       "      <td>31379</td>\n",
       "      <td>31379</td>\n",
       "      <td>31379</td>\n",
       "      <td>31379</td>\n",
       "      <td>...</td>\n",
       "      <td>31364</td>\n",
       "      <td>31364</td>\n",
       "      <td>31364</td>\n",
       "      <td>31364</td>\n",
       "      <td>31364</td>\n",
       "      <td>31364</td>\n",
       "      <td>31364</td>\n",
       "      <td>31364</td>\n",
       "      <td>31364</td>\n",
       "      <td>31364</td>\n",
       "    </tr>\n",
       "  </tbody>\n",
       "</table>\n",
       "<p>3 rows × 43 columns</p>\n",
       "</div>"
      ],
      "text/plain": [
       "         l_Frame ID  l_Hand Type  l_# hands  l_Position X  l_Position Y  \\\n",
       "type                                                                      \n",
       "Alone         31363        31363      31363         31363         31363   \n",
       "Spontan       31771        31771      31771         31771         31771   \n",
       "Sync          31379        31379      31379         31379         31379   \n",
       "\n",
       "         l_Position Z  l_Velocity X  l_Velocity Y  l_Velocity Z  l_Pitch  ...  \\\n",
       "type                                                                      ...   \n",
       "Alone           31363         31363         31363         31363    31363  ...   \n",
       "Spontan         31771         31771         31771         31771    31771  ...   \n",
       "Sync            31379         31379         31379         31379    31379  ...   \n",
       "\n",
       "         r_Wrist Pos X  r_Wrist Pos Y  r_Wrist Pos Z  r_Elbow pos X  \\\n",
       "type                                                                  \n",
       "Alone            30369          30369          30369          30369   \n",
       "Spontan          31602          31602          31602          31602   \n",
       "Sync             31364          31364          31364          31364   \n",
       "\n",
       "         r_Elbow Pos Y  r_Elbow Pos Z  r_Grab Strenth  r_Grab Angle  \\\n",
       "type                                                                  \n",
       "Alone            30369          30369           31363         31363   \n",
       "Spontan          31602          31602           31602         31602   \n",
       "Sync             31364          31364           31364         31364   \n",
       "\n",
       "         r_Pinch Strength  r_type  \n",
       "type                               \n",
       "Alone               31363   31363  \n",
       "Spontan             31602   31602  \n",
       "Sync                31364   31364  \n",
       "\n",
       "[3 rows x 43 columns]"
      ]
     },
     "execution_count": 143,
     "metadata": {},
     "output_type": "execute_result"
    }
   ],
   "source": [
    "train_df.groupby('type').count()"
   ]
  },
  {
   "cell_type": "code",
   "execution_count": 144,
   "metadata": {},
   "outputs": [
    {
     "data": {
      "text/plain": [
       "Index(['l_Frame ID', 'l_Hand Type', 'l_# hands', 'l_Position X',\n",
       "       'l_Position Y', 'l_Position Z', 'l_Velocity X', 'l_Velocity Y',\n",
       "       'l_Velocity Z', 'l_Pitch', 'l_Roll', 'l_Yaw', 'l_Wrist Pos X',\n",
       "       'l_Wrist Pos Y', 'l_Wrist Pos Z', 'l_Elbow pos X', 'l_Elbow Pos Y',\n",
       "       'l_Elbow Pos Z', 'l_Grab Strenth', 'l_Grab Angle', 'l_Pinch Strength',\n",
       "       'type', 'r_Frame ID', 'r_Hand Type', 'r_# hands', 'r_Position X',\n",
       "       'r_Position Y', 'r_Position Z', 'r_Velocity X', 'r_Velocity Y',\n",
       "       'r_Velocity Z', 'r_Pitch', 'r_Roll', 'r_Yaw', 'r_Wrist Pos X',\n",
       "       'r_Wrist Pos Y', 'r_Wrist Pos Z', 'r_Elbow pos X', 'r_Elbow Pos Y',\n",
       "       'r_Elbow Pos Z', 'r_Grab Strenth', 'r_Grab Angle', 'r_Pinch Strength',\n",
       "       'r_type'],\n",
       "      dtype='object')"
      ]
     },
     "execution_count": 144,
     "metadata": {},
     "output_type": "execute_result"
    }
   ],
   "source": [
    "train_df.columns"
   ]
  },
  {
   "cell_type": "code",
   "execution_count": 145,
   "metadata": {},
   "outputs": [],
   "source": [
    "train_df.drop(['l_Frame ID','l_Hand Type','l_# hands','r_type','r_Frame ID', 'r_Hand Type', 'r_# hands'],axis = 1,inplace = True)"
   ]
  },
  {
   "cell_type": "code",
   "execution_count": 146,
   "metadata": {},
   "outputs": [
    {
     "data": {
      "text/plain": [
       "Index(['l_Position X', 'l_Position Y', 'l_Position Z', 'l_Velocity X',\n",
       "       'l_Velocity Y', 'l_Velocity Z', 'l_Pitch', 'l_Roll', 'l_Yaw',\n",
       "       'l_Wrist Pos X', 'l_Wrist Pos Y', 'l_Wrist Pos Z', 'l_Elbow pos X',\n",
       "       'l_Elbow Pos Y', 'l_Elbow Pos Z', 'l_Grab Strenth', 'l_Grab Angle',\n",
       "       'l_Pinch Strength', 'type', 'r_Position X', 'r_Position Y',\n",
       "       'r_Position Z', 'r_Velocity X', 'r_Velocity Y', 'r_Velocity Z',\n",
       "       'r_Pitch', 'r_Roll', 'r_Yaw', 'r_Wrist Pos X', 'r_Wrist Pos Y',\n",
       "       'r_Wrist Pos Z', 'r_Elbow pos X', 'r_Elbow Pos Y', 'r_Elbow Pos Z',\n",
       "       'r_Grab Strenth', 'r_Grab Angle', 'r_Pinch Strength'],\n",
       "      dtype='object')"
      ]
     },
     "execution_count": 146,
     "metadata": {},
     "output_type": "execute_result"
    }
   ],
   "source": [
    "train_df.columns"
   ]
  },
  {
   "cell_type": "code",
   "execution_count": 147,
   "metadata": {},
   "outputs": [
    {
     "data": {
      "text/html": [
       "<div>\n",
       "<style scoped>\n",
       "    .dataframe tbody tr th:only-of-type {\n",
       "        vertical-align: middle;\n",
       "    }\n",
       "\n",
       "    .dataframe tbody tr th {\n",
       "        vertical-align: top;\n",
       "    }\n",
       "\n",
       "    .dataframe thead th {\n",
       "        text-align: right;\n",
       "    }\n",
       "</style>\n",
       "<table border=\"1\" class=\"dataframe\">\n",
       "  <thead>\n",
       "    <tr style=\"text-align: right;\">\n",
       "      <th></th>\n",
       "      <th>l_Position X</th>\n",
       "      <th>l_Position Y</th>\n",
       "      <th>l_Position Z</th>\n",
       "      <th>l_Velocity X</th>\n",
       "      <th>l_Velocity Y</th>\n",
       "      <th>l_Velocity Z</th>\n",
       "      <th>l_Pitch</th>\n",
       "      <th>l_Roll</th>\n",
       "      <th>l_Yaw</th>\n",
       "      <th>l_Wrist Pos X</th>\n",
       "      <th>...</th>\n",
       "      <th>r_Yaw</th>\n",
       "      <th>r_Wrist Pos X</th>\n",
       "      <th>r_Wrist Pos Y</th>\n",
       "      <th>r_Wrist Pos Z</th>\n",
       "      <th>r_Elbow pos X</th>\n",
       "      <th>r_Elbow Pos Y</th>\n",
       "      <th>r_Elbow Pos Z</th>\n",
       "      <th>r_Grab Strenth</th>\n",
       "      <th>r_Grab Angle</th>\n",
       "      <th>r_Pinch Strength</th>\n",
       "    </tr>\n",
       "  </thead>\n",
       "  <tbody>\n",
       "    <tr>\n",
       "      <th>347.5953</th>\n",
       "      <td>-90.35130</td>\n",
       "      <td>152.8257</td>\n",
       "      <td>-15.253350</td>\n",
       "      <td>11.48529</td>\n",
       "      <td>-24.32232</td>\n",
       "      <td>-123.79200</td>\n",
       "      <td>0.057997</td>\n",
       "      <td>-0.288554</td>\n",
       "      <td>1.270159</td>\n",
       "      <td>-157.9376</td>\n",
       "      <td>...</td>\n",
       "      <td>-0.648590</td>\n",
       "      <td>211.2385</td>\n",
       "      <td>154.5470</td>\n",
       "      <td>3.753255</td>\n",
       "      <td>308.8327</td>\n",
       "      <td>-16.433850</td>\n",
       "      <td>157.04660</td>\n",
       "      <td>0.0</td>\n",
       "      <td>0.462682</td>\n",
       "      <td>0.357548</td>\n",
       "    </tr>\n",
       "    <tr>\n",
       "      <th>347.6119</th>\n",
       "      <td>-88.54211</td>\n",
       "      <td>151.8134</td>\n",
       "      <td>-17.573630</td>\n",
       "      <td>150.82950</td>\n",
       "      <td>-45.92197</td>\n",
       "      <td>-143.97270</td>\n",
       "      <td>0.229993</td>\n",
       "      <td>-0.261036</td>\n",
       "      <td>1.209123</td>\n",
       "      <td>-155.6624</td>\n",
       "      <td>...</td>\n",
       "      <td>-0.646624</td>\n",
       "      <td>211.8405</td>\n",
       "      <td>154.9556</td>\n",
       "      <td>3.755771</td>\n",
       "      <td>309.5113</td>\n",
       "      <td>-13.961560</td>\n",
       "      <td>159.27220</td>\n",
       "      <td>0.0</td>\n",
       "      <td>0.487098</td>\n",
       "      <td>0.366849</td>\n",
       "    </tr>\n",
       "    <tr>\n",
       "      <th>347.6284</th>\n",
       "      <td>-85.44501</td>\n",
       "      <td>150.6912</td>\n",
       "      <td>-19.932280</td>\n",
       "      <td>180.43730</td>\n",
       "      <td>-67.56274</td>\n",
       "      <td>-122.93300</td>\n",
       "      <td>0.342248</td>\n",
       "      <td>-0.254073</td>\n",
       "      <td>1.157800</td>\n",
       "      <td>-151.7288</td>\n",
       "      <td>...</td>\n",
       "      <td>-0.646846</td>\n",
       "      <td>212.3367</td>\n",
       "      <td>155.3786</td>\n",
       "      <td>3.698633</td>\n",
       "      <td>310.3992</td>\n",
       "      <td>-11.694740</td>\n",
       "      <td>160.95050</td>\n",
       "      <td>0.0</td>\n",
       "      <td>0.508711</td>\n",
       "      <td>0.342098</td>\n",
       "    </tr>\n",
       "    <tr>\n",
       "      <th>347.6447</th>\n",
       "      <td>-84.20158</td>\n",
       "      <td>150.4454</td>\n",
       "      <td>-20.772450</td>\n",
       "      <td>141.99320</td>\n",
       "      <td>-28.06757</td>\n",
       "      <td>-95.94225</td>\n",
       "      <td>0.388592</td>\n",
       "      <td>-0.263128</td>\n",
       "      <td>1.143781</td>\n",
       "      <td>-150.0312</td>\n",
       "      <td>...</td>\n",
       "      <td>-0.647291</td>\n",
       "      <td>212.4461</td>\n",
       "      <td>155.4613</td>\n",
       "      <td>3.675935</td>\n",
       "      <td>310.8626</td>\n",
       "      <td>-10.689370</td>\n",
       "      <td>161.68240</td>\n",
       "      <td>0.0</td>\n",
       "      <td>0.497236</td>\n",
       "      <td>0.312971</td>\n",
       "    </tr>\n",
       "    <tr>\n",
       "      <th>347.6613</th>\n",
       "      <td>-81.54483</td>\n",
       "      <td>150.7831</td>\n",
       "      <td>-21.980030</td>\n",
       "      <td>149.77240</td>\n",
       "      <td>21.28659</td>\n",
       "      <td>-85.69943</td>\n",
       "      <td>0.371817</td>\n",
       "      <td>-0.287843</td>\n",
       "      <td>1.167613</td>\n",
       "      <td>-147.5270</td>\n",
       "      <td>...</td>\n",
       "      <td>-0.650767</td>\n",
       "      <td>212.5647</td>\n",
       "      <td>155.4003</td>\n",
       "      <td>3.640275</td>\n",
       "      <td>311.4235</td>\n",
       "      <td>-9.389294</td>\n",
       "      <td>162.79190</td>\n",
       "      <td>0.0</td>\n",
       "      <td>0.478578</td>\n",
       "      <td>0.299432</td>\n",
       "    </tr>\n",
       "    <tr>\n",
       "      <th>...</th>\n",
       "      <td>...</td>\n",
       "      <td>...</td>\n",
       "      <td>...</td>\n",
       "      <td>...</td>\n",
       "      <td>...</td>\n",
       "      <td>...</td>\n",
       "      <td>...</td>\n",
       "      <td>...</td>\n",
       "      <td>...</td>\n",
       "      <td>...</td>\n",
       "      <td>...</td>\n",
       "      <td>...</td>\n",
       "      <td>...</td>\n",
       "      <td>...</td>\n",
       "      <td>...</td>\n",
       "      <td>...</td>\n",
       "      <td>...</td>\n",
       "      <td>...</td>\n",
       "      <td>...</td>\n",
       "      <td>...</td>\n",
       "      <td>...</td>\n",
       "    </tr>\n",
       "    <tr>\n",
       "      <th>856.1965</th>\n",
       "      <td>-77.62601</td>\n",
       "      <td>173.7391</td>\n",
       "      <td>-14.213500</td>\n",
       "      <td>-46.75000</td>\n",
       "      <td>99.50911</td>\n",
       "      <td>71.01207</td>\n",
       "      <td>0.629213</td>\n",
       "      <td>1.887313</td>\n",
       "      <td>0.429763</td>\n",
       "      <td>-107.8500</td>\n",
       "      <td>...</td>\n",
       "      <td>-0.495629</td>\n",
       "      <td>129.1261</td>\n",
       "      <td>148.7041</td>\n",
       "      <td>62.824040</td>\n",
       "      <td>300.6781</td>\n",
       "      <td>-33.586720</td>\n",
       "      <td>128.75430</td>\n",
       "      <td>0.0</td>\n",
       "      <td>0.000000</td>\n",
       "      <td>0.000000</td>\n",
       "    </tr>\n",
       "    <tr>\n",
       "      <th>856.2291</th>\n",
       "      <td>-78.43058</td>\n",
       "      <td>176.0170</td>\n",
       "      <td>-12.152660</td>\n",
       "      <td>-33.69026</td>\n",
       "      <td>98.24361</td>\n",
       "      <td>59.77054</td>\n",
       "      <td>0.667618</td>\n",
       "      <td>1.870251</td>\n",
       "      <td>0.434664</td>\n",
       "      <td>-108.0805</td>\n",
       "      <td>...</td>\n",
       "      <td>-0.525644</td>\n",
       "      <td>129.2868</td>\n",
       "      <td>148.1146</td>\n",
       "      <td>63.112180</td>\n",
       "      <td>285.6505</td>\n",
       "      <td>-53.666400</td>\n",
       "      <td>106.02620</td>\n",
       "      <td>0.0</td>\n",
       "      <td>0.000000</td>\n",
       "      <td>0.000000</td>\n",
       "    </tr>\n",
       "    <tr>\n",
       "      <th>856.2631</th>\n",
       "      <td>-79.84506</td>\n",
       "      <td>180.2403</td>\n",
       "      <td>-9.015577</td>\n",
       "      <td>-68.45120</td>\n",
       "      <td>136.37580</td>\n",
       "      <td>87.63277</td>\n",
       "      <td>0.725945</td>\n",
       "      <td>1.838532</td>\n",
       "      <td>0.456099</td>\n",
       "      <td>-109.0018</td>\n",
       "      <td>...</td>\n",
       "      <td>-0.574317</td>\n",
       "      <td>131.8590</td>\n",
       "      <td>149.6264</td>\n",
       "      <td>66.098530</td>\n",
       "      <td>283.6185</td>\n",
       "      <td>-58.034910</td>\n",
       "      <td>95.29868</td>\n",
       "      <td>0.0</td>\n",
       "      <td>0.000000</td>\n",
       "      <td>0.000000</td>\n",
       "    </tr>\n",
       "    <tr>\n",
       "      <th>856.2958</th>\n",
       "      <td>-81.57359</td>\n",
       "      <td>183.5054</td>\n",
       "      <td>-7.185198</td>\n",
       "      <td>-63.24731</td>\n",
       "      <td>121.75270</td>\n",
       "      <td>62.95970</td>\n",
       "      <td>0.762549</td>\n",
       "      <td>1.824587</td>\n",
       "      <td>0.459446</td>\n",
       "      <td>-109.7250</td>\n",
       "      <td>...</td>\n",
       "      <td>-0.612753</td>\n",
       "      <td>134.0416</td>\n",
       "      <td>151.5924</td>\n",
       "      <td>68.176930</td>\n",
       "      <td>288.9688</td>\n",
       "      <td>-54.138200</td>\n",
       "      <td>94.23959</td>\n",
       "      <td>0.0</td>\n",
       "      <td>0.000000</td>\n",
       "      <td>0.000000</td>\n",
       "    </tr>\n",
       "    <tr>\n",
       "      <th>856.3295</th>\n",
       "      <td>-84.05124</td>\n",
       "      <td>187.8450</td>\n",
       "      <td>-5.172269</td>\n",
       "      <td>-57.17249</td>\n",
       "      <td>109.20360</td>\n",
       "      <td>58.48146</td>\n",
       "      <td>0.824793</td>\n",
       "      <td>1.787295</td>\n",
       "      <td>0.434273</td>\n",
       "      <td>-109.5167</td>\n",
       "      <td>...</td>\n",
       "      <td>-0.690703</td>\n",
       "      <td>137.0708</td>\n",
       "      <td>154.2158</td>\n",
       "      <td>71.469250</td>\n",
       "      <td>289.6567</td>\n",
       "      <td>-53.671850</td>\n",
       "      <td>93.98731</td>\n",
       "      <td>0.0</td>\n",
       "      <td>0.000000</td>\n",
       "      <td>0.000000</td>\n",
       "    </tr>\n",
       "  </tbody>\n",
       "</table>\n",
       "<p>100588 rows × 37 columns</p>\n",
       "</div>"
      ],
      "text/plain": [
       "          l_Position X  l_Position Y  l_Position Z  l_Velocity X  \\\n",
       "347.5953     -90.35130      152.8257    -15.253350      11.48529   \n",
       "347.6119     -88.54211      151.8134    -17.573630     150.82950   \n",
       "347.6284     -85.44501      150.6912    -19.932280     180.43730   \n",
       "347.6447     -84.20158      150.4454    -20.772450     141.99320   \n",
       "347.6613     -81.54483      150.7831    -21.980030     149.77240   \n",
       "...                ...           ...           ...           ...   \n",
       "856.1965     -77.62601      173.7391    -14.213500     -46.75000   \n",
       "856.2291     -78.43058      176.0170    -12.152660     -33.69026   \n",
       "856.2631     -79.84506      180.2403     -9.015577     -68.45120   \n",
       "856.2958     -81.57359      183.5054     -7.185198     -63.24731   \n",
       "856.3295     -84.05124      187.8450     -5.172269     -57.17249   \n",
       "\n",
       "          l_Velocity Y  l_Velocity Z   l_Pitch    l_Roll     l_Yaw  \\\n",
       "347.5953     -24.32232    -123.79200  0.057997 -0.288554  1.270159   \n",
       "347.6119     -45.92197    -143.97270  0.229993 -0.261036  1.209123   \n",
       "347.6284     -67.56274    -122.93300  0.342248 -0.254073  1.157800   \n",
       "347.6447     -28.06757     -95.94225  0.388592 -0.263128  1.143781   \n",
       "347.6613      21.28659     -85.69943  0.371817 -0.287843  1.167613   \n",
       "...                ...           ...       ...       ...       ...   \n",
       "856.1965      99.50911      71.01207  0.629213  1.887313  0.429763   \n",
       "856.2291      98.24361      59.77054  0.667618  1.870251  0.434664   \n",
       "856.2631     136.37580      87.63277  0.725945  1.838532  0.456099   \n",
       "856.2958     121.75270      62.95970  0.762549  1.824587  0.459446   \n",
       "856.3295     109.20360      58.48146  0.824793  1.787295  0.434273   \n",
       "\n",
       "          l_Wrist Pos X  ...     r_Yaw  r_Wrist Pos X  r_Wrist Pos Y  \\\n",
       "347.5953      -157.9376  ... -0.648590       211.2385       154.5470   \n",
       "347.6119      -155.6624  ... -0.646624       211.8405       154.9556   \n",
       "347.6284      -151.7288  ... -0.646846       212.3367       155.3786   \n",
       "347.6447      -150.0312  ... -0.647291       212.4461       155.4613   \n",
       "347.6613      -147.5270  ... -0.650767       212.5647       155.4003   \n",
       "...                 ...  ...       ...            ...            ...   \n",
       "856.1965      -107.8500  ... -0.495629       129.1261       148.7041   \n",
       "856.2291      -108.0805  ... -0.525644       129.2868       148.1146   \n",
       "856.2631      -109.0018  ... -0.574317       131.8590       149.6264   \n",
       "856.2958      -109.7250  ... -0.612753       134.0416       151.5924   \n",
       "856.3295      -109.5167  ... -0.690703       137.0708       154.2158   \n",
       "\n",
       "          r_Wrist Pos Z  r_Elbow pos X  r_Elbow Pos Y  r_Elbow Pos Z  \\\n",
       "347.5953       3.753255       308.8327     -16.433850      157.04660   \n",
       "347.6119       3.755771       309.5113     -13.961560      159.27220   \n",
       "347.6284       3.698633       310.3992     -11.694740      160.95050   \n",
       "347.6447       3.675935       310.8626     -10.689370      161.68240   \n",
       "347.6613       3.640275       311.4235      -9.389294      162.79190   \n",
       "...                 ...            ...            ...            ...   \n",
       "856.1965      62.824040       300.6781     -33.586720      128.75430   \n",
       "856.2291      63.112180       285.6505     -53.666400      106.02620   \n",
       "856.2631      66.098530       283.6185     -58.034910       95.29868   \n",
       "856.2958      68.176930       288.9688     -54.138200       94.23959   \n",
       "856.3295      71.469250       289.6567     -53.671850       93.98731   \n",
       "\n",
       "          r_Grab Strenth r_Grab Angle  r_Pinch Strength  \n",
       "347.5953             0.0     0.462682          0.357548  \n",
       "347.6119             0.0     0.487098          0.366849  \n",
       "347.6284             0.0     0.508711          0.342098  \n",
       "347.6447             0.0     0.497236          0.312971  \n",
       "347.6613             0.0     0.478578          0.299432  \n",
       "...                  ...          ...               ...  \n",
       "856.1965             0.0     0.000000          0.000000  \n",
       "856.2291             0.0     0.000000          0.000000  \n",
       "856.2631             0.0     0.000000          0.000000  \n",
       "856.2958             0.0     0.000000          0.000000  \n",
       "856.3295             0.0     0.000000          0.000000  \n",
       "\n",
       "[100588 rows x 37 columns]"
      ]
     },
     "execution_count": 147,
     "metadata": {},
     "output_type": "execute_result"
    }
   ],
   "source": [
    "train_df"
   ]
  },
  {
   "cell_type": "code",
   "execution_count": 148,
   "metadata": {},
   "outputs": [
    {
     "data": {
      "text/html": [
       "<div>\n",
       "<style scoped>\n",
       "    .dataframe tbody tr th:only-of-type {\n",
       "        vertical-align: middle;\n",
       "    }\n",
       "\n",
       "    .dataframe tbody tr th {\n",
       "        vertical-align: top;\n",
       "    }\n",
       "\n",
       "    .dataframe thead th {\n",
       "        text-align: right;\n",
       "    }\n",
       "</style>\n",
       "<table border=\"1\" class=\"dataframe\">\n",
       "  <thead>\n",
       "    <tr style=\"text-align: right;\">\n",
       "      <th></th>\n",
       "      <th>l_Position X</th>\n",
       "      <th>l_Position Y</th>\n",
       "      <th>l_Position Z</th>\n",
       "      <th>l_Velocity X</th>\n",
       "      <th>l_Velocity Y</th>\n",
       "      <th>l_Velocity Z</th>\n",
       "      <th>l_Pitch</th>\n",
       "      <th>l_Roll</th>\n",
       "      <th>l_Yaw</th>\n",
       "      <th>l_Wrist Pos X</th>\n",
       "      <th>...</th>\n",
       "      <th>r_Yaw</th>\n",
       "      <th>r_Wrist Pos X</th>\n",
       "      <th>r_Wrist Pos Y</th>\n",
       "      <th>r_Wrist Pos Z</th>\n",
       "      <th>r_Elbow pos X</th>\n",
       "      <th>r_Elbow Pos Y</th>\n",
       "      <th>r_Elbow Pos Z</th>\n",
       "      <th>r_Grab Strenth</th>\n",
       "      <th>r_Grab Angle</th>\n",
       "      <th>r_Pinch Strength</th>\n",
       "    </tr>\n",
       "    <tr>\n",
       "      <th>type</th>\n",
       "      <th></th>\n",
       "      <th></th>\n",
       "      <th></th>\n",
       "      <th></th>\n",
       "      <th></th>\n",
       "      <th></th>\n",
       "      <th></th>\n",
       "      <th></th>\n",
       "      <th></th>\n",
       "      <th></th>\n",
       "      <th></th>\n",
       "      <th></th>\n",
       "      <th></th>\n",
       "      <th></th>\n",
       "      <th></th>\n",
       "      <th></th>\n",
       "      <th></th>\n",
       "      <th></th>\n",
       "      <th></th>\n",
       "      <th></th>\n",
       "      <th></th>\n",
       "    </tr>\n",
       "  </thead>\n",
       "  <tbody>\n",
       "    <tr>\n",
       "      <th>Alone</th>\n",
       "      <td>31363</td>\n",
       "      <td>31363</td>\n",
       "      <td>31363</td>\n",
       "      <td>31363</td>\n",
       "      <td>31363</td>\n",
       "      <td>31363</td>\n",
       "      <td>31363</td>\n",
       "      <td>31363</td>\n",
       "      <td>31363</td>\n",
       "      <td>31363</td>\n",
       "      <td>...</td>\n",
       "      <td>31363</td>\n",
       "      <td>30369</td>\n",
       "      <td>30369</td>\n",
       "      <td>30369</td>\n",
       "      <td>30369</td>\n",
       "      <td>30369</td>\n",
       "      <td>30369</td>\n",
       "      <td>31363</td>\n",
       "      <td>31363</td>\n",
       "      <td>31363</td>\n",
       "    </tr>\n",
       "    <tr>\n",
       "      <th>Spontan</th>\n",
       "      <td>31771</td>\n",
       "      <td>31771</td>\n",
       "      <td>31771</td>\n",
       "      <td>31771</td>\n",
       "      <td>31771</td>\n",
       "      <td>31771</td>\n",
       "      <td>31771</td>\n",
       "      <td>31771</td>\n",
       "      <td>31771</td>\n",
       "      <td>31771</td>\n",
       "      <td>...</td>\n",
       "      <td>31602</td>\n",
       "      <td>31602</td>\n",
       "      <td>31602</td>\n",
       "      <td>31602</td>\n",
       "      <td>31602</td>\n",
       "      <td>31602</td>\n",
       "      <td>31602</td>\n",
       "      <td>31602</td>\n",
       "      <td>31602</td>\n",
       "      <td>31602</td>\n",
       "    </tr>\n",
       "    <tr>\n",
       "      <th>Sync</th>\n",
       "      <td>31379</td>\n",
       "      <td>31379</td>\n",
       "      <td>31379</td>\n",
       "      <td>31379</td>\n",
       "      <td>31379</td>\n",
       "      <td>31379</td>\n",
       "      <td>31379</td>\n",
       "      <td>31379</td>\n",
       "      <td>31379</td>\n",
       "      <td>31379</td>\n",
       "      <td>...</td>\n",
       "      <td>31364</td>\n",
       "      <td>31364</td>\n",
       "      <td>31364</td>\n",
       "      <td>31364</td>\n",
       "      <td>31364</td>\n",
       "      <td>31364</td>\n",
       "      <td>31364</td>\n",
       "      <td>31364</td>\n",
       "      <td>31364</td>\n",
       "      <td>31364</td>\n",
       "    </tr>\n",
       "  </tbody>\n",
       "</table>\n",
       "<p>3 rows × 36 columns</p>\n",
       "</div>"
      ],
      "text/plain": [
       "         l_Position X  l_Position Y  l_Position Z  l_Velocity X  l_Velocity Y  \\\n",
       "type                                                                            \n",
       "Alone           31363         31363         31363         31363         31363   \n",
       "Spontan         31771         31771         31771         31771         31771   \n",
       "Sync            31379         31379         31379         31379         31379   \n",
       "\n",
       "         l_Velocity Z  l_Pitch  l_Roll  l_Yaw  l_Wrist Pos X  ...  r_Yaw  \\\n",
       "type                                                          ...          \n",
       "Alone           31363    31363   31363  31363          31363  ...  31363   \n",
       "Spontan         31771    31771   31771  31771          31771  ...  31602   \n",
       "Sync            31379    31379   31379  31379          31379  ...  31364   \n",
       "\n",
       "         r_Wrist Pos X  r_Wrist Pos Y  r_Wrist Pos Z  r_Elbow pos X  \\\n",
       "type                                                                  \n",
       "Alone            30369          30369          30369          30369   \n",
       "Spontan          31602          31602          31602          31602   \n",
       "Sync             31364          31364          31364          31364   \n",
       "\n",
       "         r_Elbow Pos Y  r_Elbow Pos Z  r_Grab Strenth  r_Grab Angle  \\\n",
       "type                                                                  \n",
       "Alone            30369          30369           31363         31363   \n",
       "Spontan          31602          31602           31602         31602   \n",
       "Sync             31364          31364           31364         31364   \n",
       "\n",
       "         r_Pinch Strength  \n",
       "type                       \n",
       "Alone               31363  \n",
       "Spontan             31602  \n",
       "Sync                31364  \n",
       "\n",
       "[3 rows x 36 columns]"
      ]
     },
     "execution_count": 148,
     "metadata": {},
     "output_type": "execute_result"
    }
   ],
   "source": [
    "train_df.groupby('type').count()"
   ]
  },
  {
   "cell_type": "code",
   "execution_count": 149,
   "metadata": {},
   "outputs": [
    {
     "name": "stdout",
     "output_type": "stream",
     "text": [
      "Number of missing values in the test set: 37\n"
     ]
    }
   ],
   "source": [
    "print(\"Number of missing values in the test set:\",test_df.isnull().any().sum())"
   ]
  },
  {
   "cell_type": "code",
   "execution_count": 150,
   "metadata": {},
   "outputs": [],
   "source": [
    "test_df.dropna(inplace=True, axis=0, how=\"any\")"
   ]
  },
  {
   "cell_type": "code",
   "execution_count": 151,
   "metadata": {},
   "outputs": [
    {
     "name": "stdout",
     "output_type": "stream",
     "text": [
      "Number of missing values in the train set: 37\n"
     ]
    }
   ],
   "source": [
    "\n",
    "print(\"Number of missing values in the train set:\",train_df.isnull().any().sum())"
   ]
  },
  {
   "cell_type": "code",
   "execution_count": 152,
   "metadata": {},
   "outputs": [],
   "source": [
    "train_df.dropna(inplace=True, axis=0, how=\"any\")"
   ]
  },
  {
   "cell_type": "code",
   "execution_count": 153,
   "metadata": {},
   "outputs": [
    {
     "data": {
      "text/html": [
       "<div>\n",
       "<style scoped>\n",
       "    .dataframe tbody tr th:only-of-type {\n",
       "        vertical-align: middle;\n",
       "    }\n",
       "\n",
       "    .dataframe tbody tr th {\n",
       "        vertical-align: top;\n",
       "    }\n",
       "\n",
       "    .dataframe thead th {\n",
       "        text-align: right;\n",
       "    }\n",
       "</style>\n",
       "<table border=\"1\" class=\"dataframe\">\n",
       "  <thead>\n",
       "    <tr style=\"text-align: right;\">\n",
       "      <th></th>\n",
       "      <th>l_Position X</th>\n",
       "      <th>l_Position Y</th>\n",
       "      <th>l_Position Z</th>\n",
       "      <th>l_Velocity X</th>\n",
       "      <th>l_Velocity Y</th>\n",
       "      <th>l_Velocity Z</th>\n",
       "      <th>l_Pitch</th>\n",
       "      <th>l_Roll</th>\n",
       "      <th>l_Yaw</th>\n",
       "      <th>l_Wrist Pos X</th>\n",
       "      <th>...</th>\n",
       "      <th>r_Yaw</th>\n",
       "      <th>r_Wrist Pos X</th>\n",
       "      <th>r_Wrist Pos Y</th>\n",
       "      <th>r_Wrist Pos Z</th>\n",
       "      <th>r_Elbow pos X</th>\n",
       "      <th>r_Elbow Pos Y</th>\n",
       "      <th>r_Elbow Pos Z</th>\n",
       "      <th>r_Grab Strenth</th>\n",
       "      <th>r_Grab Angle</th>\n",
       "      <th>r_Pinch Strength</th>\n",
       "    </tr>\n",
       "    <tr>\n",
       "      <th>type</th>\n",
       "      <th></th>\n",
       "      <th></th>\n",
       "      <th></th>\n",
       "      <th></th>\n",
       "      <th></th>\n",
       "      <th></th>\n",
       "      <th></th>\n",
       "      <th></th>\n",
       "      <th></th>\n",
       "      <th></th>\n",
       "      <th></th>\n",
       "      <th></th>\n",
       "      <th></th>\n",
       "      <th></th>\n",
       "      <th></th>\n",
       "      <th></th>\n",
       "      <th></th>\n",
       "      <th></th>\n",
       "      <th></th>\n",
       "      <th></th>\n",
       "      <th></th>\n",
       "    </tr>\n",
       "  </thead>\n",
       "  <tbody>\n",
       "    <tr>\n",
       "      <th>Alone</th>\n",
       "      <td>30369</td>\n",
       "      <td>30369</td>\n",
       "      <td>30369</td>\n",
       "      <td>30369</td>\n",
       "      <td>30369</td>\n",
       "      <td>30369</td>\n",
       "      <td>30369</td>\n",
       "      <td>30369</td>\n",
       "      <td>30369</td>\n",
       "      <td>30369</td>\n",
       "      <td>...</td>\n",
       "      <td>30369</td>\n",
       "      <td>30369</td>\n",
       "      <td>30369</td>\n",
       "      <td>30369</td>\n",
       "      <td>30369</td>\n",
       "      <td>30369</td>\n",
       "      <td>30369</td>\n",
       "      <td>30369</td>\n",
       "      <td>30369</td>\n",
       "      <td>30369</td>\n",
       "    </tr>\n",
       "    <tr>\n",
       "      <th>Spontan</th>\n",
       "      <td>31602</td>\n",
       "      <td>31602</td>\n",
       "      <td>31602</td>\n",
       "      <td>31602</td>\n",
       "      <td>31602</td>\n",
       "      <td>31602</td>\n",
       "      <td>31602</td>\n",
       "      <td>31602</td>\n",
       "      <td>31602</td>\n",
       "      <td>31602</td>\n",
       "      <td>...</td>\n",
       "      <td>31602</td>\n",
       "      <td>31602</td>\n",
       "      <td>31602</td>\n",
       "      <td>31602</td>\n",
       "      <td>31602</td>\n",
       "      <td>31602</td>\n",
       "      <td>31602</td>\n",
       "      <td>31602</td>\n",
       "      <td>31602</td>\n",
       "      <td>31602</td>\n",
       "    </tr>\n",
       "    <tr>\n",
       "      <th>Sync</th>\n",
       "      <td>31364</td>\n",
       "      <td>31364</td>\n",
       "      <td>31364</td>\n",
       "      <td>31364</td>\n",
       "      <td>31364</td>\n",
       "      <td>31364</td>\n",
       "      <td>31364</td>\n",
       "      <td>31364</td>\n",
       "      <td>31364</td>\n",
       "      <td>31364</td>\n",
       "      <td>...</td>\n",
       "      <td>31364</td>\n",
       "      <td>31364</td>\n",
       "      <td>31364</td>\n",
       "      <td>31364</td>\n",
       "      <td>31364</td>\n",
       "      <td>31364</td>\n",
       "      <td>31364</td>\n",
       "      <td>31364</td>\n",
       "      <td>31364</td>\n",
       "      <td>31364</td>\n",
       "    </tr>\n",
       "  </tbody>\n",
       "</table>\n",
       "<p>3 rows × 36 columns</p>\n",
       "</div>"
      ],
      "text/plain": [
       "         l_Position X  l_Position Y  l_Position Z  l_Velocity X  l_Velocity Y  \\\n",
       "type                                                                            \n",
       "Alone           30369         30369         30369         30369         30369   \n",
       "Spontan         31602         31602         31602         31602         31602   \n",
       "Sync            31364         31364         31364         31364         31364   \n",
       "\n",
       "         l_Velocity Z  l_Pitch  l_Roll  l_Yaw  l_Wrist Pos X  ...  r_Yaw  \\\n",
       "type                                                          ...          \n",
       "Alone           30369    30369   30369  30369          30369  ...  30369   \n",
       "Spontan         31602    31602   31602  31602          31602  ...  31602   \n",
       "Sync            31364    31364   31364  31364          31364  ...  31364   \n",
       "\n",
       "         r_Wrist Pos X  r_Wrist Pos Y  r_Wrist Pos Z  r_Elbow pos X  \\\n",
       "type                                                                  \n",
       "Alone            30369          30369          30369          30369   \n",
       "Spontan          31602          31602          31602          31602   \n",
       "Sync             31364          31364          31364          31364   \n",
       "\n",
       "         r_Elbow Pos Y  r_Elbow Pos Z  r_Grab Strenth  r_Grab Angle  \\\n",
       "type                                                                  \n",
       "Alone            30369          30369           30369         30369   \n",
       "Spontan          31602          31602           31602         31602   \n",
       "Sync             31364          31364           31364         31364   \n",
       "\n",
       "         r_Pinch Strength  \n",
       "type                       \n",
       "Alone               30369  \n",
       "Spontan             31602  \n",
       "Sync                31364  \n",
       "\n",
       "[3 rows x 36 columns]"
      ]
     },
     "execution_count": 153,
     "metadata": {},
     "output_type": "execute_result"
    }
   ],
   "source": [
    "train_df.groupby('type').count()"
   ]
  },
  {
   "cell_type": "code",
   "execution_count": 154,
   "metadata": {},
   "outputs": [
    {
     "data": {
      "text/plain": [
       "Spontan    31602\n",
       "Sync       31364\n",
       "Alone      30369\n",
       "Name: type, dtype: int64"
      ]
     },
     "execution_count": 154,
     "metadata": {},
     "output_type": "execute_result"
    }
   ],
   "source": [
    "train_df['type'].value_counts()"
   ]
  },
  {
   "cell_type": "code",
   "execution_count": 155,
   "metadata": {},
   "outputs": [],
   "source": [
    "train_df = train_df.groupby(np.arange(len(train_df.index))//20, axis=0).max()\n",
    "test_df = test_df.groupby(np.arange(len(test_df.index))//20, axis=0).max()"
   ]
  },
  {
   "cell_type": "markdown",
   "metadata": {},
   "source": [
    "# Visualization"
   ]
  },
  {
   "cell_type": "code",
   "execution_count": 156,
   "metadata": {},
   "outputs": [
    {
     "data": {
      "text/plain": [
       "<matplotlib.axes._subplots.AxesSubplot at 0x1da2d5202b0>"
      ]
     },
     "execution_count": 156,
     "metadata": {},
     "output_type": "execute_result"
    },
    {
     "data": {
      "image/png": "[encoded data removed]",
      "text/plain": [
       "<Figure size 432x432 with 1 Axes>"
      ]
     },
     "metadata": {
      "needs_background": "light"
     },
     "output_type": "display_data"
    }
   ],
   "source": [
    "plt.figure(figsize = (6,6))\n",
    "sns.countplot(x = \"type\", data = train_df)"
   ]
  },
  {
   "cell_type": "code",
   "execution_count": 157,
   "metadata": {},
   "outputs": [
    {
     "data": {
      "text/plain": [
       "Text(0, 0.5, 'X pos left')"
      ]
     },
     "execution_count": 157,
     "metadata": {},
     "output_type": "execute_result"
    },
    {
     "data": {
      "image/png": "[encoded data removed]",
      "text/plain": [
       "<Figure size 432x288 with 1 Axes>"
      ]
     },
     "metadata": {
      "needs_background": "light"
     },
     "output_type": "display_data"
    }
   ],
   "source": [
    "sns.scatterplot(x=\"r_Position X\", y=\"l_Position X\", hue=\"type\", data=train_df)\n",
    "plt.xlabel('X pos right')\n",
    "plt.ylabel('X pos left')"
   ]
  },
  {
   "cell_type": "code",
   "execution_count": 159,
   "metadata": {},
   "outputs": [
    {
     "data": {
      "text/plain": [
       "Text(0, 0.5, 'Y pos left')"
      ]
     },
     "execution_count": 159,
     "metadata": {},
     "output_type": "execute_result"
    },
    {
     "data": {
      "image/png": "[encoded data removed]",
      "text/plain": [
       "<Figure size 432x288 with 1 Axes>"
      ]
     },
     "metadata": {
      "needs_background": "light"
     },
     "output_type": "display_data"
    }
   ],
   "source": [
    "sns.scatterplot(x=\"r_Position Y\", y=\"l_Position Y\", hue=\"type\", data=train_df)\n",
    "plt.xlabel('Y pos right')\n",
    "plt.ylabel('Y pos left')"
   ]
  },
  {
   "cell_type": "code",
   "execution_count": 160,
   "metadata": {},
   "outputs": [
    {
     "data": {
      "text/plain": [
       "Text(0, 0.5, 'Z pos left')"
      ]
     },
     "execution_count": 160,
     "metadata": {},
     "output_type": "execute_result"
    },
    {
     "data": {
      "image/png": "[encoded data removed]",
      "text/plain": [
       "<Figure size 432x288 with 1 Axes>"
      ]
     },
     "metadata": {
      "needs_background": "light"
     },
     "output_type": "display_data"
    }
   ],
   "source": [
    "sns.scatterplot(x=\"r_Position Z\", y=\"l_Position Z\", hue=\"type\", data=train_df)\n",
    "plt.xlabel('Z pos right')\n",
    "plt.ylabel('Z pos left')"
   ]
  },
  {
   "cell_type": "code",
   "execution_count": 161,
   "metadata": {},
   "outputs": [
    {
     "data": {
      "image/png": "[encoded data removed]",
      "text/plain": [
       "<Figure size 504x504 with 1 Axes>"
      ]
     },
     "metadata": {
      "needs_background": "light"
     },
     "output_type": "display_data"
    }
   ],
   "source": [
    "plt.figure(figsize=(7,7))\n",
    "x = train_df['l_Roll']\n",
    "y = train_df['r_Roll']\n",
    "sns.distplot(x)\n",
    "sns.distplot(y)\n",
    "plt.legend(labels=['left-hand-roll', 'right-hand-roll'])\n",
    "plt.show()"
   ]
  },
  {
   "cell_type": "code",
   "execution_count": 243,
   "metadata": {},
   "outputs": [
    {
     "data": {
      "image/png": "[encoded data removed]",
      "text/plain": [
       "<Figure size 576x576 with 1 Axes>"
      ]
     },
     "metadata": {},
     "output_type": "display_data"
    }
   ],
   "source": [
    "from mpl_toolkits.mplot3d import Axes3D\n",
    "sns.set_style(\"whitegrid\", {'axes.grid' : False})\n",
    "\n",
    "fig = plt.figure(figsize=(8,8))\n",
    "\n",
    "ax = Axes3D(fig) \n",
    "\n",
    "x = train_df['r_Position X']\n",
    "y = train_df['r_Position Y']\n",
    "z = train_df['r_Position Z']\n",
    "\n",
    "ax.scatter(x, y, z, c=x, marker='o')\n",
    "ax.set_xlabel('Position X')\n",
    "ax.set_ylabel('Position Y')\n",
    "ax.set_zlabel('Position Z')\n",
    "\n",
    "plt.show()"
   ]
  },
  {
   "cell_type": "code",
   "execution_count": null,
   "metadata": {},
   "outputs": [],
   "source": [
    "ax = plt.axes(projection='3d')\n",
    "ax.plot_surface(x, y, z, cmap='jet')\n",
    "plt.show()"
   ]
  },
  {
   "cell_type": "markdown",
   "metadata": {},
   "source": [
    "# preprocessing of data"
   ]
  },
  {
   "cell_type": "code",
   "execution_count": 162,
   "metadata": {},
   "outputs": [],
   "source": [
    "# keep aside to the end\n",
    "test_labels = test_df['type']\n",
    "X_test = test_df.drop('type', axis =1)"
   ]
  },
  {
   "cell_type": "code",
   "execution_count": 163,
   "metadata": {},
   "outputs": [],
   "source": [
    "# train the model on this data\n",
    "train_label = train_df['type']\n",
    "train_df = train_df.drop('type', axis =1)\n",
    "X_train, X_valid, y_train, y_valid = train_test_split(train_df, train_label, test_size=0.2, random_state=1)"
   ]
  },
  {
   "cell_type": "code",
   "execution_count": 164,
   "metadata": {},
   "outputs": [],
   "source": [
    "# Normalization\n",
    "scaler = StandardScaler()\n",
    "X_train = scaler.fit_transform(X_train)\n",
    "X_valid = scaler.transform(X_valid)\n",
    "X_test = scaler.transform(X_test)"
   ]
  },
  {
   "cell_type": "markdown",
   "metadata": {},
   "source": [
    "# Modeling:"
   ]
  },
  {
   "cell_type": "markdown",
   "metadata": {},
   "source": [
    "### Dummy model"
   ]
  },
  {
   "cell_type": "code",
   "execution_count": 165,
   "metadata": {},
   "outputs": [
    {
     "name": "stdout",
     "output_type": "stream",
     "text": [
      "Accuracy of Dummy Classifier:  33.61884368308351\n"
     ]
    }
   ],
   "source": [
    "dc = DummyClassifier(strategy = 'most_frequent')\n",
    "dc.fit(X_train, y_train)\n",
    "y_pred = dc.predict(X_valid)\n",
    "label, count = np.unique(np.array(y_pred), return_counts=True)\n",
    "print(\"Accuracy of Dummy Classifier: \",metrics.accuracy_score(y_valid, y_pred)*100)"
   ]
  },
  {
   "cell_type": "markdown",
   "metadata": {},
   "source": [
    "### KNN "
   ]
  },
  {
   "cell_type": "code",
   "execution_count": 166,
   "metadata": {},
   "outputs": [],
   "source": [
    "knn = KNeighborsClassifier(n_neighbors = 20)\n",
    "knn.fit(X_train, y_train)\n",
    "knn_pred = knn.predict(X_valid)\n",
    "knn_score = knn.score(X_valid,y_valid)*100"
   ]
  },
  {
   "cell_type": "code",
   "execution_count": 167,
   "metadata": {},
   "outputs": [
    {
     "name": "stdout",
     "output_type": "stream",
     "text": [
      "f-score 0.9219110525703439\n"
     ]
    }
   ],
   "source": [
    "#f-score:\n",
    "f=f1_score(y_valid, knn_pred,average='weighted')\n",
    "print('f-score', f)"
   ]
  },
  {
   "cell_type": "code",
   "execution_count": 168,
   "metadata": {},
   "outputs": [
    {
     "name": "stdout",
     "output_type": "stream",
     "text": [
      "Testing Score:  92.18415417558886\n",
      "Training Score:  92.92793999464239\n"
     ]
    }
   ],
   "source": [
    "# Accuracy:\n",
    "print(\"Testing Score: \",knn.score(X_valid,y_valid)*100)\n",
    "print(\"Training Score: \",knn.score(X_train, y_train)*100)"
   ]
  },
  {
   "cell_type": "code",
   "execution_count": 169,
   "metadata": {},
   "outputs": [
    {
     "data": {
      "text/html": [
       "<div>\n",
       "<style scoped>\n",
       "    .dataframe tbody tr th:only-of-type {\n",
       "        vertical-align: middle;\n",
       "    }\n",
       "\n",
       "    .dataframe tbody tr th {\n",
       "        vertical-align: top;\n",
       "    }\n",
       "\n",
       "    .dataframe thead tr th {\n",
       "        text-align: left;\n",
       "    }\n",
       "</style>\n",
       "<table border=\"1\" class=\"dataframe\">\n",
       "  <thead>\n",
       "    <tr>\n",
       "      <th></th>\n",
       "      <th></th>\n",
       "      <th colspan=\"3\" halign=\"left\">predicted</th>\n",
       "    </tr>\n",
       "    <tr>\n",
       "      <th></th>\n",
       "      <th></th>\n",
       "      <th>Alone</th>\n",
       "      <th>Spontan</th>\n",
       "      <th>Sync</th>\n",
       "    </tr>\n",
       "  </thead>\n",
       "  <tbody>\n",
       "    <tr>\n",
       "      <th rowspan=\"3\" valign=\"top\">actual</th>\n",
       "      <th>Alone</th>\n",
       "      <td>306</td>\n",
       "      <td>1</td>\n",
       "      <td>1</td>\n",
       "    </tr>\n",
       "    <tr>\n",
       "      <th>Spontan</th>\n",
       "      <td>0</td>\n",
       "      <td>286</td>\n",
       "      <td>28</td>\n",
       "    </tr>\n",
       "    <tr>\n",
       "      <th>Sync</th>\n",
       "      <td>0</td>\n",
       "      <td>43</td>\n",
       "      <td>269</td>\n",
       "    </tr>\n",
       "  </tbody>\n",
       "</table>\n",
       "</div>"
      ],
      "text/plain": [
       "               predicted             \n",
       "                   Alone Spontan Sync\n",
       "actual Alone         306       1    1\n",
       "       Spontan         0     286   28\n",
       "       Sync            0      43  269"
      ]
     },
     "execution_count": 169,
     "metadata": {},
     "output_type": "execute_result"
    }
   ],
   "source": [
    "#Confusion matrix:\n",
    "df = pd.DataFrame(\n",
    "    metrics.confusion_matrix(y_valid,knn_pred),\n",
    "    index = [['actual', 'actual','actual'], ['Alone', 'Spontan' ,'Sync']],\n",
    "    columns = [['predicted', 'predicted','predicted'], ['Alone' ,'Spontan', 'Sync']])\n",
    "df"
   ]
  },
  {
   "cell_type": "code",
   "execution_count": 170,
   "metadata": {},
   "outputs": [
    {
     "name": "stdout",
     "output_type": "stream",
     "text": [
      "              precision    recall  f1-score   support\n",
      "\n",
      "       Alone       1.00      0.99      1.00       308\n",
      "     Spontan       0.87      0.91      0.89       314\n",
      "        Sync       0.90      0.86      0.88       312\n",
      "\n",
      "    accuracy                           0.92       934\n",
      "   macro avg       0.92      0.92      0.92       934\n",
      "weighted avg       0.92      0.92      0.92       934\n",
      "\n"
     ]
    },
    {
     "data": {
      "image/png": "[encoded data removed]",
      "text/plain": [
       "<Figure size 432x288 with 2 Axes>"
      ]
     },
     "metadata": {
      "needs_background": "light"
     },
     "output_type": "display_data"
    }
   ],
   "source": [
    "con_mat = confusion_matrix(y_valid, knn_pred)\n",
    "f, ax = plt.subplots(figsize=(6, 4))\n",
    "sns.heatmap(con_mat, annot=True, fmt='g',cmap=\"YlGnBu\")\n",
    "print(classification_report(y_valid, knn_pred))"
   ]
  },
  {
   "cell_type": "markdown",
   "metadata": {},
   "source": [
    "### Logistic Regression"
   ]
  },
  {
   "cell_type": "code",
   "execution_count": 171,
   "metadata": {},
   "outputs": [],
   "source": [
    "lr=LogisticRegression()\n",
    "lr.fit(X_train,y_train)\n",
    "lr_pred = lr.predict(X_valid)\n",
    "lr_score = lr.score(X_valid,y_valid)*100"
   ]
  },
  {
   "cell_type": "code",
   "execution_count": 172,
   "metadata": {},
   "outputs": [
    {
     "name": "stdout",
     "output_type": "stream",
     "text": [
      "f-score 0.8928876957635302\n"
     ]
    }
   ],
   "source": [
    "#f-score:\n",
    "f=f1_score(y_valid, lr_pred,average='weighted')\n",
    "print('f-score', f)"
   ]
  },
  {
   "cell_type": "code",
   "execution_count": 173,
   "metadata": {},
   "outputs": [
    {
     "name": "stdout",
     "output_type": "stream",
     "text": [
      "Testing Score:  89.29336188436831\n",
      "Training Score:  88.05250468791857\n"
     ]
    }
   ],
   "source": [
    "#Accuracy:\n",
    "print(\"Testing Score: \",lr.score(X_valid,y_valid)*100)\n",
    "print(\"Training Score: \",lr.score(X_train, y_train)*100)"
   ]
  },
  {
   "cell_type": "code",
   "execution_count": 174,
   "metadata": {},
   "outputs": [
    {
     "data": {
      "text/html": [
       "<div>\n",
       "<style scoped>\n",
       "    .dataframe tbody tr th:only-of-type {\n",
       "        vertical-align: middle;\n",
       "    }\n",
       "\n",
       "    .dataframe tbody tr th {\n",
       "        vertical-align: top;\n",
       "    }\n",
       "\n",
       "    .dataframe thead tr th {\n",
       "        text-align: left;\n",
       "    }\n",
       "</style>\n",
       "<table border=\"1\" class=\"dataframe\">\n",
       "  <thead>\n",
       "    <tr>\n",
       "      <th></th>\n",
       "      <th></th>\n",
       "      <th colspan=\"3\" halign=\"left\">predicted</th>\n",
       "    </tr>\n",
       "    <tr>\n",
       "      <th></th>\n",
       "      <th></th>\n",
       "      <th>Alone</th>\n",
       "      <th>Spontan</th>\n",
       "      <th>Sync</th>\n",
       "    </tr>\n",
       "  </thead>\n",
       "  <tbody>\n",
       "    <tr>\n",
       "      <th rowspan=\"3\" valign=\"top\">actual</th>\n",
       "      <th>Alone</th>\n",
       "      <td>308</td>\n",
       "      <td>0</td>\n",
       "      <td>0</td>\n",
       "    </tr>\n",
       "    <tr>\n",
       "      <th>Spontan</th>\n",
       "      <td>0</td>\n",
       "      <td>270</td>\n",
       "      <td>44</td>\n",
       "    </tr>\n",
       "    <tr>\n",
       "      <th>Sync</th>\n",
       "      <td>0</td>\n",
       "      <td>56</td>\n",
       "      <td>256</td>\n",
       "    </tr>\n",
       "  </tbody>\n",
       "</table>\n",
       "</div>"
      ],
      "text/plain": [
       "               predicted             \n",
       "                   Alone Spontan Sync\n",
       "actual Alone         308       0    0\n",
       "       Spontan         0     270   44\n",
       "       Sync            0      56  256"
      ]
     },
     "execution_count": 174,
     "metadata": {},
     "output_type": "execute_result"
    }
   ],
   "source": [
    "#Confusion matrix:\n",
    "df = pd.DataFrame(\n",
    "    metrics.confusion_matrix(y_valid,lr_pred),\n",
    "    index = [['actual', 'actual','actual'], ['Alone', 'Spontan' ,'Sync']],\n",
    "    columns = [['predicted', 'predicted','predicted'], ['Alone' ,'Spontan', 'Sync']])\n",
    "df"
   ]
  },
  {
   "cell_type": "code",
   "execution_count": 56,
   "metadata": {},
   "outputs": [
    {
     "name": "stdout",
     "output_type": "stream",
     "text": [
      "              precision    recall  f1-score   support\n",
      "\n",
      "       Alone       1.00      1.00      1.00       308\n",
      "     Spontan       0.83      0.86      0.84       314\n",
      "        Sync       0.85      0.82      0.84       312\n",
      "\n",
      "    accuracy                           0.89       934\n",
      "   macro avg       0.89      0.89      0.89       934\n",
      "weighted avg       0.89      0.89      0.89       934\n",
      "\n"
     ]
    },
    {
     "data": {
      "image/png": "[encoded data removed]",
      "text/plain": [
       "<Figure size 432x288 with 2 Axes>"
      ]
     },
     "metadata": {
      "needs_background": "light"
     },
     "output_type": "display_data"
    }
   ],
   "source": [
    "con_mat = confusion_matrix(y_valid, lr_pred)\n",
    "f, ax = plt.subplots(figsize=(6, 4))\n",
    "sns.heatmap(con_mat, annot=True, fmt='g',cmap=\"YlGnBu\")\n",
    "print(classification_report(y_valid, lr_pred))"
   ]
  },
  {
   "cell_type": "markdown",
   "metadata": {},
   "source": [
    "### Gaussian Naive Bayes "
   ]
  },
  {
   "cell_type": "code",
   "execution_count": 57,
   "metadata": {},
   "outputs": [],
   "source": [
    "gnb = GaussianNB()\n",
    "gnb.fit(X_train, y_train)\n",
    "gnb_pred = gnb.predict(X_valid)\n",
    "gnb_score = gnb.score(X_valid,y_valid)*100"
   ]
  },
  {
   "cell_type": "code",
   "execution_count": 58,
   "metadata": {},
   "outputs": [
    {
     "name": "stdout",
     "output_type": "stream",
     "text": [
      "f-score 0.8699971657276656\n"
     ]
    }
   ],
   "source": [
    "#f-score:\n",
    "f=f1_score(y_valid, gnb_pred,average='weighted')\n",
    "print('f-score', f)"
   ]
  },
  {
   "cell_type": "code",
   "execution_count": 59,
   "metadata": {},
   "outputs": [
    {
     "name": "stdout",
     "output_type": "stream",
     "text": [
      "Testing Score:  87.04496788008565\n",
      "Training Score:  85.18617733726227\n"
     ]
    }
   ],
   "source": [
    "#Accuracy:\n",
    "print(\"Testing Score: \",gnb.score(X_valid,y_valid)*100)\n",
    "print(\"Training Score: \",gnb.score(X_train, y_train)*100)"
   ]
  },
  {
   "cell_type": "code",
   "execution_count": 60,
   "metadata": {},
   "outputs": [
    {
     "data": {
      "text/html": [
       "<div>\n",
       "<style scoped>\n",
       "    .dataframe tbody tr th:only-of-type {\n",
       "        vertical-align: middle;\n",
       "    }\n",
       "\n",
       "    .dataframe tbody tr th {\n",
       "        vertical-align: top;\n",
       "    }\n",
       "\n",
       "    .dataframe thead tr th {\n",
       "        text-align: left;\n",
       "    }\n",
       "</style>\n",
       "<table border=\"1\" class=\"dataframe\">\n",
       "  <thead>\n",
       "    <tr>\n",
       "      <th></th>\n",
       "      <th></th>\n",
       "      <th colspan=\"3\" halign=\"left\">predicted</th>\n",
       "    </tr>\n",
       "    <tr>\n",
       "      <th></th>\n",
       "      <th></th>\n",
       "      <th>Alone</th>\n",
       "      <th>Spontan</th>\n",
       "      <th>Sync</th>\n",
       "    </tr>\n",
       "  </thead>\n",
       "  <tbody>\n",
       "    <tr>\n",
       "      <th rowspan=\"3\" valign=\"top\">actual</th>\n",
       "      <th>Alone</th>\n",
       "      <td>305</td>\n",
       "      <td>0</td>\n",
       "      <td>3</td>\n",
       "    </tr>\n",
       "    <tr>\n",
       "      <th>Spontan</th>\n",
       "      <td>1</td>\n",
       "      <td>274</td>\n",
       "      <td>39</td>\n",
       "    </tr>\n",
       "    <tr>\n",
       "      <th>Sync</th>\n",
       "      <td>1</td>\n",
       "      <td>77</td>\n",
       "      <td>234</td>\n",
       "    </tr>\n",
       "  </tbody>\n",
       "</table>\n",
       "</div>"
      ],
      "text/plain": [
       "               predicted             \n",
       "                   Alone Spontan Sync\n",
       "actual Alone         305       0    3\n",
       "       Spontan         1     274   39\n",
       "       Sync            1      77  234"
      ]
     },
     "execution_count": 60,
     "metadata": {},
     "output_type": "execute_result"
    }
   ],
   "source": [
    "#Confusion matrix:\n",
    "df = pd.DataFrame(\n",
    "    metrics.confusion_matrix(y_valid,gnb_pred),\n",
    "    index = [['actual', 'actual','actual'], ['Alone', 'Spontan' ,'Sync']],\n",
    "    columns = [['predicted', 'predicted','predicted'], ['Alone' ,'Spontan', 'Sync']])\n",
    "df"
   ]
  },
  {
   "cell_type": "code",
   "execution_count": 61,
   "metadata": {},
   "outputs": [
    {
     "name": "stdout",
     "output_type": "stream",
     "text": [
      "              precision    recall  f1-score   support\n",
      "\n",
      "       Alone       1.00      1.00      1.00       308\n",
      "     Spontan       0.83      0.86      0.84       314\n",
      "        Sync       0.85      0.82      0.84       312\n",
      "\n",
      "    accuracy                           0.89       934\n",
      "   macro avg       0.89      0.89      0.89       934\n",
      "weighted avg       0.89      0.89      0.89       934\n",
      "\n"
     ]
    },
    {
     "data": {
      "image/png": "[encoded data removed]",
      "text/plain": [
       "<Figure size 432x288 with 2 Axes>"
      ]
     },
     "metadata": {
      "needs_background": "light"
     },
     "output_type": "display_data"
    }
   ],
   "source": [
    "con_mat = confusion_matrix(y_valid, gnb_pred)\n",
    "f, ax = plt.subplots(figsize=(6, 4))\n",
    "sns.heatmap(con_mat, annot=True, fmt='g',cmap=\"YlGnBu\")\n",
    "print(classification_report(y_valid, lr_pred))"
   ]
  },
  {
   "cell_type": "markdown",
   "metadata": {},
   "source": [
    "### Random Forest"
   ]
  },
  {
   "cell_type": "code",
   "execution_count": 180,
   "metadata": {},
   "outputs": [],
   "source": [
    "rfc = RandomForestClassifier(n_estimators = 200,random_state = 42)\n",
    "rfc.fit(X_train,y_train)\n",
    "rfc_pred = rfc.predict(X_valid)\n",
    "rfc_score = rfc.score(X_valid,y_valid)*100"
   ]
  },
  {
   "cell_type": "code",
   "execution_count": 181,
   "metadata": {},
   "outputs": [
    {
     "name": "stdout",
     "output_type": "stream",
     "text": [
      "f-score 0.9614482321847682\n"
     ]
    }
   ],
   "source": [
    "#f-score:\n",
    "f=f1_score(y_valid, rfc_pred,average='weighted')\n",
    "print('f-score', f)"
   ]
  },
  {
   "cell_type": "code",
   "execution_count": 182,
   "metadata": {},
   "outputs": [
    {
     "name": "stdout",
     "output_type": "stream",
     "text": [
      "Testing Score:  96.1456102783726\n",
      "Training Score:  100.0\n"
     ]
    }
   ],
   "source": [
    "#Accuracy:\n",
    "print(\"Testing Score: \",rfc.score(X_valid,y_valid)*100)\n",
    "print(\"Training Score: \",rfc.score(X_train, y_train)*100)"
   ]
  },
  {
   "cell_type": "code",
   "execution_count": 183,
   "metadata": {},
   "outputs": [
    {
     "data": {
      "text/html": [
       "<div>\n",
       "<style scoped>\n",
       "    .dataframe tbody tr th:only-of-type {\n",
       "        vertical-align: middle;\n",
       "    }\n",
       "\n",
       "    .dataframe tbody tr th {\n",
       "        vertical-align: top;\n",
       "    }\n",
       "\n",
       "    .dataframe thead tr th {\n",
       "        text-align: left;\n",
       "    }\n",
       "</style>\n",
       "<table border=\"1\" class=\"dataframe\">\n",
       "  <thead>\n",
       "    <tr>\n",
       "      <th></th>\n",
       "      <th></th>\n",
       "      <th colspan=\"3\" halign=\"left\">predicted</th>\n",
       "    </tr>\n",
       "    <tr>\n",
       "      <th></th>\n",
       "      <th></th>\n",
       "      <th>Alone</th>\n",
       "      <th>Spontan</th>\n",
       "      <th>Sync</th>\n",
       "    </tr>\n",
       "  </thead>\n",
       "  <tbody>\n",
       "    <tr>\n",
       "      <th rowspan=\"3\" valign=\"top\">actual</th>\n",
       "      <th>Alone</th>\n",
       "      <td>308</td>\n",
       "      <td>0</td>\n",
       "      <td>0</td>\n",
       "    </tr>\n",
       "    <tr>\n",
       "      <th>Spontan</th>\n",
       "      <td>0</td>\n",
       "      <td>300</td>\n",
       "      <td>14</td>\n",
       "    </tr>\n",
       "    <tr>\n",
       "      <th>Sync</th>\n",
       "      <td>0</td>\n",
       "      <td>22</td>\n",
       "      <td>290</td>\n",
       "    </tr>\n",
       "  </tbody>\n",
       "</table>\n",
       "</div>"
      ],
      "text/plain": [
       "               predicted             \n",
       "                   Alone Spontan Sync\n",
       "actual Alone         308       0    0\n",
       "       Spontan         0     300   14\n",
       "       Sync            0      22  290"
      ]
     },
     "execution_count": 183,
     "metadata": {},
     "output_type": "execute_result"
    }
   ],
   "source": [
    "#Confusion matrix:\n",
    "df = pd.DataFrame(\n",
    "    metrics.confusion_matrix(y_valid,rfc_pred),\n",
    "    index = [['actual', 'actual','actual'], ['Alone', 'Spontan' ,'Sync']],\n",
    "    columns = [['predicted', 'predicted','predicted'], ['Alone' ,'Spontan', 'Sync']])\n",
    "df"
   ]
  },
  {
   "cell_type": "code",
   "execution_count": 184,
   "metadata": {},
   "outputs": [
    {
     "name": "stdout",
     "output_type": "stream",
     "text": [
      "              precision    recall  f1-score   support\n",
      "\n",
      "       Alone       1.00      1.00      1.00       308\n",
      "     Spontan       0.93      0.96      0.94       314\n",
      "        Sync       0.95      0.93      0.94       312\n",
      "\n",
      "    accuracy                           0.96       934\n",
      "   macro avg       0.96      0.96      0.96       934\n",
      "weighted avg       0.96      0.96      0.96       934\n",
      "\n"
     ]
    },
    {
     "data": {
      "image/png": "[encoded data removed]",
      "text/plain": [
       "<Figure size 432x288 with 2 Axes>"
      ]
     },
     "metadata": {
      "needs_background": "light"
     },
     "output_type": "display_data"
    }
   ],
   "source": [
    "con_mat = confusion_matrix(y_valid, rfc_pred)\n",
    "f, ax = plt.subplots(figsize=(6, 4))\n",
    "sns.heatmap(con_mat, annot=True, fmt='g',cmap=\"YlGnBu\")\n",
    "print(classification_report(y_valid, rfc_pred))"
   ]
  },
  {
   "cell_type": "markdown",
   "metadata": {},
   "source": [
    "# Ensemble Learning"
   ]
  },
  {
   "cell_type": "markdown",
   "metadata": {},
   "source": [
    "### AdaBoost"
   ]
  },
  {
   "cell_type": "code",
   "execution_count": 67,
   "metadata": {},
   "outputs": [
    {
     "data": {
      "text/html": [
       "<div>\n",
       "<style scoped>\n",
       "    .dataframe tbody tr th:only-of-type {\n",
       "        vertical-align: middle;\n",
       "    }\n",
       "\n",
       "    .dataframe tbody tr th {\n",
       "        vertical-align: top;\n",
       "    }\n",
       "\n",
       "    .dataframe thead th {\n",
       "        text-align: right;\n",
       "    }\n",
       "</style>\n",
       "<table border=\"1\" class=\"dataframe\">\n",
       "  <thead>\n",
       "    <tr style=\"text-align: right;\">\n",
       "      <th></th>\n",
       "      <th>n estimators</th>\n",
       "      <th>learning rate</th>\n",
       "      <th>accuracy</th>\n",
       "    </tr>\n",
       "  </thead>\n",
       "  <tbody>\n",
       "    <tr>\n",
       "      <th>13</th>\n",
       "      <td>300</td>\n",
       "      <td>0.5</td>\n",
       "      <td>0.767666</td>\n",
       "    </tr>\n",
       "    <tr>\n",
       "      <th>11</th>\n",
       "      <td>250</td>\n",
       "      <td>0.9</td>\n",
       "      <td>0.768737</td>\n",
       "    </tr>\n",
       "    <tr>\n",
       "      <th>12</th>\n",
       "      <td>300</td>\n",
       "      <td>0.3</td>\n",
       "      <td>0.773019</td>\n",
       "    </tr>\n",
       "    <tr>\n",
       "      <th>1</th>\n",
       "      <td>150</td>\n",
       "      <td>0.5</td>\n",
       "      <td>0.774090</td>\n",
       "    </tr>\n",
       "    <tr>\n",
       "      <th>9</th>\n",
       "      <td>250</td>\n",
       "      <td>0.5</td>\n",
       "      <td>0.774090</td>\n",
       "    </tr>\n",
       "    <tr>\n",
       "      <th>7</th>\n",
       "      <td>200</td>\n",
       "      <td>0.9</td>\n",
       "      <td>0.778373</td>\n",
       "    </tr>\n",
       "    <tr>\n",
       "      <th>8</th>\n",
       "      <td>250</td>\n",
       "      <td>0.3</td>\n",
       "      <td>0.778373</td>\n",
       "    </tr>\n",
       "    <tr>\n",
       "      <th>0</th>\n",
       "      <td>150</td>\n",
       "      <td>0.3</td>\n",
       "      <td>0.782655</td>\n",
       "    </tr>\n",
       "    <tr>\n",
       "      <th>4</th>\n",
       "      <td>200</td>\n",
       "      <td>0.3</td>\n",
       "      <td>0.784797</td>\n",
       "    </tr>\n",
       "    <tr>\n",
       "      <th>5</th>\n",
       "      <td>200</td>\n",
       "      <td>0.5</td>\n",
       "      <td>0.784797</td>\n",
       "    </tr>\n",
       "    <tr>\n",
       "      <th>3</th>\n",
       "      <td>150</td>\n",
       "      <td>0.9</td>\n",
       "      <td>0.786938</td>\n",
       "    </tr>\n",
       "    <tr>\n",
       "      <th>15</th>\n",
       "      <td>300</td>\n",
       "      <td>0.9</td>\n",
       "      <td>0.790150</td>\n",
       "    </tr>\n",
       "    <tr>\n",
       "      <th>14</th>\n",
       "      <td>300</td>\n",
       "      <td>0.7</td>\n",
       "      <td>0.799786</td>\n",
       "    </tr>\n",
       "    <tr>\n",
       "      <th>6</th>\n",
       "      <td>200</td>\n",
       "      <td>0.7</td>\n",
       "      <td>0.802998</td>\n",
       "    </tr>\n",
       "    <tr>\n",
       "      <th>2</th>\n",
       "      <td>150</td>\n",
       "      <td>0.7</td>\n",
       "      <td>0.807281</td>\n",
       "    </tr>\n",
       "    <tr>\n",
       "      <th>10</th>\n",
       "      <td>250</td>\n",
       "      <td>0.7</td>\n",
       "      <td>0.807281</td>\n",
       "    </tr>\n",
       "  </tbody>\n",
       "</table>\n",
       "</div>"
      ],
      "text/plain": [
       "    n estimators  learning rate  accuracy\n",
       "13           300            0.5  0.767666\n",
       "11           250            0.9  0.768737\n",
       "12           300            0.3  0.773019\n",
       "1            150            0.5  0.774090\n",
       "9            250            0.5  0.774090\n",
       "7            200            0.9  0.778373\n",
       "8            250            0.3  0.778373\n",
       "0            150            0.3  0.782655\n",
       "4            200            0.3  0.784797\n",
       "5            200            0.5  0.784797\n",
       "3            150            0.9  0.786938\n",
       "15           300            0.9  0.790150\n",
       "14           300            0.7  0.799786\n",
       "6            200            0.7  0.802998\n",
       "2            150            0.7  0.807281\n",
       "10           250            0.7  0.807281"
      ]
     },
     "execution_count": 67,
     "metadata": {},
     "output_type": "execute_result"
    }
   ],
   "source": [
    "n_estimators=[150,200,250,300]\n",
    "learning_rate=[0.3,0.5,0.7,0.9]\n",
    "scores = []\n",
    "for n in n_estimators:\n",
    "    for lr in learning_rate:\n",
    "        adab = AdaBoostClassifier(n_estimators=n,learning_rate=lr,random_state=42)\n",
    "        adab.fit(X_train, y_train)\n",
    "        y_pred = adab.predict(X_valid)\n",
    "        score=[n,lr,metrics.accuracy_score(y_valid, y_pred)]\n",
    "        scores.append(score)\n",
    "df = pd.DataFrame(scores, columns=['n estimators','learning rate','accuracy'])\n",
    "df=df.sort_values('accuracy')\n",
    "df"
   ]
  },
  {
   "cell_type": "code",
   "execution_count": 68,
   "metadata": {},
   "outputs": [],
   "source": [
    "adab = AdaBoostClassifier(n_estimators = 250,learning_rate = 0.7,random_state = 42)\n",
    "adab.fit(X_train, y_train)\n",
    "adab_pred = adab.predict(X_valid)\n",
    "adab_score = adab.score(X_valid,y_valid)*100"
   ]
  },
  {
   "cell_type": "code",
   "execution_count": 69,
   "metadata": {},
   "outputs": [
    {
     "name": "stdout",
     "output_type": "stream",
     "text": [
      "f-score 0.804689842969081\n"
     ]
    }
   ],
   "source": [
    "#f-score:\n",
    "f=f1_score(y_valid, adab_pred,average='weighted')\n",
    "print('f-score', f)"
   ]
  },
  {
   "cell_type": "code",
   "execution_count": 70,
   "metadata": {},
   "outputs": [
    {
     "name": "stdout",
     "output_type": "stream",
     "text": [
      "Testing Score:  80.72805139186295\n",
      "Training Score:  77.31047414947764\n"
     ]
    }
   ],
   "source": [
    "#Accuracy:\n",
    "print(\"Testing Score: \",adab.score(X_valid,y_valid)*100)\n",
    "print(\"Training Score: \",adab.score(X_train, y_train)*100)"
   ]
  },
  {
   "cell_type": "code",
   "execution_count": 71,
   "metadata": {},
   "outputs": [
    {
     "data": {
      "text/html": [
       "<div>\n",
       "<style scoped>\n",
       "    .dataframe tbody tr th:only-of-type {\n",
       "        vertical-align: middle;\n",
       "    }\n",
       "\n",
       "    .dataframe tbody tr th {\n",
       "        vertical-align: top;\n",
       "    }\n",
       "\n",
       "    .dataframe thead tr th {\n",
       "        text-align: left;\n",
       "    }\n",
       "</style>\n",
       "<table border=\"1\" class=\"dataframe\">\n",
       "  <thead>\n",
       "    <tr>\n",
       "      <th></th>\n",
       "      <th></th>\n",
       "      <th colspan=\"3\" halign=\"left\">predicted</th>\n",
       "    </tr>\n",
       "    <tr>\n",
       "      <th></th>\n",
       "      <th></th>\n",
       "      <th>Alone</th>\n",
       "      <th>Spontan</th>\n",
       "      <th>Sync</th>\n",
       "    </tr>\n",
       "  </thead>\n",
       "  <tbody>\n",
       "    <tr>\n",
       "      <th rowspan=\"3\" valign=\"top\">actual</th>\n",
       "      <th>Alone</th>\n",
       "      <td>307</td>\n",
       "      <td>0</td>\n",
       "      <td>1</td>\n",
       "    </tr>\n",
       "    <tr>\n",
       "      <th>Spontan</th>\n",
       "      <td>0</td>\n",
       "      <td>261</td>\n",
       "      <td>53</td>\n",
       "    </tr>\n",
       "    <tr>\n",
       "      <th>Sync</th>\n",
       "      <td>0</td>\n",
       "      <td>126</td>\n",
       "      <td>186</td>\n",
       "    </tr>\n",
       "  </tbody>\n",
       "</table>\n",
       "</div>"
      ],
      "text/plain": [
       "               predicted             \n",
       "                   Alone Spontan Sync\n",
       "actual Alone         307       0    1\n",
       "       Spontan         0     261   53\n",
       "       Sync            0     126  186"
      ]
     },
     "execution_count": 71,
     "metadata": {},
     "output_type": "execute_result"
    }
   ],
   "source": [
    "#Confusion matrix:\n",
    "df = pd.DataFrame(\n",
    "    metrics.confusion_matrix(y_valid,adab_pred),\n",
    "    index = [['actual', 'actual','actual'], ['Alone', 'Spontan' ,'Sync']],\n",
    "    columns = [['predicted', 'predicted','predicted'], ['Alone' ,'Spontan', 'Sync']])\n",
    "df"
   ]
  },
  {
   "cell_type": "code",
   "execution_count": 72,
   "metadata": {},
   "outputs": [
    {
     "name": "stdout",
     "output_type": "stream",
     "text": [
      "              precision    recall  f1-score   support\n",
      "\n",
      "       Alone       1.00      1.00      1.00       308\n",
      "     Spontan       0.67      0.83      0.74       314\n",
      "        Sync       0.78      0.60      0.67       312\n",
      "\n",
      "    accuracy                           0.81       934\n",
      "   macro avg       0.82      0.81      0.81       934\n",
      "weighted avg       0.82      0.81      0.80       934\n",
      "\n"
     ]
    },
    {
     "data": {
      "image/png": "[encoded data removed]",
      "text/plain": [
       "<Figure size 432x288 with 2 Axes>"
      ]
     },
     "metadata": {
      "needs_background": "light"
     },
     "output_type": "display_data"
    }
   ],
   "source": [
    "con_mat = confusion_matrix(y_valid, adab_pred)\n",
    "f, ax = plt.subplots(figsize=(6, 4))\n",
    "sns.heatmap(con_mat, annot=True, fmt='g',cmap=\"YlGnBu\")\n",
    "print(classification_report(y_valid, adab_pred))"
   ]
  },
  {
   "cell_type": "markdown",
   "metadata": {},
   "source": [
    "### XGBoost"
   ]
  },
  {
   "cell_type": "code",
   "execution_count": 73,
   "metadata": {},
   "outputs": [],
   "source": [
    "xgb_c = xgboost.XGBClassifier(n_estimators = 200,n_jobs = -1,learning_rate = 0.7, seed = 0,eval_metric='mlogloss')\n",
    "xgb_c.fit(X_train, y_train)\n",
    "xgb_c_pred = xgb_c.predict(X_valid)\n",
    "xgb_score = xgb_c.score(X_valid,y_valid)*100"
   ]
  },
  {
   "cell_type": "code",
   "execution_count": 74,
   "metadata": {},
   "outputs": [
    {
     "name": "stdout",
     "output_type": "stream",
     "text": [
      "f-score 0.9743024946597967\n"
     ]
    }
   ],
   "source": [
    "#f-score:\n",
    "f=f1_score(y_valid, xgb_c_pred,average='weighted')\n",
    "print('f-score', f)"
   ]
  },
  {
   "cell_type": "code",
   "execution_count": 75,
   "metadata": {},
   "outputs": [
    {
     "name": "stdout",
     "output_type": "stream",
     "text": [
      "Testing Score:  97.4304068522484\n",
      "Training Score:  100.0\n"
     ]
    }
   ],
   "source": [
    "#Accuracy:\n",
    "print(\"Testing Score: \",xgb_c.score(X_valid,y_valid)*100)\n",
    "print(\"Training Score: \",xgb_c.score(X_train, y_train)*100)"
   ]
  },
  {
   "cell_type": "code",
   "execution_count": 76,
   "metadata": {},
   "outputs": [
    {
     "data": {
      "text/html": [
       "<div>\n",
       "<style scoped>\n",
       "    .dataframe tbody tr th:only-of-type {\n",
       "        vertical-align: middle;\n",
       "    }\n",
       "\n",
       "    .dataframe tbody tr th {\n",
       "        vertical-align: top;\n",
       "    }\n",
       "\n",
       "    .dataframe thead tr th {\n",
       "        text-align: left;\n",
       "    }\n",
       "</style>\n",
       "<table border=\"1\" class=\"dataframe\">\n",
       "  <thead>\n",
       "    <tr>\n",
       "      <th></th>\n",
       "      <th></th>\n",
       "      <th colspan=\"3\" halign=\"left\">predicted</th>\n",
       "    </tr>\n",
       "    <tr>\n",
       "      <th></th>\n",
       "      <th></th>\n",
       "      <th>Alone</th>\n",
       "      <th>Spontan</th>\n",
       "      <th>Sync</th>\n",
       "    </tr>\n",
       "  </thead>\n",
       "  <tbody>\n",
       "    <tr>\n",
       "      <th rowspan=\"3\" valign=\"top\">actual</th>\n",
       "      <th>Alone</th>\n",
       "      <td>308</td>\n",
       "      <td>0</td>\n",
       "      <td>0</td>\n",
       "    </tr>\n",
       "    <tr>\n",
       "      <th>Spontan</th>\n",
       "      <td>0</td>\n",
       "      <td>304</td>\n",
       "      <td>10</td>\n",
       "    </tr>\n",
       "    <tr>\n",
       "      <th>Sync</th>\n",
       "      <td>0</td>\n",
       "      <td>14</td>\n",
       "      <td>298</td>\n",
       "    </tr>\n",
       "  </tbody>\n",
       "</table>\n",
       "</div>"
      ],
      "text/plain": [
       "               predicted             \n",
       "                   Alone Spontan Sync\n",
       "actual Alone         308       0    0\n",
       "       Spontan         0     304   10\n",
       "       Sync            0      14  298"
      ]
     },
     "execution_count": 76,
     "metadata": {},
     "output_type": "execute_result"
    }
   ],
   "source": [
    "#Confusion matrix:\n",
    "df = pd.DataFrame(\n",
    "    metrics.confusion_matrix(y_valid,xgb_c_pred),\n",
    "    index = [['actual', 'actual','actual'], ['Alone', 'Spontan' ,'Sync']],\n",
    "    columns = [['predicted', 'predicted','predicted'], ['Alone' ,'Spontan', 'Sync']])\n",
    "df"
   ]
  },
  {
   "cell_type": "code",
   "execution_count": 77,
   "metadata": {},
   "outputs": [
    {
     "name": "stdout",
     "output_type": "stream",
     "text": [
      "              precision    recall  f1-score   support\n",
      "\n",
      "       Alone       1.00      1.00      1.00       308\n",
      "     Spontan       0.96      0.97      0.96       314\n",
      "        Sync       0.97      0.96      0.96       312\n",
      "\n",
      "    accuracy                           0.97       934\n",
      "   macro avg       0.97      0.97      0.97       934\n",
      "weighted avg       0.97      0.97      0.97       934\n",
      "\n"
     ]
    },
    {
     "data": {
      "image/png": "[encoded data removed]",
      "text/plain": [
       "<Figure size 432x288 with 2 Axes>"
      ]
     },
     "metadata": {
      "needs_background": "light"
     },
     "output_type": "display_data"
    }
   ],
   "source": [
    "con_mat = confusion_matrix(y_valid, xgb_c_pred)\n",
    "f, ax = plt.subplots(figsize=(6, 4))\n",
    "sns.heatmap(con_mat, annot=True, fmt='g',cmap=\"YlGnBu\")\n",
    "print(classification_report(y_valid, xgb_c_pred))"
   ]
  },
  {
   "cell_type": "markdown",
   "metadata": {},
   "source": [
    "# PCA:"
   ]
  },
  {
   "cell_type": "code",
   "execution_count": 188,
   "metadata": {},
   "outputs": [],
   "source": [
    "pca = PCA()\n",
    "pca.fit(X_train)\n",
    "cumsum = np.cumsum(pca.explained_variance_ratio_)"
   ]
  },
  {
   "cell_type": "code",
   "execution_count": 189,
   "metadata": {},
   "outputs": [
    {
     "data": {
      "image/png": "[encoded data removed]",
      "text/plain": [
       "<Figure size 432x288 with 1 Axes>"
      ]
     },
     "metadata": {
      "needs_background": "light"
     },
     "output_type": "display_data"
    }
   ],
   "source": [
    "plt.plot(cumsum)\n",
    "plt.axhline(y = 0.95, linewidth=0.5, color='r');\n",
    "plt.axvline(x = 20, linewidth=0.5, color='r');"
   ]
  },
  {
   "cell_type": "code",
   "execution_count": 190,
   "metadata": {},
   "outputs": [],
   "source": [
    "pca = PCA(n_components = 0.95)\n",
    "X_train_reduced = pca.fit_transform(X_train)\n",
    "X_valid_reduced = pca.transform(X_valid)"
   ]
  },
  {
   "cell_type": "code",
   "execution_count": 191,
   "metadata": {},
   "outputs": [
    {
     "data": {
      "text/plain": [
       "22"
      ]
     },
     "execution_count": 191,
     "metadata": {},
     "output_type": "execute_result"
    }
   ],
   "source": [
    "pca.n_components_"
   ]
  },
  {
   "cell_type": "code",
   "execution_count": 192,
   "metadata": {},
   "outputs": [
    {
     "data": {
      "text/plain": [
       "[<matplotlib.lines.Line2D at 0x1da2d300a30>]"
      ]
     },
     "execution_count": 192,
     "metadata": {},
     "output_type": "execute_result"
    },
    {
     "data": {
      "image/png": "[encoded data removed]",
      "text/plain": [
       "<Figure size 432x288 with 1 Axes>"
      ]
     },
     "metadata": {
      "needs_background": "light"
     },
     "output_type": "display_data"
    }
   ],
   "source": [
    "cumsum = np.cumsum(pca.explained_variance_ratio_)\n",
    "plt.plot(cumsum)"
   ]
  },
  {
   "cell_type": "code",
   "execution_count": 193,
   "metadata": {},
   "outputs": [],
   "source": [
    "X_train_PCA = pd.DataFrame(X_train_reduced)\n",
    "X_valid_PCA = pd.DataFrame(X_valid_reduced)"
   ]
  },
  {
   "cell_type": "markdown",
   "metadata": {},
   "source": [
    "## Modeling (after PCA):"
   ]
  },
  {
   "cell_type": "markdown",
   "metadata": {},
   "source": [
    "### KNN "
   ]
  },
  {
   "cell_type": "code",
   "execution_count": 194,
   "metadata": {},
   "outputs": [],
   "source": [
    "knnPCA = KNeighborsClassifier(n_neighbors = 20)\n",
    "knnPCA.fit(X_train_PCA, y_train)\n",
    "knnPCA_pred = knnPCA.predict(X_valid_PCA)\n",
    "knnPCA_score = knnPCA.score(X_valid_PCA,y_valid)*100"
   ]
  },
  {
   "cell_type": "code",
   "execution_count": 195,
   "metadata": {},
   "outputs": [
    {
     "name": "stdout",
     "output_type": "stream",
     "text": [
      "f-score 0.9229886902025073\n"
     ]
    }
   ],
   "source": [
    "#f-score:\n",
    "f=f1_score(y_valid, knnPCA_pred,average='weighted')\n",
    "print('f-score', f)"
   ]
  },
  {
   "cell_type": "code",
   "execution_count": 196,
   "metadata": {},
   "outputs": [
    {
     "name": "stdout",
     "output_type": "stream",
     "text": [
      "Testing Score:  92.29122055674517\n",
      "Training Score:  92.60648272167158\n"
     ]
    }
   ],
   "source": [
    "#Accuracy:\n",
    "print(\"Testing Score: \",knnPCA.score(X_valid_PCA,y_valid)*100)\n",
    "print(\"Training Score: \",knnPCA.score(X_train_PCA, y_train)*100)"
   ]
  },
  {
   "cell_type": "code",
   "execution_count": 197,
   "metadata": {},
   "outputs": [
    {
     "data": {
      "text/html": [
       "<div>\n",
       "<style scoped>\n",
       "    .dataframe tbody tr th:only-of-type {\n",
       "        vertical-align: middle;\n",
       "    }\n",
       "\n",
       "    .dataframe tbody tr th {\n",
       "        vertical-align: top;\n",
       "    }\n",
       "\n",
       "    .dataframe thead tr th {\n",
       "        text-align: left;\n",
       "    }\n",
       "</style>\n",
       "<table border=\"1\" class=\"dataframe\">\n",
       "  <thead>\n",
       "    <tr>\n",
       "      <th></th>\n",
       "      <th></th>\n",
       "      <th colspan=\"3\" halign=\"left\">predicted</th>\n",
       "    </tr>\n",
       "    <tr>\n",
       "      <th></th>\n",
       "      <th></th>\n",
       "      <th>Alone</th>\n",
       "      <th>Spontan</th>\n",
       "      <th>Sync</th>\n",
       "    </tr>\n",
       "  </thead>\n",
       "  <tbody>\n",
       "    <tr>\n",
       "      <th rowspan=\"3\" valign=\"top\">actual</th>\n",
       "      <th>Alone</th>\n",
       "      <td>304</td>\n",
       "      <td>1</td>\n",
       "      <td>3</td>\n",
       "    </tr>\n",
       "    <tr>\n",
       "      <th>Spontan</th>\n",
       "      <td>0</td>\n",
       "      <td>292</td>\n",
       "      <td>22</td>\n",
       "    </tr>\n",
       "    <tr>\n",
       "      <th>Sync</th>\n",
       "      <td>0</td>\n",
       "      <td>46</td>\n",
       "      <td>266</td>\n",
       "    </tr>\n",
       "  </tbody>\n",
       "</table>\n",
       "</div>"
      ],
      "text/plain": [
       "               predicted             \n",
       "                   Alone Spontan Sync\n",
       "actual Alone         304       1    3\n",
       "       Spontan         0     292   22\n",
       "       Sync            0      46  266"
      ]
     },
     "execution_count": 197,
     "metadata": {},
     "output_type": "execute_result"
    }
   ],
   "source": [
    "#Confusion matrix:\n",
    "df = pd.DataFrame(\n",
    "    metrics.confusion_matrix(y_valid,knnPCA_pred),\n",
    "    index = [['actual', 'actual','actual'], ['Alone', 'Spontan' ,'Sync']],\n",
    "    columns = [['predicted', 'predicted','predicted'], ['Alone' ,'Spontan', 'Sync']])\n",
    "df"
   ]
  },
  {
   "cell_type": "code",
   "execution_count": 198,
   "metadata": {},
   "outputs": [
    {
     "name": "stdout",
     "output_type": "stream",
     "text": [
      "              precision    recall  f1-score   support\n",
      "\n",
      "       Alone       1.00      0.99      0.99       308\n",
      "     Spontan       0.86      0.93      0.89       314\n",
      "        Sync       0.91      0.85      0.88       312\n",
      "\n",
      "    accuracy                           0.92       934\n",
      "   macro avg       0.93      0.92      0.92       934\n",
      "weighted avg       0.92      0.92      0.92       934\n",
      "\n"
     ]
    },
    {
     "data": {
      "image/png": "[encoded data removed]",
      "text/plain": [
       "<Figure size 432x288 with 2 Axes>"
      ]
     },
     "metadata": {
      "needs_background": "light"
     },
     "output_type": "display_data"
    }
   ],
   "source": [
    "con_mat = confusion_matrix(y_valid, knnPCA_pred)\n",
    "f, ax = plt.subplots(figsize=(6, 4))\n",
    "sns.heatmap(con_mat, annot=True, fmt='g',cmap=\"YlGnBu\")\n",
    "print(classification_report(y_valid, knnPCA_pred))"
   ]
  },
  {
   "cell_type": "markdown",
   "metadata": {},
   "source": [
    "### Random Forest"
   ]
  },
  {
   "cell_type": "code",
   "execution_count": 199,
   "metadata": {},
   "outputs": [],
   "source": [
    "rfcPCA = RandomForestClassifier(n_estimators = 200,random_state = 42)\n",
    "rfcPCA.fit(X_train_PCA,y_train)\n",
    "rfcPCA_pred = rfcPCA.predict(X_valid_PCA)\n",
    "rfcPCA_score = rfcPCA.score(X_valid_PCA,y_valid)*100"
   ]
  },
  {
   "cell_type": "code",
   "execution_count": 200,
   "metadata": {},
   "outputs": [
    {
     "name": "stdout",
     "output_type": "stream",
     "text": [
      "f-score 0.9166455036480895\n"
     ]
    }
   ],
   "source": [
    "#f-score:\n",
    "f=f1_score(y_valid, rfcPCA_pred,average='weighted')\n",
    "print('f-score', f)"
   ]
  },
  {
   "cell_type": "code",
   "execution_count": 201,
   "metadata": {},
   "outputs": [
    {
     "name": "stdout",
     "output_type": "stream",
     "text": [
      "Testing Score:  91.64882226980728\n",
      "Training Score:  100.0\n"
     ]
    }
   ],
   "source": [
    "#Accuracy:\n",
    "print(\"Testing Score: \",rfcPCA.score(X_valid_PCA,y_valid)*100)\n",
    "print(\"Training Score: \",rfcPCA.score(X_train_PCA, y_train)*100)"
   ]
  },
  {
   "cell_type": "code",
   "execution_count": 202,
   "metadata": {},
   "outputs": [
    {
     "data": {
      "text/html": [
       "<div>\n",
       "<style scoped>\n",
       "    .dataframe tbody tr th:only-of-type {\n",
       "        vertical-align: middle;\n",
       "    }\n",
       "\n",
       "    .dataframe tbody tr th {\n",
       "        vertical-align: top;\n",
       "    }\n",
       "\n",
       "    .dataframe thead tr th {\n",
       "        text-align: left;\n",
       "    }\n",
       "</style>\n",
       "<table border=\"1\" class=\"dataframe\">\n",
       "  <thead>\n",
       "    <tr>\n",
       "      <th></th>\n",
       "      <th></th>\n",
       "      <th colspan=\"3\" halign=\"left\">predicted</th>\n",
       "    </tr>\n",
       "    <tr>\n",
       "      <th></th>\n",
       "      <th></th>\n",
       "      <th>Alone</th>\n",
       "      <th>Spontan</th>\n",
       "      <th>Sync</th>\n",
       "    </tr>\n",
       "  </thead>\n",
       "  <tbody>\n",
       "    <tr>\n",
       "      <th rowspan=\"3\" valign=\"top\">actual</th>\n",
       "      <th>Alone</th>\n",
       "      <td>302</td>\n",
       "      <td>3</td>\n",
       "      <td>3</td>\n",
       "    </tr>\n",
       "    <tr>\n",
       "      <th>Spontan</th>\n",
       "      <td>3</td>\n",
       "      <td>284</td>\n",
       "      <td>27</td>\n",
       "    </tr>\n",
       "    <tr>\n",
       "      <th>Sync</th>\n",
       "      <td>0</td>\n",
       "      <td>42</td>\n",
       "      <td>270</td>\n",
       "    </tr>\n",
       "  </tbody>\n",
       "</table>\n",
       "</div>"
      ],
      "text/plain": [
       "               predicted             \n",
       "                   Alone Spontan Sync\n",
       "actual Alone         302       3    3\n",
       "       Spontan         3     284   27\n",
       "       Sync            0      42  270"
      ]
     },
     "execution_count": 202,
     "metadata": {},
     "output_type": "execute_result"
    }
   ],
   "source": [
    "#Confusion matrix:\n",
    "df = pd.DataFrame(\n",
    "    metrics.confusion_matrix(y_valid,rfcPCA_pred),\n",
    "    index = [['actual', 'actual','actual'], ['Alone', 'Spontan' ,'Sync']],\n",
    "    columns = [['predicted', 'predicted','predicted'], ['Alone' ,'Spontan', 'Sync']])\n",
    "df"
   ]
  },
  {
   "cell_type": "code",
   "execution_count": 203,
   "metadata": {},
   "outputs": [
    {
     "name": "stdout",
     "output_type": "stream",
     "text": [
      "              precision    recall  f1-score   support\n",
      "\n",
      "       Alone       0.99      0.98      0.99       308\n",
      "     Spontan       0.86      0.90      0.88       314\n",
      "        Sync       0.90      0.87      0.88       312\n",
      "\n",
      "    accuracy                           0.92       934\n",
      "   macro avg       0.92      0.92      0.92       934\n",
      "weighted avg       0.92      0.92      0.92       934\n",
      "\n"
     ]
    },
    {
     "data": {
      "image/png": "[encoded data removed]",
      "text/plain": [
       "<Figure size 432x288 with 2 Axes>"
      ]
     },
     "metadata": {
      "needs_background": "light"
     },
     "output_type": "display_data"
    }
   ],
   "source": [
    "con_mat = confusion_matrix(y_valid, rfcPCA_pred)\n",
    "f, ax = plt.subplots(figsize=(6, 4))\n",
    "sns.heatmap(con_mat, annot=True, fmt='g',cmap=\"YlGnBu\")\n",
    "print(classification_report(y_valid, rfcPCA_pred))"
   ]
  },
  {
   "cell_type": "markdown",
   "metadata": {},
   "source": [
    "# Ensemble Learning"
   ]
  },
  {
   "cell_type": "markdown",
   "metadata": {},
   "source": [
    "### AdaBoost"
   ]
  },
  {
   "cell_type": "code",
   "execution_count": 204,
   "metadata": {},
   "outputs": [],
   "source": [
    "adabPCA = AdaBoostClassifier(n_estimators = 250,learning_rate = 0.7,random_state = 42)\n",
    "adabPCA.fit(X_train_PCA, y_train)\n",
    "adabPCA_pred = adabPCA.predict(X_valid_PCA)\n",
    "adabPCA_score = adabPCA.score(X_valid_PCA,y_valid)*100"
   ]
  },
  {
   "cell_type": "code",
   "execution_count": 205,
   "metadata": {},
   "outputs": [
    {
     "name": "stdout",
     "output_type": "stream",
     "text": [
      "f-score 0.745906083146285\n"
     ]
    }
   ],
   "source": [
    "#f-score:\n",
    "f=f1_score(y_valid, adabPCA_pred,average='weighted')\n",
    "print('f-score', f)"
   ]
  },
  {
   "cell_type": "code",
   "execution_count": 206,
   "metadata": {},
   "outputs": [
    {
     "name": "stdout",
     "output_type": "stream",
     "text": [
      "Testing Score:  74.51820128479658\n",
      "Training Score:  75.08706134476293\n"
     ]
    }
   ],
   "source": [
    "#Accuracy:\n",
    "print(\"Testing Score: \",adabPCA.score(X_valid_PCA,y_valid)*100)\n",
    "print(\"Training Score: \",adabPCA.score(X_train_PCA, y_train)*100)"
   ]
  },
  {
   "cell_type": "code",
   "execution_count": 207,
   "metadata": {},
   "outputs": [
    {
     "data": {
      "text/html": [
       "<div>\n",
       "<style scoped>\n",
       "    .dataframe tbody tr th:only-of-type {\n",
       "        vertical-align: middle;\n",
       "    }\n",
       "\n",
       "    .dataframe tbody tr th {\n",
       "        vertical-align: top;\n",
       "    }\n",
       "\n",
       "    .dataframe thead tr th {\n",
       "        text-align: left;\n",
       "    }\n",
       "</style>\n",
       "<table border=\"1\" class=\"dataframe\">\n",
       "  <thead>\n",
       "    <tr>\n",
       "      <th></th>\n",
       "      <th></th>\n",
       "      <th colspan=\"3\" halign=\"left\">predicted</th>\n",
       "    </tr>\n",
       "    <tr>\n",
       "      <th></th>\n",
       "      <th></th>\n",
       "      <th>Alone</th>\n",
       "      <th>Spontan</th>\n",
       "      <th>Sync</th>\n",
       "    </tr>\n",
       "  </thead>\n",
       "  <tbody>\n",
       "    <tr>\n",
       "      <th rowspan=\"3\" valign=\"top\">actual</th>\n",
       "      <th>Alone</th>\n",
       "      <td>303</td>\n",
       "      <td>2</td>\n",
       "      <td>3</td>\n",
       "    </tr>\n",
       "    <tr>\n",
       "      <th>Spontan</th>\n",
       "      <td>0</td>\n",
       "      <td>207</td>\n",
       "      <td>107</td>\n",
       "    </tr>\n",
       "    <tr>\n",
       "      <th>Sync</th>\n",
       "      <td>0</td>\n",
       "      <td>126</td>\n",
       "      <td>186</td>\n",
       "    </tr>\n",
       "  </tbody>\n",
       "</table>\n",
       "</div>"
      ],
      "text/plain": [
       "               predicted             \n",
       "                   Alone Spontan Sync\n",
       "actual Alone         303       2    3\n",
       "       Spontan         0     207  107\n",
       "       Sync            0     126  186"
      ]
     },
     "execution_count": 207,
     "metadata": {},
     "output_type": "execute_result"
    }
   ],
   "source": [
    "#Confusion matrix:\n",
    "df = pd.DataFrame(\n",
    "    metrics.confusion_matrix(y_valid,adabPCA_pred),\n",
    "    index = [['actual', 'actual','actual'], ['Alone', 'Spontan' ,'Sync']],\n",
    "    columns = [['predicted', 'predicted','predicted'], ['Alone' ,'Spontan', 'Sync']])\n",
    "df"
   ]
  },
  {
   "cell_type": "code",
   "execution_count": 208,
   "metadata": {},
   "outputs": [
    {
     "name": "stdout",
     "output_type": "stream",
     "text": [
      "              precision    recall  f1-score   support\n",
      "\n",
      "       Alone       1.00      0.98      0.99       308\n",
      "     Spontan       0.62      0.66      0.64       314\n",
      "        Sync       0.63      0.60      0.61       312\n",
      "\n",
      "    accuracy                           0.75       934\n",
      "   macro avg       0.75      0.75      0.75       934\n",
      "weighted avg       0.75      0.75      0.75       934\n",
      "\n"
     ]
    },
    {
     "data": {
      "image/png": "[encoded data removed]",
      "text/plain": [
       "<Figure size 432x288 with 2 Axes>"
      ]
     },
     "metadata": {
      "needs_background": "light"
     },
     "output_type": "display_data"
    }
   ],
   "source": [
    "con_mat = confusion_matrix(y_valid, adabPCA_pred)\n",
    "f, ax = plt.subplots(figsize=(6, 4))\n",
    "sns.heatmap(con_mat, annot=True, fmt='g',cmap=\"YlGnBu\")\n",
    "print(classification_report(y_valid, adabPCA_pred))"
   ]
  },
  {
   "cell_type": "markdown",
   "metadata": {},
   "source": [
    "### XGBoost"
   ]
  },
  {
   "cell_type": "code",
   "execution_count": 209,
   "metadata": {},
   "outputs": [],
   "source": [
    "xgb_PCA = xgboost.XGBClassifier(n_estimators = 200,n_jobs = -1,learning_rate = 0.7, seed = 0,eval_metric='mlogloss')\n",
    "xgb_PCA.fit(X_train_PCA, y_train)\n",
    "xgb_PCA_pred = xgb_PCA.predict(X_valid_PCA)\n",
    "xgb_PCA_score = xgb_PCA.score(X_valid_PCA,y_valid)*100"
   ]
  },
  {
   "cell_type": "code",
   "execution_count": 210,
   "metadata": {},
   "outputs": [
    {
     "name": "stdout",
     "output_type": "stream",
     "text": [
      "f-score 0.9369161508373007\n"
     ]
    }
   ],
   "source": [
    "#f-score:\n",
    "f=f1_score(y_valid, xgb_PCA_pred,average='weighted')\n",
    "print('f-score', f)"
   ]
  },
  {
   "cell_type": "code",
   "execution_count": 211,
   "metadata": {},
   "outputs": [
    {
     "name": "stdout",
     "output_type": "stream",
     "text": [
      "Testing Score:  93.6830835117773\n",
      "Training Score:  100.0\n"
     ]
    }
   ],
   "source": [
    "#Accuracy:\n",
    "print(\"Testing Score: \",xgb_PCA.score(X_valid_PCA,y_valid)*100)\n",
    "print(\"Training Score: \",xgb_PCA.score(X_train_PCA, y_train)*100)"
   ]
  },
  {
   "cell_type": "code",
   "execution_count": 212,
   "metadata": {},
   "outputs": [
    {
     "data": {
      "text/html": [
       "<div>\n",
       "<style scoped>\n",
       "    .dataframe tbody tr th:only-of-type {\n",
       "        vertical-align: middle;\n",
       "    }\n",
       "\n",
       "    .dataframe tbody tr th {\n",
       "        vertical-align: top;\n",
       "    }\n",
       "\n",
       "    .dataframe thead tr th {\n",
       "        text-align: left;\n",
       "    }\n",
       "</style>\n",
       "<table border=\"1\" class=\"dataframe\">\n",
       "  <thead>\n",
       "    <tr>\n",
       "      <th></th>\n",
       "      <th></th>\n",
       "      <th colspan=\"3\" halign=\"left\">predicted</th>\n",
       "    </tr>\n",
       "    <tr>\n",
       "      <th></th>\n",
       "      <th></th>\n",
       "      <th>Alone</th>\n",
       "      <th>Spontan</th>\n",
       "      <th>Sync</th>\n",
       "    </tr>\n",
       "  </thead>\n",
       "  <tbody>\n",
       "    <tr>\n",
       "      <th rowspan=\"3\" valign=\"top\">actual</th>\n",
       "      <th>Alone</th>\n",
       "      <td>304</td>\n",
       "      <td>1</td>\n",
       "      <td>3</td>\n",
       "    </tr>\n",
       "    <tr>\n",
       "      <th>Spontan</th>\n",
       "      <td>2</td>\n",
       "      <td>286</td>\n",
       "      <td>26</td>\n",
       "    </tr>\n",
       "    <tr>\n",
       "      <th>Sync</th>\n",
       "      <td>0</td>\n",
       "      <td>27</td>\n",
       "      <td>285</td>\n",
       "    </tr>\n",
       "  </tbody>\n",
       "</table>\n",
       "</div>"
      ],
      "text/plain": [
       "               predicted             \n",
       "                   Alone Spontan Sync\n",
       "actual Alone         304       1    3\n",
       "       Spontan         2     286   26\n",
       "       Sync            0      27  285"
      ]
     },
     "execution_count": 212,
     "metadata": {},
     "output_type": "execute_result"
    }
   ],
   "source": [
    "#Confusion matrix:\n",
    "df = pd.DataFrame(\n",
    "    metrics.confusion_matrix(y_valid,xgb_PCA_pred),\n",
    "    index = [['actual', 'actual','actual'], ['Alone', 'Spontan' ,'Sync']],\n",
    "    columns = [['predicted', 'predicted','predicted'], ['Alone' ,'Spontan', 'Sync']])\n",
    "df"
   ]
  },
  {
   "cell_type": "code",
   "execution_count": 213,
   "metadata": {},
   "outputs": [
    {
     "name": "stdout",
     "output_type": "stream",
     "text": [
      "              precision    recall  f1-score   support\n",
      "\n",
      "       Alone       0.99      0.99      0.99       308\n",
      "     Spontan       0.91      0.91      0.91       314\n",
      "        Sync       0.91      0.91      0.91       312\n",
      "\n",
      "    accuracy                           0.94       934\n",
      "   macro avg       0.94      0.94      0.94       934\n",
      "weighted avg       0.94      0.94      0.94       934\n",
      "\n"
     ]
    },
    {
     "data": {
      "image/png": "[encoded data removed]",
      "text/plain": [
       "<Figure size 432x288 with 2 Axes>"
      ]
     },
     "metadata": {
      "needs_background": "light"
     },
     "output_type": "display_data"
    }
   ],
   "source": [
    "con_mat = confusion_matrix(y_valid, xgb_PCA_pred)\n",
    "f, ax = plt.subplots(figsize=(6, 4))\n",
    "sns.heatmap(con_mat, annot=True, fmt='g',cmap=\"YlGnBu\")\n",
    "print(classification_report(y_valid, xgb_PCA_pred))"
   ]
  },
  {
   "cell_type": "markdown",
   "metadata": {},
   "source": [
    "### Stacking Ensemble"
   ]
  },
  {
   "cell_type": "code",
   "execution_count": 214,
   "metadata": {},
   "outputs": [],
   "source": [
    "estimators = [('adaBoost', adabPCA), ('knn', knnPCA), ('xgboost', xgb_PCA)]\n",
    "stack_clf = StackingClassifier(estimators = estimators, final_estimator = xgb_PCA)\n",
    "stack_clf.fit(X_train_PCA, y_train)\n",
    "stack_clf_pred = stack_clf.predict(X_valid_PCA)\n",
    "stack_clf_score = stack_clf.score(X_valid_PCA,y_valid)*100"
   ]
  },
  {
   "cell_type": "code",
   "execution_count": 216,
   "metadata": {},
   "outputs": [
    {
     "name": "stdout",
     "output_type": "stream",
     "text": [
      "f-score 0.9423108977117373\n"
     ]
    }
   ],
   "source": [
    "#f-score:\n",
    "f=f1_score(y_valid, stack_clf_pred,average='weighted')\n",
    "print('f-score', f)"
   ]
  },
  {
   "cell_type": "code",
   "execution_count": 217,
   "metadata": {},
   "outputs": [
    {
     "name": "stdout",
     "output_type": "stream",
     "text": [
      "Testing Score:  94.21841541755889\n",
      "Training Score:  99.30350924189659\n"
     ]
    }
   ],
   "source": [
    "#Accuracy:\n",
    "print(\"Testing Score: \",stack_clf.score(X_valid_PCA,y_valid)*100)\n",
    "print(\"Training Score: \",stack_clf.score(X_train_PCA, y_train)*100)"
   ]
  },
  {
   "cell_type": "code",
   "execution_count": 218,
   "metadata": {},
   "outputs": [
    {
     "data": {
      "text/html": [
       "<div>\n",
       "<style scoped>\n",
       "    .dataframe tbody tr th:only-of-type {\n",
       "        vertical-align: middle;\n",
       "    }\n",
       "\n",
       "    .dataframe tbody tr th {\n",
       "        vertical-align: top;\n",
       "    }\n",
       "\n",
       "    .dataframe thead tr th {\n",
       "        text-align: left;\n",
       "    }\n",
       "</style>\n",
       "<table border=\"1\" class=\"dataframe\">\n",
       "  <thead>\n",
       "    <tr>\n",
       "      <th></th>\n",
       "      <th></th>\n",
       "      <th colspan=\"3\" halign=\"left\">predicted</th>\n",
       "    </tr>\n",
       "    <tr>\n",
       "      <th></th>\n",
       "      <th></th>\n",
       "      <th>Alone</th>\n",
       "      <th>Spontan</th>\n",
       "      <th>Sync</th>\n",
       "    </tr>\n",
       "  </thead>\n",
       "  <tbody>\n",
       "    <tr>\n",
       "      <th rowspan=\"3\" valign=\"top\">actual</th>\n",
       "      <th>Alone</th>\n",
       "      <td>305</td>\n",
       "      <td>2</td>\n",
       "      <td>1</td>\n",
       "    </tr>\n",
       "    <tr>\n",
       "      <th>Spontan</th>\n",
       "      <td>0</td>\n",
       "      <td>290</td>\n",
       "      <td>24</td>\n",
       "    </tr>\n",
       "    <tr>\n",
       "      <th>Sync</th>\n",
       "      <td>0</td>\n",
       "      <td>27</td>\n",
       "      <td>285</td>\n",
       "    </tr>\n",
       "  </tbody>\n",
       "</table>\n",
       "</div>"
      ],
      "text/plain": [
       "               predicted             \n",
       "                   Alone Spontan Sync\n",
       "actual Alone         305       2    1\n",
       "       Spontan         0     290   24\n",
       "       Sync            0      27  285"
      ]
     },
     "execution_count": 218,
     "metadata": {},
     "output_type": "execute_result"
    }
   ],
   "source": [
    "#Confusion matrix:\n",
    "df = pd.DataFrame(\n",
    "    metrics.confusion_matrix(y_valid,stack_clf_pred),\n",
    "    index = [['actual', 'actual','actual'], ['Alone', 'Spontan' ,'Sync']],\n",
    "    columns = [['predicted', 'predicted','predicted'], ['Alone' ,'Spontan', 'Sync']])\n",
    "df"
   ]
  },
  {
   "cell_type": "code",
   "execution_count": 219,
   "metadata": {},
   "outputs": [
    {
     "name": "stdout",
     "output_type": "stream",
     "text": [
      "              precision    recall  f1-score   support\n",
      "\n",
      "       Alone       1.00      0.99      1.00       308\n",
      "     Spontan       0.91      0.92      0.92       314\n",
      "        Sync       0.92      0.91      0.92       312\n",
      "\n",
      "    accuracy                           0.94       934\n",
      "   macro avg       0.94      0.94      0.94       934\n",
      "weighted avg       0.94      0.94      0.94       934\n",
      "\n"
     ]
    },
    {
     "data": {
      "image/png": "[encoded data removed]",
      "text/plain": [
       "<Figure size 432x288 with 2 Axes>"
      ]
     },
     "metadata": {
      "needs_background": "light"
     },
     "output_type": "display_data"
    }
   ],
   "source": [
    "con_mat = confusion_matrix(y_valid, stack_clf_pred)\n",
    "f, ax = plt.subplots(figsize=(6, 4))\n",
    "sns.heatmap(con_mat, annot=True, fmt='g',cmap=\"YlGnBu\")\n",
    "print(classification_report(y_valid, stack_clf_pred))"
   ]
  },
  {
   "cell_type": "markdown",
   "metadata": {},
   "source": [
    "### Voting Classifier"
   ]
  },
  {
   "cell_type": "code",
   "execution_count": 220,
   "metadata": {},
   "outputs": [],
   "source": [
    "classifiers = [('KNN', knn),             \n",
    "               ('Random Forest', rfc)]"
   ]
  },
  {
   "cell_type": "code",
   "execution_count": 221,
   "metadata": {},
   "outputs": [
    {
     "name": "stdout",
     "output_type": "stream",
     "text": [
      "KNN accuracy: 92.29122055674517\n",
      "Random Forest accuracy: 91.64882226980728\n"
     ]
    }
   ],
   "source": [
    "for c_name, c in classifiers:\n",
    "    c.fit(X_train_PCA, y_train)\n",
    "    preds = c.predict(X_valid_PCA)\n",
    "    print(f'{c_name} accuracy: {accuracy_score(y_valid, preds)*100}')"
   ]
  },
  {
   "cell_type": "code",
   "execution_count": 222,
   "metadata": {},
   "outputs": [],
   "source": [
    "soft_VC = VotingClassifier(estimators=classifiers, voting='soft')\n",
    "soft_VC.fit(X_train_PCA, y_train)\n",
    "soft_pred = soft_VC.predict(X_valid_PCA)"
   ]
  },
  {
   "cell_type": "code",
   "execution_count": 223,
   "metadata": {},
   "outputs": [
    {
     "name": "stdout",
     "output_type": "stream",
     "text": [
      "Soft Voting Classifier score: 93.25481798715204\n"
     ]
    }
   ],
   "source": [
    "soft_vc = accuracy_score(y_valid, soft_pred)*100\n",
    "print(f'Soft Voting Classifier score: {soft_vc}')"
   ]
  },
  {
   "cell_type": "code",
   "execution_count": 224,
   "metadata": {},
   "outputs": [],
   "source": [
    "hard_VC = VotingClassifier(estimators=classifiers, voting='hard')\n",
    "hard_VC.fit(X_train_PCA, y_train)\n",
    "hard_pred = hard_VC.predict(X_valid_PCA)"
   ]
  },
  {
   "cell_type": "code",
   "execution_count": 225,
   "metadata": {},
   "outputs": [
    {
     "name": "stdout",
     "output_type": "stream",
     "text": [
      "Hard Voting Classifier score: 91.86295503211991\n"
     ]
    }
   ],
   "source": [
    "hard_vc = accuracy_score(y_valid, hard_pred)*100\n",
    "print(f'Hard Voting Classifier score: {hard_vc}')"
   ]
  },
  {
   "cell_type": "markdown",
   "metadata": {},
   "source": [
    "# results:"
   ]
  },
  {
   "cell_type": "code",
   "execution_count": 226,
   "metadata": {},
   "outputs": [
    {
     "data": {
      "text/html": [
       "<div>\n",
       "<style scoped>\n",
       "    .dataframe tbody tr th:only-of-type {\n",
       "        vertical-align: middle;\n",
       "    }\n",
       "\n",
       "    .dataframe tbody tr th {\n",
       "        vertical-align: top;\n",
       "    }\n",
       "\n",
       "    .dataframe thead th {\n",
       "        text-align: right;\n",
       "    }\n",
       "</style>\n",
       "<table border=\"1\" class=\"dataframe\">\n",
       "  <thead>\n",
       "    <tr style=\"text-align: right;\">\n",
       "      <th></th>\n",
       "      <th>score - before PCA</th>\n",
       "    </tr>\n",
       "  </thead>\n",
       "  <tbody>\n",
       "    <tr>\n",
       "      <th>knn</th>\n",
       "      <td>92.184154</td>\n",
       "    </tr>\n",
       "    <tr>\n",
       "      <th>logistic regression</th>\n",
       "      <td>89.293362</td>\n",
       "    </tr>\n",
       "    <tr>\n",
       "      <th>Gaussian Naive Bayes</th>\n",
       "      <td>87.044968</td>\n",
       "    </tr>\n",
       "    <tr>\n",
       "      <th>Random Forest</th>\n",
       "      <td>96.145610</td>\n",
       "    </tr>\n",
       "    <tr>\n",
       "      <th>AdaBoost</th>\n",
       "      <td>80.728051</td>\n",
       "    </tr>\n",
       "    <tr>\n",
       "      <th>XGBoost</th>\n",
       "      <td>97.430407</td>\n",
       "    </tr>\n",
       "  </tbody>\n",
       "</table>\n",
       "</div>"
      ],
      "text/plain": [
       "                      score - before PCA\n",
       "knn                            92.184154\n",
       "logistic regression            89.293362\n",
       "Gaussian Naive Bayes           87.044968\n",
       "Random Forest                  96.145610\n",
       "AdaBoost                       80.728051\n",
       "XGBoost                        97.430407"
      ]
     },
     "execution_count": 226,
     "metadata": {},
     "output_type": "execute_result"
    }
   ],
   "source": [
    "score_list = [knn_score,lr_score,gnb_score,rfc_score,adab_score,xgb_score]\n",
    "score_df = pd.DataFrame(score_list, index = ['knn','logistic regression','Gaussian Naive Bayes','Random Forest','AdaBoost','XGBoost'], columns = ['score - before PCA'])\n",
    "score_df"
   ]
  },
  {
   "cell_type": "code",
   "execution_count": 227,
   "metadata": {},
   "outputs": [
    {
     "data": {
      "text/html": [
       "<div>\n",
       "<style scoped>\n",
       "    .dataframe tbody tr th:only-of-type {\n",
       "        vertical-align: middle;\n",
       "    }\n",
       "\n",
       "    .dataframe tbody tr th {\n",
       "        vertical-align: top;\n",
       "    }\n",
       "\n",
       "    .dataframe thead th {\n",
       "        text-align: right;\n",
       "    }\n",
       "</style>\n",
       "<table border=\"1\" class=\"dataframe\">\n",
       "  <thead>\n",
       "    <tr style=\"text-align: right;\">\n",
       "      <th></th>\n",
       "      <th>score</th>\n",
       "    </tr>\n",
       "  </thead>\n",
       "  <tbody>\n",
       "    <tr>\n",
       "      <th>knn</th>\n",
       "      <td>92.291221</td>\n",
       "    </tr>\n",
       "    <tr>\n",
       "      <th>Random Forest</th>\n",
       "      <td>91.648822</td>\n",
       "    </tr>\n",
       "    <tr>\n",
       "      <th>ada boost</th>\n",
       "      <td>74.518201</td>\n",
       "    </tr>\n",
       "    <tr>\n",
       "      <th>xgboost</th>\n",
       "      <td>93.683084</td>\n",
       "    </tr>\n",
       "    <tr>\n",
       "      <th>Stacking</th>\n",
       "      <td>94.218415</td>\n",
       "    </tr>\n",
       "    <tr>\n",
       "      <th>Soft Voting</th>\n",
       "      <td>93.254818</td>\n",
       "    </tr>\n",
       "    <tr>\n",
       "      <th>Hard Voting</th>\n",
       "      <td>91.862955</td>\n",
       "    </tr>\n",
       "  </tbody>\n",
       "</table>\n",
       "</div>"
      ],
      "text/plain": [
       "                   score\n",
       "knn            92.291221\n",
       "Random Forest  91.648822\n",
       "ada boost      74.518201\n",
       "xgboost        93.683084\n",
       "Stacking       94.218415\n",
       "Soft Voting    93.254818\n",
       "Hard Voting    91.862955"
      ]
     },
     "execution_count": 227,
     "metadata": {},
     "output_type": "execute_result"
    }
   ],
   "source": [
    "score_list_PCA = [knnPCA_score,rfcPCA_score,adabPCA_score,xgb_PCA_score,stack_clf_score,soft_vc,hard_vc]\n",
    "score_PCA_df = pd.DataFrame(score_list_PCA, index = ['knn', 'Random Forest','ada boost','xgboost','Stacking','Soft Voting','Hard Voting'], columns = ['score'])\n",
    "score_PCA_df"
   ]
  },
  {
   "cell_type": "code",
   "execution_count": 228,
   "metadata": {},
   "outputs": [],
   "source": [
    "X_test_reduced = pca.transform(X_test)"
   ]
  },
  {
   "cell_type": "markdown",
   "metadata": {},
   "source": [
    "<B> before PCA:"
   ]
  },
  {
   "cell_type": "code",
   "execution_count": 175,
   "metadata": {},
   "outputs": [
    {
     "name": "stdout",
     "output_type": "stream",
     "text": [
      "knn score: 89.00445765230312\n"
     ]
    }
   ],
   "source": [
    "# knn\n",
    "knn_pred = knn.predict(X_test)\n",
    "final_knn = accuracy_score(test_labels, knn_pred)*100\n",
    "print(f'knn score: {final_knn}')"
   ]
  },
  {
   "cell_type": "code",
   "execution_count": 176,
   "metadata": {},
   "outputs": [
    {
     "name": "stdout",
     "output_type": "stream",
     "text": [
      "logistic regression score: 86.55274888558692\n"
     ]
    }
   ],
   "source": [
    "# logistic regression\n",
    "lr_pred = lr.predict(X_test)\n",
    "final_lr = accuracy_score(test_labels, lr_pred)*100\n",
    "print(f'logistic regression score: {final_lr}')"
   ]
  },
  {
   "cell_type": "code",
   "execution_count": 177,
   "metadata": {},
   "outputs": [
    {
     "name": "stdout",
     "output_type": "stream",
     "text": [
      "gaussian naive bayes score: 87.89004457652302\n"
     ]
    }
   ],
   "source": [
    "# Gaussian Naive Bayes\n",
    "gnb_pred = gnb.predict(X_test)\n",
    "final_gnb = accuracy_score(test_labels, gnb_pred)*100\n",
    "print(f'gaussian naive bayes score: {final_gnb}')"
   ]
  },
  {
   "cell_type": "code",
   "execution_count": 185,
   "metadata": {},
   "outputs": [
    {
     "name": "stdout",
     "output_type": "stream",
     "text": [
      "Random Forest score: 89.15304606240714\n"
     ]
    }
   ],
   "source": [
    "# Random Forest\n",
    "rfc_pred = rfc.predict(X_test)\n",
    "final_rfc = metrics.accuracy_score(test_labels, rfc_pred)*100\n",
    "print(f'Random Forest score: {final_rfc}')"
   ]
  },
  {
   "cell_type": "code",
   "execution_count": 186,
   "metadata": {},
   "outputs": [
    {
     "name": "stdout",
     "output_type": "stream",
     "text": [
      "ada boost score: 74.66567607726597\n"
     ]
    }
   ],
   "source": [
    "# AdaBoost\n",
    "adab_pred  = adab.predict(X_test)\n",
    "final_adab =  metrics.accuracy_score(test_labels, adab_pred)*100\n",
    "print(f'ada boost score: {final_adab}')"
   ]
  },
  {
   "cell_type": "code",
   "execution_count": 187,
   "metadata": {},
   "outputs": [
    {
     "name": "stdout",
     "output_type": "stream",
     "text": [
      "XGBoost score: 89.45022288261517\n"
     ]
    }
   ],
   "source": [
    "# XGBoost\n",
    "xgb_c_pred = xgb_c.predict(X_test)\n",
    "final_xgb = accuracy_score(test_labels, xgb_c_pred)*100\n",
    "print(f'XGBoost score: {final_xgb}')"
   ]
  },
  {
   "cell_type": "markdown",
   "metadata": {},
   "source": [
    "<B> after PCA:"
   ]
  },
  {
   "cell_type": "code",
   "execution_count": 229,
   "metadata": {},
   "outputs": [
    {
     "name": "stdout",
     "output_type": "stream",
     "text": [
      "knn score: 88.41010401188707\n"
     ]
    }
   ],
   "source": [
    "# knn\n",
    "knnPCA_pred = knnPCA.predict(X_test_reduced)\n",
    "final_knnPCA = accuracy_score(test_labels, knnPCA_pred)*100\n",
    "print(f'knn score: {final_knnPCA}')"
   ]
  },
  {
   "cell_type": "code",
   "execution_count": 230,
   "metadata": {},
   "outputs": [
    {
     "name": "stdout",
     "output_type": "stream",
     "text": [
      "Random Forest score: 87.592867756315\n"
     ]
    }
   ],
   "source": [
    "# Random Forest\n",
    "rfcPCA_pred = rfcPCA.predict(X_test_reduced)\n",
    "final_rfcPCA = metrics.accuracy_score(test_labels, rfcPCA_pred)*100\n",
    "print(f'Random Forest score: {final_rfcPCA}')"
   ]
  },
  {
   "cell_type": "code",
   "execution_count": 231,
   "metadata": {},
   "outputs": [
    {
     "name": "stdout",
     "output_type": "stream",
     "text": [
      "ada boost score: 78.97473997028231\n"
     ]
    }
   ],
   "source": [
    "# AdaBoost\n",
    "adabPCA_pred = adabPCA.predict(X_test_reduced)\n",
    "final_adabPCA =  metrics.accuracy_score(test_labels, adabPCA_pred)*100\n",
    "print(f'ada boost score: {final_adabPCA}')"
   ]
  },
  {
   "cell_type": "code",
   "execution_count": 232,
   "metadata": {},
   "outputs": [
    {
     "name": "stdout",
     "output_type": "stream",
     "text": [
      "XGBoost score: 87.96433878157504\n"
     ]
    }
   ],
   "source": [
    "# XGBoost\n",
    "xgb_PCA_pred = xgb_PCA.predict(X_test_reduced)\n",
    "final_xgb_PCA = metrics.accuracy_score(test_labels, xgb_PCA_pred)*100\n",
    "print(f'XGBoost score: {final_xgb_PCA}')"
   ]
  },
  {
   "cell_type": "code",
   "execution_count": 233,
   "metadata": {},
   "outputs": [
    {
     "name": "stdout",
     "output_type": "stream",
     "text": [
      "Stacking score: 87.29569093610698\n"
     ]
    }
   ],
   "source": [
    "# Stacking\n",
    "stack_clf_pred = stack_clf.predict(X_test_reduced)\n",
    "final_stack_clf = metrics.accuracy_score(test_labels, stack_clf_pred)*100\n",
    "print(f'Stacking score: {final_stack_clf}')"
   ]
  },
  {
   "cell_type": "code",
   "execution_count": 234,
   "metadata": {},
   "outputs": [
    {
     "name": "stdout",
     "output_type": "stream",
     "text": [
      "Soft Voting score: 88.7072808320951\n"
     ]
    }
   ],
   "source": [
    "# Soft Voting\n",
    "soft_pred = soft_VC.predict(X_test_reduced)\n",
    "final_soft_VC = metrics.accuracy_score(test_labels, soft_pred)*100\n",
    "print(f'Soft Voting score: {final_soft_VC}')"
   ]
  },
  {
   "cell_type": "code",
   "execution_count": 235,
   "metadata": {},
   "outputs": [
    {
     "name": "stdout",
     "output_type": "stream",
     "text": [
      "Hard Voting score: 86.77563150074295\n"
     ]
    }
   ],
   "source": [
    "# Hard Voting\n",
    "hard_pred = hard_VC.predict(X_test_reduced)\n",
    "final_hard_VC = metrics.accuracy_score(test_labels, hard_pred)*100\n",
    "print(f'Hard Voting score: {final_hard_VC}')"
   ]
  },
  {
   "cell_type": "code",
   "execution_count": null,
   "metadata": {},
   "outputs": [],
   "source": []
  }
 ],
 "metadata": {
  "kernelspec": {
   "display_name": "Python 3",
   "language": "python",
   "name": "python3"
  },
  "language_info": {
   "codemirror_mode": {
    "name": "ipython",
    "version": 3
   },
   "file_extension": ".py",
   "mimetype": "text/x-python",
   "name": "python",
   "nbconvert_exporter": "python",
   "pygments_lexer": "ipython3",
   "version": "3.8.3"
  }
 },
 "nbformat": 4,
 "nbformat_minor": 4
}
